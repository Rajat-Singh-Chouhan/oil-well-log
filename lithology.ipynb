{
  "nbformat": 4,
  "nbformat_minor": 0,
  "metadata": {
    "colab": {
      "provenance": [],
      "collapsed_sections": [],
      "include_colab_link": true
    },
    "kernelspec": {
      "name": "python3",
      "display_name": "Python 3"
    },
    "language_info": {
      "name": "python"
    }
  },
  "cells": [
    {
      "cell_type": "markdown",
      "metadata": {
        "id": "view-in-github",
        "colab_type": "text"
      },
      "source": [
        "<a href=\"https://colab.research.google.com/github/Rajat-Singh-Chouhan/oil-well-log/blob/main/lithology.ipynb\" target=\"_parent\"><img src=\"https://colab.research.google.com/assets/colab-badge.svg\" alt=\"Open In Colab\"/></a>"
      ]
    },
    {
      "cell_type": "code",
      "execution_count": 237,
      "metadata": {
        "id": "47o7hV67DGSG"
      },
      "outputs": [],
      "source": [
        "import pandas as pd\n",
        "import numpy as np\n",
        "import seaborn as sns\n",
        "import matplotlib.pyplot as plt"
      ]
    },
    {
      "cell_type": "code",
      "source": [
        "from google.colab import drive\n",
        "drive.mount('/content/drive')"
      ],
      "metadata": {
        "colab": {
          "base_uri": "https://localhost:8080/"
        },
        "id": "MvQ_Hxd0jxK3",
        "outputId": "7f172c3e-9580-4357-a73c-3f16db211125"
      },
      "execution_count": 238,
      "outputs": [
        {
          "output_type": "stream",
          "name": "stdout",
          "text": [
            "Drive already mounted at /content/drive; to attempt to forcibly remount, call drive.mount(\"/content/drive\", force_remount=True).\n"
          ]
        }
      ]
    },
    {
      "cell_type": "code",
      "source": [
        "ds=pd.read_csv(\"/content/drive/MyDrive/lithology_input.csv\")"
      ],
      "metadata": {
        "id": "DMTYzuoHDk0e"
      },
      "execution_count": 239,
      "outputs": []
    },
    {
      "cell_type": "code",
      "source": [
        "ds.head()"
      ],
      "metadata": {
        "colab": {
          "base_uri": "https://localhost:8080/",
          "height": 206
        },
        "id": "I1AqrHhmDtjw",
        "outputId": "a490894a-1fa9-4e68-e44f-921e847f9d03"
      },
      "execution_count": 240,
      "outputs": [
        {
          "output_type": "execute_result",
          "data": {
            "text/plain": [
              "   gamma ray  density  neutron porosity  lithology\n",
              "0   73.59512  2.58541           0.37612  limestone\n",
              "1   73.97836  2.55129           0.41289  limestone\n",
              "2   72.04334  2.57068           0.38331  limestone\n",
              "3   72.76338  2.60603           0.37881  limestone\n",
              "4   66.89448  2.59872           0.39401  limestone"
            ],
            "text/html": [
              "\n",
              "  <div id=\"df-05706dc4-3ee9-44dd-a195-afd4e72f566a\">\n",
              "    <div class=\"colab-df-container\">\n",
              "      <div>\n",
              "<style scoped>\n",
              "    .dataframe tbody tr th:only-of-type {\n",
              "        vertical-align: middle;\n",
              "    }\n",
              "\n",
              "    .dataframe tbody tr th {\n",
              "        vertical-align: top;\n",
              "    }\n",
              "\n",
              "    .dataframe thead th {\n",
              "        text-align: right;\n",
              "    }\n",
              "</style>\n",
              "<table border=\"1\" class=\"dataframe\">\n",
              "  <thead>\n",
              "    <tr style=\"text-align: right;\">\n",
              "      <th></th>\n",
              "      <th>gamma ray</th>\n",
              "      <th>density</th>\n",
              "      <th>neutron porosity</th>\n",
              "      <th>lithology</th>\n",
              "    </tr>\n",
              "  </thead>\n",
              "  <tbody>\n",
              "    <tr>\n",
              "      <th>0</th>\n",
              "      <td>73.59512</td>\n",
              "      <td>2.58541</td>\n",
              "      <td>0.37612</td>\n",
              "      <td>limestone</td>\n",
              "    </tr>\n",
              "    <tr>\n",
              "      <th>1</th>\n",
              "      <td>73.97836</td>\n",
              "      <td>2.55129</td>\n",
              "      <td>0.41289</td>\n",
              "      <td>limestone</td>\n",
              "    </tr>\n",
              "    <tr>\n",
              "      <th>2</th>\n",
              "      <td>72.04334</td>\n",
              "      <td>2.57068</td>\n",
              "      <td>0.38331</td>\n",
              "      <td>limestone</td>\n",
              "    </tr>\n",
              "    <tr>\n",
              "      <th>3</th>\n",
              "      <td>72.76338</td>\n",
              "      <td>2.60603</td>\n",
              "      <td>0.37881</td>\n",
              "      <td>limestone</td>\n",
              "    </tr>\n",
              "    <tr>\n",
              "      <th>4</th>\n",
              "      <td>66.89448</td>\n",
              "      <td>2.59872</td>\n",
              "      <td>0.39401</td>\n",
              "      <td>limestone</td>\n",
              "    </tr>\n",
              "  </tbody>\n",
              "</table>\n",
              "</div>\n",
              "      <button class=\"colab-df-convert\" onclick=\"convertToInteractive('df-05706dc4-3ee9-44dd-a195-afd4e72f566a')\"\n",
              "              title=\"Convert this dataframe to an interactive table.\"\n",
              "              style=\"display:none;\">\n",
              "        \n",
              "  <svg xmlns=\"http://www.w3.org/2000/svg\" height=\"24px\"viewBox=\"0 0 24 24\"\n",
              "       width=\"24px\">\n",
              "    <path d=\"M0 0h24v24H0V0z\" fill=\"none\"/>\n",
              "    <path d=\"M18.56 5.44l.94 2.06.94-2.06 2.06-.94-2.06-.94-.94-2.06-.94 2.06-2.06.94zm-11 1L8.5 8.5l.94-2.06 2.06-.94-2.06-.94L8.5 2.5l-.94 2.06-2.06.94zm10 10l.94 2.06.94-2.06 2.06-.94-2.06-.94-.94-2.06-.94 2.06-2.06.94z\"/><path d=\"M17.41 7.96l-1.37-1.37c-.4-.4-.92-.59-1.43-.59-.52 0-1.04.2-1.43.59L10.3 9.45l-7.72 7.72c-.78.78-.78 2.05 0 2.83L4 21.41c.39.39.9.59 1.41.59.51 0 1.02-.2 1.41-.59l7.78-7.78 2.81-2.81c.8-.78.8-2.07 0-2.86zM5.41 20L4 18.59l7.72-7.72 1.47 1.35L5.41 20z\"/>\n",
              "  </svg>\n",
              "      </button>\n",
              "      \n",
              "  <style>\n",
              "    .colab-df-container {\n",
              "      display:flex;\n",
              "      flex-wrap:wrap;\n",
              "      gap: 12px;\n",
              "    }\n",
              "\n",
              "    .colab-df-convert {\n",
              "      background-color: #E8F0FE;\n",
              "      border: none;\n",
              "      border-radius: 50%;\n",
              "      cursor: pointer;\n",
              "      display: none;\n",
              "      fill: #1967D2;\n",
              "      height: 32px;\n",
              "      padding: 0 0 0 0;\n",
              "      width: 32px;\n",
              "    }\n",
              "\n",
              "    .colab-df-convert:hover {\n",
              "      background-color: #E2EBFA;\n",
              "      box-shadow: 0px 1px 2px rgba(60, 64, 67, 0.3), 0px 1px 3px 1px rgba(60, 64, 67, 0.15);\n",
              "      fill: #174EA6;\n",
              "    }\n",
              "\n",
              "    [theme=dark] .colab-df-convert {\n",
              "      background-color: #3B4455;\n",
              "      fill: #D2E3FC;\n",
              "    }\n",
              "\n",
              "    [theme=dark] .colab-df-convert:hover {\n",
              "      background-color: #434B5C;\n",
              "      box-shadow: 0px 1px 3px 1px rgba(0, 0, 0, 0.15);\n",
              "      filter: drop-shadow(0px 1px 2px rgba(0, 0, 0, 0.3));\n",
              "      fill: #FFFFFF;\n",
              "    }\n",
              "  </style>\n",
              "\n",
              "      <script>\n",
              "        const buttonEl =\n",
              "          document.querySelector('#df-05706dc4-3ee9-44dd-a195-afd4e72f566a button.colab-df-convert');\n",
              "        buttonEl.style.display =\n",
              "          google.colab.kernel.accessAllowed ? 'block' : 'none';\n",
              "\n",
              "        async function convertToInteractive(key) {\n",
              "          const element = document.querySelector('#df-05706dc4-3ee9-44dd-a195-afd4e72f566a');\n",
              "          const dataTable =\n",
              "            await google.colab.kernel.invokeFunction('convertToInteractive',\n",
              "                                                     [key], {});\n",
              "          if (!dataTable) return;\n",
              "\n",
              "          const docLinkHtml = 'Like what you see? Visit the ' +\n",
              "            '<a target=\"_blank\" href=https://colab.research.google.com/notebooks/data_table.ipynb>data table notebook</a>'\n",
              "            + ' to learn more about interactive tables.';\n",
              "          element.innerHTML = '';\n",
              "          dataTable['output_type'] = 'display_data';\n",
              "          await google.colab.output.renderOutput(dataTable, element);\n",
              "          const docLink = document.createElement('div');\n",
              "          docLink.innerHTML = docLinkHtml;\n",
              "          element.appendChild(docLink);\n",
              "        }\n",
              "      </script>\n",
              "    </div>\n",
              "  </div>\n",
              "  "
            ]
          },
          "metadata": {},
          "execution_count": 240
        }
      ]
    },
    {
      "cell_type": "code",
      "source": [
        "ds_limestone=ds.loc[ds[\"lithology\"]==\"limestone\"]\n",
        "ds_dolomite=ds.loc[ds[\"lithology\"]==\"dolomite\"]\n",
        "ds_shale=ds.loc[ds[\"lithology\"]==\"shale\"]\n",
        "ds_sandstone=ds.loc[ds[\"lithology\"]==\"sandstone\"]"
      ],
      "metadata": {
        "id": "jzqc3cCPD5BF"
      },
      "execution_count": 241,
      "outputs": []
    },
    {
      "cell_type": "code",
      "source": [
        "plt.plot(ds_limestone[\"gamma ray\"],np.zeros_like(ds_limestone[\"gamma ray\"]),\"o\")\n",
        "plt.plot(ds_dolomite[\"gamma ray\"],np.zeros_like(ds_dolomite[\"gamma ray\"]),\"o\")\n",
        "plt.plot(ds_shale[\"gamma ray\"],np.zeros_like(ds_shale[\"gamma ray\"]),\"o\")\n",
        "plt.plot(ds_sandstone[\"gamma ray\"],np.zeros_like(ds_sandstone[\"gamma ray\"]),\"o\")\n",
        "plt.title(\"gamma ray univariate\")\n",
        "plt.xlabel(\"gamma ray\")\n",
        "plt.legend(['limestone', 'dolomite','shale','sandstone'], loc='upper left')"
      ],
      "metadata": {
        "colab": {
          "base_uri": "https://localhost:8080/",
          "height": 312
        },
        "id": "tYsDcKtqFi-V",
        "outputId": "14a1d06f-1584-4440-f842-3407dc5a386f"
      },
      "execution_count": 242,
      "outputs": [
        {
          "output_type": "execute_result",
          "data": {
            "text/plain": [
              "<matplotlib.legend.Legend at 0x7f1020898110>"
            ]
          },
          "metadata": {},
          "execution_count": 242
        },
        {
          "output_type": "display_data",
          "data": {
            "text/plain": [
              "<Figure size 432x288 with 1 Axes>"
            ],
            "image/png": "[encoded data removed]"
          },
          "metadata": {
            "needs_background": "light"
          }
        }
      ]
    },
    {
      "cell_type": "code",
      "source": [
        "plt.plot(ds_limestone[\"density\"],np.zeros_like(ds_limestone[\"density\"]),\"o\")\n",
        "plt.plot(ds_dolomite[\"density\"],np.zeros_like(ds_dolomite[\"density\"]),\"o\")\n",
        "plt.plot(ds_shale[\"density\"],np.zeros_like(ds_shale[\"density\"]),\"o\")\n",
        "plt.plot(ds_sandstone[\"density\"],np.zeros_like(ds_sandstone[\"density\"]),\"o\")\n",
        "plt.title(\"density univariate\")\n",
        "plt.xlabel(\"density ray\")\n",
        "plt.legend(['limestone', 'dolomite','shale','sandstone'], loc='upper left')"
      ],
      "metadata": {
        "colab": {
          "base_uri": "https://localhost:8080/",
          "height": 312
        },
        "id": "4PVgx7kKIPTO",
        "outputId": "447293e9-b265-4d74-ecc0-5dab4d090ba4"
      },
      "execution_count": 243,
      "outputs": [
        {
          "output_type": "execute_result",
          "data": {
            "text/plain": [
              "<matplotlib.legend.Legend at 0x7f10208edc90>"
            ]
          },
          "metadata": {},
          "execution_count": 243
        },
        {
          "output_type": "display_data",
          "data": {
            "text/plain": [
              "<Figure size 432x288 with 1 Axes>"
            ],
            "image/png": "[encoded data removed]"
          },
          "metadata": {
            "needs_background": "light"
          }
        }
      ]
    },
    {
      "cell_type": "code",
      "source": [
        "plt.plot(ds_limestone[\"neutron porosity\"],np.zeros_like(ds_limestone[\"neutron porosity\"]),\"o\")\n",
        "plt.plot(ds_dolomite[\"neutron porosity\"],np.zeros_like(ds_dolomite[\"neutron porosity\"]),\"o\")\n",
        "plt.plot(ds_shale[\"neutron porosity\"],np.zeros_like(ds_shale[\"neutron porosity\"]),\"o\")\n",
        "plt.plot(ds_sandstone[\"neutron porosity\"],np.zeros_like(ds_sandstone[\"neutron porosity\"]),\"o\")\n",
        "plt.title(\"neutron porosity univariate\")\n",
        "plt.xlabel(\"neutron porosity\")\n",
        "plt.legend(['limestone', 'dolomite','shale','sandstone'], loc='upper left')"
      ],
      "metadata": {
        "colab": {
          "base_uri": "https://localhost:8080/",
          "height": 312
        },
        "id": "z37d5MWsIpY_",
        "outputId": "b33ec30f-4f02-41c8-9e98-14063e52bf4c"
      },
      "execution_count": 244,
      "outputs": [
        {
          "output_type": "execute_result",
          "data": {
            "text/plain": [
              "<matplotlib.legend.Legend at 0x7f1020797ad0>"
            ]
          },
          "metadata": {},
          "execution_count": 244
        },
        {
          "output_type": "display_data",
          "data": {
            "text/plain": [
              "<Figure size 432x288 with 1 Axes>"
            ],
            "image/png": "[encoded data removed]"
          },
          "metadata": {
            "needs_background": "light"
          }
        }
      ]
    },
    {
      "cell_type": "code",
      "source": [
        "sns.pairplot(ds, hue=\"lithology\", size=5)\n",
        "plt.legend(['limestone', 'dolomite','shale','sandstone'], loc='upper left')\n"
      ],
      "metadata": {
        "colab": {
          "base_uri": "https://localhost:8080/",
          "height": 1000
        },
        "id": "PfuGqDJRJBNJ",
        "outputId": "17d0a062-0957-4458-8bcd-ce05a8d4a2d7"
      },
      "execution_count": 245,
      "outputs": [
        {
          "output_type": "stream",
          "name": "stderr",
          "text": [
            "/usr/local/lib/python3.7/dist-packages/seaborn/axisgrid.py:2076: UserWarning: The `size` parameter has been renamed to `height`; please update your code.\n",
            "  warnings.warn(msg, UserWarning)\n"
          ]
        },
        {
          "output_type": "execute_result",
          "data": {
            "text/plain": [
              "<matplotlib.legend.Legend at 0x7f10207eff10>"
            ]
          },
          "metadata": {},
          "execution_count": 245
        },
        {
          "output_type": "display_data",
          "data": {
            "text/plain": [
              "<Figure size 1167.75x1080 with 12 Axes>"
            ],
            "image/png": "[encoded data removed]"
          },
          "metadata": {
            "needs_background": "light"
          }
        }
      ]
    },
    {
      "cell_type": "markdown",
      "source": [
        "KNN Algorithm"
      ],
      "metadata": {
        "id": "jntLcMl0pVHR"
      }
    },
    {
      "cell_type": "code",
      "source": [
        "df=pd.read_csv(\"/content/drive/MyDrive/lithology_output.csv\")\n",
        "df.head()"
      ],
      "metadata": {
        "colab": {
          "base_uri": "https://localhost:8080/",
          "height": 206
        },
        "id": "bUBW-WgzpdWd",
        "outputId": "dd3eaa39-e5a2-4e02-dccb-3566e5c42e55"
      },
      "execution_count": 246,
      "outputs": [
        {
          "output_type": "execute_result",
          "data": {
            "text/plain": [
              "   limestone  dolomite  shale  sandstone\n",
              "0          1         0      0          0\n",
              "1          1         0      0          0\n",
              "2          1         0      0          0\n",
              "3          1         0      0          0\n",
              "4          1         0      0          0"
            ],
            "text/html": [
              "\n",
              "  <div id=\"df-dfab84a4-a4ca-4d55-b3bf-52c1a8f11d4a\">\n",
              "    <div class=\"colab-df-container\">\n",
              "      <div>\n",
              "<style scoped>\n",
              "    .dataframe tbody tr th:only-of-type {\n",
              "        vertical-align: middle;\n",
              "    }\n",
              "\n",
              "    .dataframe tbody tr th {\n",
              "        vertical-align: top;\n",
              "    }\n",
              "\n",
              "    .dataframe thead th {\n",
              "        text-align: right;\n",
              "    }\n",
              "</style>\n",
              "<table border=\"1\" class=\"dataframe\">\n",
              "  <thead>\n",
              "    <tr style=\"text-align: right;\">\n",
              "      <th></th>\n",
              "      <th>limestone</th>\n",
              "      <th>dolomite</th>\n",
              "      <th>shale</th>\n",
              "      <th>sandstone</th>\n",
              "    </tr>\n",
              "  </thead>\n",
              "  <tbody>\n",
              "    <tr>\n",
              "      <th>0</th>\n",
              "      <td>1</td>\n",
              "      <td>0</td>\n",
              "      <td>0</td>\n",
              "      <td>0</td>\n",
              "    </tr>\n",
              "    <tr>\n",
              "      <th>1</th>\n",
              "      <td>1</td>\n",
              "      <td>0</td>\n",
              "      <td>0</td>\n",
              "      <td>0</td>\n",
              "    </tr>\n",
              "    <tr>\n",
              "      <th>2</th>\n",
              "      <td>1</td>\n",
              "      <td>0</td>\n",
              "      <td>0</td>\n",
              "      <td>0</td>\n",
              "    </tr>\n",
              "    <tr>\n",
              "      <th>3</th>\n",
              "      <td>1</td>\n",
              "      <td>0</td>\n",
              "      <td>0</td>\n",
              "      <td>0</td>\n",
              "    </tr>\n",
              "    <tr>\n",
              "      <th>4</th>\n",
              "      <td>1</td>\n",
              "      <td>0</td>\n",
              "      <td>0</td>\n",
              "      <td>0</td>\n",
              "    </tr>\n",
              "  </tbody>\n",
              "</table>\n",
              "</div>\n",
              "      <button class=\"colab-df-convert\" onclick=\"convertToInteractive('df-dfab84a4-a4ca-4d55-b3bf-52c1a8f11d4a')\"\n",
              "              title=\"Convert this dataframe to an interactive table.\"\n",
              "              style=\"display:none;\">\n",
              "        \n",
              "  <svg xmlns=\"http://www.w3.org/2000/svg\" height=\"24px\"viewBox=\"0 0 24 24\"\n",
              "       width=\"24px\">\n",
              "    <path d=\"M0 0h24v24H0V0z\" fill=\"none\"/>\n",
              "    <path d=\"M18.56 5.44l.94 2.06.94-2.06 2.06-.94-2.06-.94-.94-2.06-.94 2.06-2.06.94zm-11 1L8.5 8.5l.94-2.06 2.06-.94-2.06-.94L8.5 2.5l-.94 2.06-2.06.94zm10 10l.94 2.06.94-2.06 2.06-.94-2.06-.94-.94-2.06-.94 2.06-2.06.94z\"/><path d=\"M17.41 7.96l-1.37-1.37c-.4-.4-.92-.59-1.43-.59-.52 0-1.04.2-1.43.59L10.3 9.45l-7.72 7.72c-.78.78-.78 2.05 0 2.83L4 21.41c.39.39.9.59 1.41.59.51 0 1.02-.2 1.41-.59l7.78-7.78 2.81-2.81c.8-.78.8-2.07 0-2.86zM5.41 20L4 18.59l7.72-7.72 1.47 1.35L5.41 20z\"/>\n",
              "  </svg>\n",
              "      </button>\n",
              "      \n",
              "  <style>\n",
              "    .colab-df-container {\n",
              "      display:flex;\n",
              "      flex-wrap:wrap;\n",
              "      gap: 12px;\n",
              "    }\n",
              "\n",
              "    .colab-df-convert {\n",
              "      background-color: #E8F0FE;\n",
              "      border: none;\n",
              "      border-radius: 50%;\n",
              "      cursor: pointer;\n",
              "      display: none;\n",
              "      fill: #1967D2;\n",
              "      height: 32px;\n",
              "      padding: 0 0 0 0;\n",
              "      width: 32px;\n",
              "    }\n",
              "\n",
              "    .colab-df-convert:hover {\n",
              "      background-color: #E2EBFA;\n",
              "      box-shadow: 0px 1px 2px rgba(60, 64, 67, 0.3), 0px 1px 3px 1px rgba(60, 64, 67, 0.15);\n",
              "      fill: #174EA6;\n",
              "    }\n",
              "\n",
              "    [theme=dark] .colab-df-convert {\n",
              "      background-color: #3B4455;\n",
              "      fill: #D2E3FC;\n",
              "    }\n",
              "\n",
              "    [theme=dark] .colab-df-convert:hover {\n",
              "      background-color: #434B5C;\n",
              "      box-shadow: 0px 1px 3px 1px rgba(0, 0, 0, 0.15);\n",
              "      filter: drop-shadow(0px 1px 2px rgba(0, 0, 0, 0.3));\n",
              "      fill: #FFFFFF;\n",
              "    }\n",
              "  </style>\n",
              "\n",
              "      <script>\n",
              "        const buttonEl =\n",
              "          document.querySelector('#df-dfab84a4-a4ca-4d55-b3bf-52c1a8f11d4a button.colab-df-convert');\n",
              "        buttonEl.style.display =\n",
              "          google.colab.kernel.accessAllowed ? 'block' : 'none';\n",
              "\n",
              "        async function convertToInteractive(key) {\n",
              "          const element = document.querySelector('#df-dfab84a4-a4ca-4d55-b3bf-52c1a8f11d4a');\n",
              "          const dataTable =\n",
              "            await google.colab.kernel.invokeFunction('convertToInteractive',\n",
              "                                                     [key], {});\n",
              "          if (!dataTable) return;\n",
              "\n",
              "          const docLinkHtml = 'Like what you see? Visit the ' +\n",
              "            '<a target=\"_blank\" href=https://colab.research.google.com/notebooks/data_table.ipynb>data table notebook</a>'\n",
              "            + ' to learn more about interactive tables.';\n",
              "          element.innerHTML = '';\n",
              "          dataTable['output_type'] = 'display_data';\n",
              "          await google.colab.output.renderOutput(dataTable, element);\n",
              "          const docLink = document.createElement('div');\n",
              "          docLink.innerHTML = docLinkHtml;\n",
              "          element.appendChild(docLink);\n",
              "        }\n",
              "      </script>\n",
              "    </div>\n",
              "  </div>\n",
              "  "
            ]
          },
          "metadata": {},
          "execution_count": 246
        }
      ]
    },
    {
      "cell_type": "code",
      "source": [
        "x=ds.loc[:, ds.columns != \"lithology\"]\n",
        "y=df.loc[:, [\"limestone\",\"dolomite\",\"shale\",\"sandstone\"]]\n"
      ],
      "metadata": {
        "id": "WY0dDU9np0nk"
      },
      "execution_count": 247,
      "outputs": []
    },
    {
      "cell_type": "code",
      "source": [
        "from sklearn.model_selection import train_test_split\n",
        "x_train, x_test, y_train, y_test = train_test_split(x,y,test_size = 0.1, random_state = 42)"
      ],
      "metadata": {
        "id": "BDAceexisWal"
      },
      "execution_count": 248,
      "outputs": []
    },
    {
      "cell_type": "code",
      "source": [
        "from sklearn.neighbors import KNeighborsClassifier  \n",
        "classifier= KNeighborsClassifier(n_neighbors=5, metric='minkowski', p=2 )  \n",
        "classifier.fit(x_train, y_train)"
      ],
      "metadata": {
        "colab": {
          "base_uri": "https://localhost:8080/"
        },
        "id": "H259-zlWq6nH",
        "outputId": "9db62f20-e139-46e7-9279-2fa64f88960c"
      },
      "execution_count": 249,
      "outputs": [
        {
          "output_type": "execute_result",
          "data": {
            "text/plain": [
              "KNeighborsClassifier()"
            ]
          },
          "metadata": {},
          "execution_count": 249
        }
      ]
    },
    {
      "cell_type": "code",
      "source": [
        "y_pred= classifier.predict(x_test) \n",
        "print(y_test)\n",
        "print(y_pred)"
      ],
      "metadata": {
        "colab": {
          "base_uri": "https://localhost:8080/"
        },
        "id": "WqgAIlPcrDDd",
        "outputId": "fc2c3d1d-5a89-42cc-fa0b-22a932b7b27a"
      },
      "execution_count": 250,
      "outputs": [
        {
          "output_type": "stream",
          "name": "stdout",
          "text": [
            "    limestone  dolomite  shale  sandstone\n",
            "30          0         0      0          1\n",
            "0           1         0      0          0\n",
            "22          1         0      0          0\n",
            "31          0         0      0          1\n",
            "18          1         0      0          0\n",
            "28          0         1      0          0\n",
            "10          1         0      0          0\n",
            "53          0         1      0          0\n",
            "4           1         0      0          0\n",
            "[[0 0 0 0]\n",
            " [1 0 0 0]\n",
            " [0 0 0 0]\n",
            " [0 0 0 0]\n",
            " [0 0 0 0]\n",
            " [0 0 1 0]\n",
            " [1 0 0 0]\n",
            " [0 1 0 0]\n",
            " [0 0 0 1]]\n"
          ]
        }
      ]
    },
    {
      "cell_type": "code",
      "source": [
        "from sklearn.metrics import confusion_matrix  \n",
        "# cm= confusion_matrix(y_test, y_pred)\n",
        "CM = confusion_matrix(y_test.values.argmax(axis=1), y_pred.argmax(axis=1))"
      ],
      "metadata": {
        "id": "XWkKrZa0tDuV"
      },
      "execution_count": 251,
      "outputs": []
    },
    {
      "cell_type": "code",
      "source": [
        "print(CM)"
      ],
      "metadata": {
        "colab": {
          "base_uri": "https://localhost:8080/"
        },
        "id": "KL3M_s49uJNr",
        "outputId": "f4b19791-79ca-4529-af58-f8c884604551"
      },
      "execution_count": 252,
      "outputs": [
        {
          "output_type": "stream",
          "name": "stdout",
          "text": [
            "[[4 0 0 1]\n",
            " [0 1 1 0]\n",
            " [0 0 0 0]\n",
            " [2 0 0 0]]\n"
          ]
        }
      ]
    },
    {
      "cell_type": "code",
      "source": [
        "from sklearn.metrics import classification_report\n",
        "CR = classification_report(y_test,y_pred,output_dict=False,target_names=['limestone',  'dolomite',  'shale',  'sandstone'])"
      ],
      "metadata": {
        "colab": {
          "base_uri": "https://localhost:8080/"
        },
        "id": "WX1wp1qd23gg",
        "outputId": "72cee9e0-76c2-436f-f607-845e82a2fd01"
      },
      "execution_count": 253,
      "outputs": [
        {
          "output_type": "stream",
          "name": "stderr",
          "text": [
            "/usr/local/lib/python3.7/dist-packages/sklearn/metrics/_classification.py:1318: UndefinedMetricWarning: Recall and F-score are ill-defined and being set to 0.0 in labels with no true samples. Use `zero_division` parameter to control this behavior.\n",
            "  _warn_prf(average, modifier, msg_start, len(result))\n",
            "/usr/local/lib/python3.7/dist-packages/sklearn/metrics/_classification.py:1318: UndefinedMetricWarning: Precision and F-score are ill-defined and being set to 0.0 in samples with no predicted labels. Use `zero_division` parameter to control this behavior.\n",
            "  _warn_prf(average, modifier, msg_start, len(result))\n"
          ]
        }
      ]
    },
    {
      "cell_type": "code",
      "source": [
        "print(CR)"
      ],
      "metadata": {
        "colab": {
          "base_uri": "https://localhost:8080/"
        },
        "id": "7haixHTw2z5D",
        "outputId": "24e40fcd-80b4-4864-92c7-38110b879208"
      },
      "execution_count": 254,
      "outputs": [
        {
          "output_type": "stream",
          "name": "stdout",
          "text": [
            "              precision    recall  f1-score   support\n",
            "\n",
            "   limestone       1.00      0.40      0.57         5\n",
            "    dolomite       1.00      0.50      0.67         2\n",
            "       shale       0.00      0.00      0.00         0\n",
            "   sandstone       0.00      0.00      0.00         2\n",
            "\n",
            "   micro avg       0.60      0.33      0.43         9\n",
            "   macro avg       0.50      0.23      0.31         9\n",
            "weighted avg       0.78      0.33      0.47         9\n",
            " samples avg       0.33      0.33      0.33         9\n",
            "\n"
          ]
        }
      ]
    },
    {
      "cell_type": "code",
      "source": [
        "from sklearn import metrics\n",
        "print(\"Accuracy:\",metrics.accuracy_score(y_test, y_pred))"
      ],
      "metadata": {
        "colab": {
          "base_uri": "https://localhost:8080/"
        },
        "id": "AeTVg5MJ4W5O",
        "outputId": "8841a44a-4743-44db-c78c-34d0982de377"
      },
      "execution_count": 255,
      "outputs": [
        {
          "output_type": "stream",
          "name": "stdout",
          "text": [
            "Accuracy: 0.3333333333333333\n"
          ]
        }
      ]
    },
    {
      "cell_type": "markdown",
      "source": [
        "ANN algorithm suitable"
      ],
      "metadata": {
        "id": "mcEWwWwFVuKR"
      }
    },
    {
      "cell_type": "code",
      "source": [
        "from sklearn.model_selection import train_test_split\n",
        "from sklearn.preprocessing import LabelEncoder, MinMaxScaler, StandardScaler\n",
        "from keras.models import Sequential\n",
        "from keras.layers import Dense"
      ],
      "metadata": {
        "id": "44jng2evqxxj"
      },
      "execution_count": 256,
      "outputs": []
    },
    {
      "cell_type": "code",
      "source": [
        "df=pd.read_csv(\"/content/drive/MyDrive/lithology_output.csv\")\n",
        "df.head() "
      ],
      "metadata": {
        "colab": {
          "base_uri": "https://localhost:8080/",
          "height": 206
        },
        "id": "zwJXGurtw2-B",
        "outputId": "447d58d8-e5af-4832-d76d-085ebd6b7093"
      },
      "execution_count": 257,
      "outputs": [
        {
          "output_type": "execute_result",
          "data": {
            "text/plain": [
              "   limestone  dolomite  shale  sandstone\n",
              "0          1         0      0          0\n",
              "1          1         0      0          0\n",
              "2          1         0      0          0\n",
              "3          1         0      0          0\n",
              "4          1         0      0          0"
            ],
            "text/html": [
              "\n",
              "  <div id=\"df-bdd11354-5fcc-4ee4-a876-83c102501865\">\n",
              "    <div class=\"colab-df-container\">\n",
              "      <div>\n",
              "<style scoped>\n",
              "    .dataframe tbody tr th:only-of-type {\n",
              "        vertical-align: middle;\n",
              "    }\n",
              "\n",
              "    .dataframe tbody tr th {\n",
              "        vertical-align: top;\n",
              "    }\n",
              "\n",
              "    .dataframe thead th {\n",
              "        text-align: right;\n",
              "    }\n",
              "</style>\n",
              "<table border=\"1\" class=\"dataframe\">\n",
              "  <thead>\n",
              "    <tr style=\"text-align: right;\">\n",
              "      <th></th>\n",
              "      <th>limestone</th>\n",
              "      <th>dolomite</th>\n",
              "      <th>shale</th>\n",
              "      <th>sandstone</th>\n",
              "    </tr>\n",
              "  </thead>\n",
              "  <tbody>\n",
              "    <tr>\n",
              "      <th>0</th>\n",
              "      <td>1</td>\n",
              "      <td>0</td>\n",
              "      <td>0</td>\n",
              "      <td>0</td>\n",
              "    </tr>\n",
              "    <tr>\n",
              "      <th>1</th>\n",
              "      <td>1</td>\n",
              "      <td>0</td>\n",
              "      <td>0</td>\n",
              "      <td>0</td>\n",
              "    </tr>\n",
              "    <tr>\n",
              "      <th>2</th>\n",
              "      <td>1</td>\n",
              "      <td>0</td>\n",
              "      <td>0</td>\n",
              "      <td>0</td>\n",
              "    </tr>\n",
              "    <tr>\n",
              "      <th>3</th>\n",
              "      <td>1</td>\n",
              "      <td>0</td>\n",
              "      <td>0</td>\n",
              "      <td>0</td>\n",
              "    </tr>\n",
              "    <tr>\n",
              "      <th>4</th>\n",
              "      <td>1</td>\n",
              "      <td>0</td>\n",
              "      <td>0</td>\n",
              "      <td>0</td>\n",
              "    </tr>\n",
              "  </tbody>\n",
              "</table>\n",
              "</div>\n",
              "      <button class=\"colab-df-convert\" onclick=\"convertToInteractive('df-bdd11354-5fcc-4ee4-a876-83c102501865')\"\n",
              "              title=\"Convert this dataframe to an interactive table.\"\n",
              "              style=\"display:none;\">\n",
              "        \n",
              "  <svg xmlns=\"http://www.w3.org/2000/svg\" height=\"24px\"viewBox=\"0 0 24 24\"\n",
              "       width=\"24px\">\n",
              "    <path d=\"M0 0h24v24H0V0z\" fill=\"none\"/>\n",
              "    <path d=\"M18.56 5.44l.94 2.06.94-2.06 2.06-.94-2.06-.94-.94-2.06-.94 2.06-2.06.94zm-11 1L8.5 8.5l.94-2.06 2.06-.94-2.06-.94L8.5 2.5l-.94 2.06-2.06.94zm10 10l.94 2.06.94-2.06 2.06-.94-2.06-.94-.94-2.06-.94 2.06-2.06.94z\"/><path d=\"M17.41 7.96l-1.37-1.37c-.4-.4-.92-.59-1.43-.59-.52 0-1.04.2-1.43.59L10.3 9.45l-7.72 7.72c-.78.78-.78 2.05 0 2.83L4 21.41c.39.39.9.59 1.41.59.51 0 1.02-.2 1.41-.59l7.78-7.78 2.81-2.81c.8-.78.8-2.07 0-2.86zM5.41 20L4 18.59l7.72-7.72 1.47 1.35L5.41 20z\"/>\n",
              "  </svg>\n",
              "      </button>\n",
              "      \n",
              "  <style>\n",
              "    .colab-df-container {\n",
              "      display:flex;\n",
              "      flex-wrap:wrap;\n",
              "      gap: 12px;\n",
              "    }\n",
              "\n",
              "    .colab-df-convert {\n",
              "      background-color: #E8F0FE;\n",
              "      border: none;\n",
              "      border-radius: 50%;\n",
              "      cursor: pointer;\n",
              "      display: none;\n",
              "      fill: #1967D2;\n",
              "      height: 32px;\n",
              "      padding: 0 0 0 0;\n",
              "      width: 32px;\n",
              "    }\n",
              "\n",
              "    .colab-df-convert:hover {\n",
              "      background-color: #E2EBFA;\n",
              "      box-shadow: 0px 1px 2px rgba(60, 64, 67, 0.3), 0px 1px 3px 1px rgba(60, 64, 67, 0.15);\n",
              "      fill: #174EA6;\n",
              "    }\n",
              "\n",
              "    [theme=dark] .colab-df-convert {\n",
              "      background-color: #3B4455;\n",
              "      fill: #D2E3FC;\n",
              "    }\n",
              "\n",
              "    [theme=dark] .colab-df-convert:hover {\n",
              "      background-color: #434B5C;\n",
              "      box-shadow: 0px 1px 3px 1px rgba(0, 0, 0, 0.15);\n",
              "      filter: drop-shadow(0px 1px 2px rgba(0, 0, 0, 0.3));\n",
              "      fill: #FFFFFF;\n",
              "    }\n",
              "  </style>\n",
              "\n",
              "      <script>\n",
              "        const buttonEl =\n",
              "          document.querySelector('#df-bdd11354-5fcc-4ee4-a876-83c102501865 button.colab-df-convert');\n",
              "        buttonEl.style.display =\n",
              "          google.colab.kernel.accessAllowed ? 'block' : 'none';\n",
              "\n",
              "        async function convertToInteractive(key) {\n",
              "          const element = document.querySelector('#df-bdd11354-5fcc-4ee4-a876-83c102501865');\n",
              "          const dataTable =\n",
              "            await google.colab.kernel.invokeFunction('convertToInteractive',\n",
              "                                                     [key], {});\n",
              "          if (!dataTable) return;\n",
              "\n",
              "          const docLinkHtml = 'Like what you see? Visit the ' +\n",
              "            '<a target=\"_blank\" href=https://colab.research.google.com/notebooks/data_table.ipynb>data table notebook</a>'\n",
              "            + ' to learn more about interactive tables.';\n",
              "          element.innerHTML = '';\n",
              "          dataTable['output_type'] = 'display_data';\n",
              "          await google.colab.output.renderOutput(dataTable, element);\n",
              "          const docLink = document.createElement('div');\n",
              "          docLink.innerHTML = docLinkHtml;\n",
              "          element.appendChild(docLink);\n",
              "        }\n",
              "      </script>\n",
              "    </div>\n",
              "  </div>\n",
              "  "
            ]
          },
          "metadata": {},
          "execution_count": 257
        }
      ]
    },
    {
      "cell_type": "code",
      "source": [
        "x=ds.loc[:, ds.columns != \"lithology\"]\n",
        "y=df.loc[:, [\"limestone\",\"dolomite\",\"shale\",\"sandstone\"]]"
      ],
      "metadata": {
        "id": "vtCu47RfwwEQ"
      },
      "execution_count": 258,
      "outputs": []
    },
    {
      "cell_type": "code",
      "source": [
        "x_train, x_test, y_train, y_test = train_test_split(x,y,test_size = 0.1, random_state = 42)"
      ],
      "metadata": {
        "id": "_xWWLSUBqvAW"
      },
      "execution_count": 259,
      "outputs": []
    },
    {
      "cell_type": "code",
      "source": [
        "model = Sequential()\n",
        "model.add(Dense(3, input_dim=3, kernel_initializer=\"normal\", activation=\"relu\" ))\n",
        "model.add(Dense(4, activation=\"relu\"))\n",
        "model.add(Dense(4, activation=\"relu\"))\n",
        "model.add(Dense(4, activation=\"softmax\"))\n",
        "model.summary()"
      ],
      "metadata": {
        "colab": {
          "base_uri": "https://localhost:8080/"
        },
        "id": "Uq6I2Zwdq8cb",
        "outputId": "3d11dcef-c162-4baf-d81a-8f1e88a1da04"
      },
      "execution_count": 260,
      "outputs": [
        {
          "output_type": "stream",
          "name": "stdout",
          "text": [
            "Model: \"sequential_5\"\n",
            "_________________________________________________________________\n",
            " Layer (type)                Output Shape              Param #   \n",
            "=================================================================\n",
            " dense_20 (Dense)            (None, 3)                 12        \n",
            "                                                                 \n",
            " dense_21 (Dense)            (None, 4)                 16        \n",
            "                                                                 \n",
            " dense_22 (Dense)            (None, 4)                 20        \n",
            "                                                                 \n",
            " dense_23 (Dense)            (None, 4)                 20        \n",
            "                                                                 \n",
            "=================================================================\n",
            "Total params: 68\n",
            "Trainable params: 68\n",
            "Non-trainable params: 0\n",
            "_________________________________________________________________\n"
          ]
        }
      ]
    },
    {
      "cell_type": "code",
      "source": [
        "model.compile(loss='BinaryCrossentropy', optimizer=\"adam\")\n",
        "result=model.fit(x_train, y_train, epochs=500, verbose= 1, batch_size = 5, validation_split=0.1) "
      ],
      "metadata": {
        "id": "xsvsBXJjxuax",
        "colab": {
          "base_uri": "https://localhost:8080/"
        },
        "outputId": "6dbd07c0-45ab-40ff-8c7c-db4e618b6518"
      },
      "execution_count": 261,
      "outputs": [
        {
          "output_type": "stream",
          "name": "stdout",
          "text": [
            "Epoch 1/500\n",
            "13/13 [==============================] - 0s 10ms/step - loss: 0.6919 - val_loss: 0.6902\n",
            "Epoch 2/500\n",
            "13/13 [==============================] - 0s 4ms/step - loss: 0.6893 - val_loss: 0.6875\n",
            "Epoch 3/500\n",
            "13/13 [==============================] - 0s 2ms/step - loss: 0.6867 - val_loss: 0.6848\n",
            "Epoch 4/500\n",
            "13/13 [==============================] - 0s 2ms/step - loss: 0.6842 - val_loss: 0.6823\n",
            "Epoch 5/500\n",
            "13/13 [==============================] - 0s 3ms/step - loss: 0.6817 - val_loss: 0.6797\n",
            "Epoch 6/500\n",
            "13/13 [==============================] - 0s 3ms/step - loss: 0.6792 - val_loss: 0.6770\n",
            "Epoch 7/500\n",
            "13/13 [==============================] - 0s 2ms/step - loss: 0.6767 - val_loss: 0.6743\n",
            "Epoch 8/500\n",
            "13/13 [==============================] - 0s 2ms/step - loss: 0.6743 - val_loss: 0.6717\n",
            "Epoch 9/500\n",
            "13/13 [==============================] - 0s 2ms/step - loss: 0.6719 - val_loss: 0.6691\n",
            "Epoch 10/500\n",
            "13/13 [==============================] - 0s 4ms/step - loss: 0.6696 - val_loss: 0.6670\n",
            "Epoch 11/500\n",
            "13/13 [==============================] - 0s 2ms/step - loss: 0.6673 - val_loss: 0.6645\n",
            "Epoch 12/500\n",
            "13/13 [==============================] - 0s 2ms/step - loss: 0.6651 - val_loss: 0.6622\n",
            "Epoch 13/500\n",
            "13/13 [==============================] - 0s 2ms/step - loss: 0.6628 - val_loss: 0.6599\n",
            "Epoch 14/500\n",
            "13/13 [==============================] - 0s 2ms/step - loss: 0.6607 - val_loss: 0.6574\n",
            "Epoch 15/500\n",
            "13/13 [==============================] - 0s 3ms/step - loss: 0.6585 - val_loss: 0.6553\n",
            "Epoch 16/500\n",
            "13/13 [==============================] - 0s 3ms/step - loss: 0.6565 - val_loss: 0.6530\n",
            "Epoch 17/500\n",
            "13/13 [==============================] - 0s 2ms/step - loss: 0.6543 - val_loss: 0.6510\n",
            "Epoch 18/500\n",
            "13/13 [==============================] - 0s 2ms/step - loss: 0.6523 - val_loss: 0.6488\n",
            "Epoch 19/500\n",
            "13/13 [==============================] - 0s 2ms/step - loss: 0.6503 - val_loss: 0.6468\n",
            "Epoch 20/500\n",
            "13/13 [==============================] - 0s 2ms/step - loss: 0.6483 - val_loss: 0.6446\n",
            "Epoch 21/500\n",
            "13/13 [==============================] - 0s 3ms/step - loss: 0.6464 - val_loss: 0.6426\n",
            "Epoch 22/500\n",
            "13/13 [==============================] - 0s 3ms/step - loss: 0.6445 - val_loss: 0.6405\n",
            "Epoch 23/500\n",
            "13/13 [==============================] - 0s 3ms/step - loss: 0.6426 - val_loss: 0.6385\n",
            "Epoch 24/500\n",
            "13/13 [==============================] - 0s 3ms/step - loss: 0.6407 - val_loss: 0.6367\n",
            "Epoch 25/500\n",
            "13/13 [==============================] - 0s 4ms/step - loss: 0.6389 - val_loss: 0.6348\n",
            "Epoch 26/500\n",
            "13/13 [==============================] - 0s 2ms/step - loss: 0.6371 - val_loss: 0.6330\n",
            "Epoch 27/500\n",
            "13/13 [==============================] - 0s 2ms/step - loss: 0.6353 - val_loss: 0.6311\n",
            "Epoch 28/500\n",
            "13/13 [==============================] - 0s 2ms/step - loss: 0.6336 - val_loss: 0.6292\n",
            "Epoch 29/500\n",
            "13/13 [==============================] - 0s 3ms/step - loss: 0.6319 - val_loss: 0.6272\n",
            "Epoch 30/500\n",
            "13/13 [==============================] - 0s 2ms/step - loss: 0.6302 - val_loss: 0.6255\n",
            "Epoch 31/500\n",
            "13/13 [==============================] - 0s 2ms/step - loss: 0.6285 - val_loss: 0.6237\n",
            "Epoch 32/500\n",
            "13/13 [==============================] - 0s 3ms/step - loss: 0.6269 - val_loss: 0.6220\n",
            "Epoch 33/500\n",
            "13/13 [==============================] - 0s 2ms/step - loss: 0.6253 - val_loss: 0.6202\n",
            "Epoch 34/500\n",
            "13/13 [==============================] - 0s 2ms/step - loss: 0.6237 - val_loss: 0.6185\n",
            "Epoch 35/500\n",
            "13/13 [==============================] - 0s 3ms/step - loss: 0.6222 - val_loss: 0.6169\n",
            "Epoch 36/500\n",
            "13/13 [==============================] - 0s 3ms/step - loss: 0.6206 - val_loss: 0.6154\n",
            "Epoch 37/500\n",
            "13/13 [==============================] - 0s 3ms/step - loss: 0.6191 - val_loss: 0.6138\n",
            "Epoch 38/500\n",
            "13/13 [==============================] - 0s 2ms/step - loss: 0.6177 - val_loss: 0.6120\n",
            "Epoch 39/500\n",
            "13/13 [==============================] - 0s 2ms/step - loss: 0.6162 - val_loss: 0.6104\n",
            "Epoch 40/500\n",
            "13/13 [==============================] - 0s 2ms/step - loss: 0.6147 - val_loss: 0.6090\n",
            "Epoch 41/500\n",
            "13/13 [==============================] - 0s 2ms/step - loss: 0.6134 - val_loss: 0.6074\n",
            "Epoch 42/500\n",
            "13/13 [==============================] - 0s 4ms/step - loss: 0.6120 - val_loss: 0.6060\n",
            "Epoch 43/500\n",
            "13/13 [==============================] - 0s 2ms/step - loss: 0.6106 - val_loss: 0.6047\n",
            "Epoch 44/500\n",
            "13/13 [==============================] - 0s 4ms/step - loss: 0.6094 - val_loss: 0.6029\n",
            "Epoch 45/500\n",
            "13/13 [==============================] - 0s 3ms/step - loss: 0.6080 - val_loss: 0.6018\n",
            "Epoch 46/500\n",
            "13/13 [==============================] - 0s 2ms/step - loss: 0.6067 - val_loss: 0.6003\n",
            "Epoch 47/500\n",
            "13/13 [==============================] - 0s 2ms/step - loss: 0.6054 - val_loss: 0.5988\n",
            "Epoch 48/500\n",
            "13/13 [==============================] - 0s 2ms/step - loss: 0.6042 - val_loss: 0.5976\n",
            "Epoch 49/500\n",
            "13/13 [==============================] - 0s 2ms/step - loss: 0.6029 - val_loss: 0.5962\n",
            "Epoch 50/500\n",
            "13/13 [==============================] - 0s 2ms/step - loss: 0.6017 - val_loss: 0.5950\n",
            "Epoch 51/500\n",
            "13/13 [==============================] - 0s 4ms/step - loss: 0.6006 - val_loss: 0.5938\n",
            "Epoch 52/500\n",
            "13/13 [==============================] - 0s 2ms/step - loss: 0.5994 - val_loss: 0.5923\n",
            "Epoch 53/500\n",
            "13/13 [==============================] - 0s 2ms/step - loss: 0.5982 - val_loss: 0.5911\n",
            "Epoch 54/500\n",
            "13/13 [==============================] - 0s 2ms/step - loss: 0.5971 - val_loss: 0.5900\n",
            "Epoch 55/500\n",
            "13/13 [==============================] - 0s 2ms/step - loss: 0.5960 - val_loss: 0.5887\n",
            "Epoch 56/500\n",
            "13/13 [==============================] - 0s 3ms/step - loss: 0.5949 - val_loss: 0.5875\n",
            "Epoch 57/500\n",
            "13/13 [==============================] - 0s 2ms/step - loss: 0.5938 - val_loss: 0.5865\n",
            "Epoch 58/500\n",
            "13/13 [==============================] - 0s 3ms/step - loss: 0.5928 - val_loss: 0.5854\n",
            "Epoch 59/500\n",
            "13/13 [==============================] - 0s 3ms/step - loss: 0.5918 - val_loss: 0.5841\n",
            "Epoch 60/500\n",
            "13/13 [==============================] - 0s 4ms/step - loss: 0.5907 - val_loss: 0.5830\n",
            "Epoch 61/500\n",
            "13/13 [==============================] - 0s 2ms/step - loss: 0.5897 - val_loss: 0.5818\n",
            "Epoch 62/500\n",
            "13/13 [==============================] - 0s 3ms/step - loss: 0.5887 - val_loss: 0.5809\n",
            "Epoch 63/500\n",
            "13/13 [==============================] - 0s 2ms/step - loss: 0.5877 - val_loss: 0.5799\n",
            "Epoch 64/500\n",
            "13/13 [==============================] - 0s 4ms/step - loss: 0.5868 - val_loss: 0.5788\n",
            "Epoch 65/500\n",
            "13/13 [==============================] - 0s 2ms/step - loss: 0.5859 - val_loss: 0.5776\n",
            "Epoch 66/500\n",
            "13/13 [==============================] - 0s 2ms/step - loss: 0.5849 - val_loss: 0.5768\n",
            "Epoch 67/500\n",
            "13/13 [==============================] - 0s 3ms/step - loss: 0.5840 - val_loss: 0.5757\n",
            "Epoch 68/500\n",
            "13/13 [==============================] - 0s 3ms/step - loss: 0.5831 - val_loss: 0.5748\n",
            "Epoch 69/500\n",
            "13/13 [==============================] - 0s 3ms/step - loss: 0.5822 - val_loss: 0.5738\n",
            "Epoch 70/500\n",
            "13/13 [==============================] - 0s 3ms/step - loss: 0.5813 - val_loss: 0.5729\n",
            "Epoch 71/500\n",
            "13/13 [==============================] - 0s 3ms/step - loss: 0.5805 - val_loss: 0.5718\n",
            "Epoch 72/500\n",
            "13/13 [==============================] - 0s 2ms/step - loss: 0.5797 - val_loss: 0.5709\n",
            "Epoch 73/500\n",
            "13/13 [==============================] - 0s 2ms/step - loss: 0.5788 - val_loss: 0.5700\n",
            "Epoch 74/500\n",
            "13/13 [==============================] - 0s 2ms/step - loss: 0.5780 - val_loss: 0.5692\n",
            "Epoch 75/500\n",
            "13/13 [==============================] - 0s 4ms/step - loss: 0.5772 - val_loss: 0.5683\n",
            "Epoch 76/500\n",
            "13/13 [==============================] - 0s 4ms/step - loss: 0.5764 - val_loss: 0.5674\n",
            "Epoch 77/500\n",
            "13/13 [==============================] - 0s 4ms/step - loss: 0.5757 - val_loss: 0.5666\n",
            "Epoch 78/500\n",
            "13/13 [==============================] - 0s 2ms/step - loss: 0.5749 - val_loss: 0.5658\n",
            "Epoch 79/500\n",
            "13/13 [==============================] - 0s 3ms/step - loss: 0.5742 - val_loss: 0.5649\n",
            "Epoch 80/500\n",
            "13/13 [==============================] - 0s 2ms/step - loss: 0.5734 - val_loss: 0.5640\n",
            "Epoch 81/500\n",
            "13/13 [==============================] - 0s 2ms/step - loss: 0.5727 - val_loss: 0.5633\n",
            "Epoch 82/500\n",
            "13/13 [==============================] - 0s 3ms/step - loss: 0.5720 - val_loss: 0.5624\n",
            "Epoch 83/500\n",
            "13/13 [==============================] - 0s 2ms/step - loss: 0.5713 - val_loss: 0.5617\n",
            "Epoch 84/500\n",
            "13/13 [==============================] - 0s 3ms/step - loss: 0.5706 - val_loss: 0.5609\n",
            "Epoch 85/500\n",
            "13/13 [==============================] - 0s 2ms/step - loss: 0.5699 - val_loss: 0.5602\n",
            "Epoch 86/500\n",
            "13/13 [==============================] - 0s 2ms/step - loss: 0.5693 - val_loss: 0.5594\n",
            "Epoch 87/500\n",
            "13/13 [==============================] - 0s 3ms/step - loss: 0.5686 - val_loss: 0.5588\n",
            "Epoch 88/500\n",
            "13/13 [==============================] - 0s 2ms/step - loss: 0.5680 - val_loss: 0.5581\n",
            "Epoch 89/500\n",
            "13/13 [==============================] - 0s 2ms/step - loss: 0.5673 - val_loss: 0.5573\n",
            "Epoch 90/500\n",
            "13/13 [==============================] - 0s 2ms/step - loss: 0.5667 - val_loss: 0.5565\n",
            "Epoch 91/500\n",
            "13/13 [==============================] - 0s 2ms/step - loss: 0.5661 - val_loss: 0.5559\n",
            "Epoch 92/500\n",
            "13/13 [==============================] - 0s 2ms/step - loss: 0.5655 - val_loss: 0.5553\n",
            "Epoch 93/500\n",
            "13/13 [==============================] - 0s 2ms/step - loss: 0.5649 - val_loss: 0.5546\n",
            "Epoch 94/500\n",
            "13/13 [==============================] - 0s 2ms/step - loss: 0.5643 - val_loss: 0.5540\n",
            "Epoch 95/500\n",
            "13/13 [==============================] - 0s 2ms/step - loss: 0.5638 - val_loss: 0.5535\n",
            "Epoch 96/500\n",
            "13/13 [==============================] - 0s 3ms/step - loss: 0.5632 - val_loss: 0.5527\n",
            "Epoch 97/500\n",
            "13/13 [==============================] - 0s 3ms/step - loss: 0.5626 - val_loss: 0.5521\n",
            "Epoch 98/500\n",
            "13/13 [==============================] - 0s 3ms/step - loss: 0.5621 - val_loss: 0.5515\n",
            "Epoch 99/500\n",
            "13/13 [==============================] - 0s 3ms/step - loss: 0.5616 - val_loss: 0.5509\n",
            "Epoch 100/500\n",
            "13/13 [==============================] - 0s 2ms/step - loss: 0.5610 - val_loss: 0.5503\n",
            "Epoch 101/500\n",
            "13/13 [==============================] - 0s 3ms/step - loss: 0.5605 - val_loss: 0.5497\n",
            "Epoch 102/500\n",
            "13/13 [==============================] - 0s 2ms/step - loss: 0.5600 - val_loss: 0.5491\n",
            "Epoch 103/500\n",
            "13/13 [==============================] - 0s 3ms/step - loss: 0.5595 - val_loss: 0.5485\n",
            "Epoch 104/500\n",
            "13/13 [==============================] - 0s 2ms/step - loss: 0.5590 - val_loss: 0.5480\n",
            "Epoch 105/500\n",
            "13/13 [==============================] - 0s 2ms/step - loss: 0.5585 - val_loss: 0.5475\n",
            "Epoch 106/500\n",
            "13/13 [==============================] - 0s 2ms/step - loss: 0.5580 - val_loss: 0.5471\n",
            "Epoch 107/500\n",
            "13/13 [==============================] - 0s 2ms/step - loss: 0.5576 - val_loss: 0.5465\n",
            "Epoch 108/500\n",
            "13/13 [==============================] - 0s 3ms/step - loss: 0.5571 - val_loss: 0.5459\n",
            "Epoch 109/500\n",
            "13/13 [==============================] - 0s 3ms/step - loss: 0.5567 - val_loss: 0.5454\n",
            "Epoch 110/500\n",
            "13/13 [==============================] - 0s 3ms/step - loss: 0.5562 - val_loss: 0.5448\n",
            "Epoch 111/500\n",
            "13/13 [==============================] - 0s 2ms/step - loss: 0.5557 - val_loss: 0.5444\n",
            "Epoch 112/500\n",
            "13/13 [==============================] - 0s 3ms/step - loss: 0.5553 - val_loss: 0.5440\n",
            "Epoch 113/500\n",
            "13/13 [==============================] - 0s 3ms/step - loss: 0.5549 - val_loss: 0.5435\n",
            "Epoch 114/500\n",
            "13/13 [==============================] - 0s 3ms/step - loss: 0.5545 - val_loss: 0.5430\n",
            "Epoch 115/500\n",
            "13/13 [==============================] - 0s 3ms/step - loss: 0.5541 - val_loss: 0.5425\n",
            "Epoch 116/500\n",
            "13/13 [==============================] - 0s 3ms/step - loss: 0.5537 - val_loss: 0.5423\n",
            "Epoch 117/500\n",
            "13/13 [==============================] - 0s 3ms/step - loss: 0.5533 - val_loss: 0.5417\n",
            "Epoch 118/500\n",
            "13/13 [==============================] - 0s 3ms/step - loss: 0.5529 - val_loss: 0.5411\n",
            "Epoch 119/500\n",
            "13/13 [==============================] - 0s 3ms/step - loss: 0.5525 - val_loss: 0.5407\n",
            "Epoch 120/500\n",
            "13/13 [==============================] - 0s 3ms/step - loss: 0.5521 - val_loss: 0.5403\n",
            "Epoch 121/500\n",
            "13/13 [==============================] - 0s 3ms/step - loss: 0.5517 - val_loss: 0.5399\n",
            "Epoch 122/500\n",
            "13/13 [==============================] - 0s 3ms/step - loss: 0.5514 - val_loss: 0.5393\n",
            "Epoch 123/500\n",
            "13/13 [==============================] - 0s 3ms/step - loss: 0.5510 - val_loss: 0.5390\n",
            "Epoch 124/500\n",
            "13/13 [==============================] - 0s 3ms/step - loss: 0.5507 - val_loss: 0.5385\n",
            "Epoch 125/500\n",
            "13/13 [==============================] - 0s 3ms/step - loss: 0.5503 - val_loss: 0.5382\n",
            "Epoch 126/500\n",
            "13/13 [==============================] - 0s 3ms/step - loss: 0.5500 - val_loss: 0.5377\n",
            "Epoch 127/500\n",
            "13/13 [==============================] - 0s 3ms/step - loss: 0.5496 - val_loss: 0.5373\n",
            "Epoch 128/500\n",
            "13/13 [==============================] - 0s 2ms/step - loss: 0.5493 - val_loss: 0.5370\n",
            "Epoch 129/500\n",
            "13/13 [==============================] - 0s 2ms/step - loss: 0.5490 - val_loss: 0.5367\n",
            "Epoch 130/500\n",
            "13/13 [==============================] - 0s 3ms/step - loss: 0.5486 - val_loss: 0.5363\n",
            "Epoch 131/500\n",
            "13/13 [==============================] - 0s 3ms/step - loss: 0.5483 - val_loss: 0.5359\n",
            "Epoch 132/500\n",
            "13/13 [==============================] - 0s 2ms/step - loss: 0.5480 - val_loss: 0.5356\n",
            "Epoch 133/500\n",
            "13/13 [==============================] - 0s 3ms/step - loss: 0.5477 - val_loss: 0.5353\n",
            "Epoch 134/500\n",
            "13/13 [==============================] - 0s 4ms/step - loss: 0.5474 - val_loss: 0.5350\n",
            "Epoch 135/500\n",
            "13/13 [==============================] - 0s 2ms/step - loss: 0.5471 - val_loss: 0.5345\n",
            "Epoch 136/500\n",
            "13/13 [==============================] - 0s 2ms/step - loss: 0.5469 - val_loss: 0.5345\n",
            "Epoch 137/500\n",
            "13/13 [==============================] - 0s 3ms/step - loss: 0.5465 - val_loss: 0.5340\n",
            "Epoch 138/500\n",
            "13/13 [==============================] - 0s 3ms/step - loss: 0.5462 - val_loss: 0.5337\n",
            "Epoch 139/500\n",
            "13/13 [==============================] - 0s 3ms/step - loss: 0.5460 - val_loss: 0.5335\n",
            "Epoch 140/500\n",
            "13/13 [==============================] - 0s 3ms/step - loss: 0.5457 - val_loss: 0.5331\n",
            "Epoch 141/500\n",
            "13/13 [==============================] - 0s 2ms/step - loss: 0.5454 - val_loss: 0.5327\n",
            "Epoch 142/500\n",
            "13/13 [==============================] - 0s 2ms/step - loss: 0.5452 - val_loss: 0.5325\n",
            "Epoch 143/500\n",
            "13/13 [==============================] - 0s 3ms/step - loss: 0.5449 - val_loss: 0.5321\n",
            "Epoch 144/500\n",
            "13/13 [==============================] - 0s 2ms/step - loss: 0.5446 - val_loss: 0.5318\n",
            "Epoch 145/500\n",
            "13/13 [==============================] - 0s 4ms/step - loss: 0.5444 - val_loss: 0.5315\n",
            "Epoch 146/500\n",
            "13/13 [==============================] - 0s 3ms/step - loss: 0.5441 - val_loss: 0.5312\n",
            "Epoch 147/500\n",
            "13/13 [==============================] - 0s 3ms/step - loss: 0.5439 - val_loss: 0.5310\n",
            "Epoch 148/500\n",
            "13/13 [==============================] - 0s 2ms/step - loss: 0.5436 - val_loss: 0.5307\n",
            "Epoch 149/500\n",
            "13/13 [==============================] - 0s 2ms/step - loss: 0.5435 - val_loss: 0.5304\n",
            "Epoch 150/500\n",
            "13/13 [==============================] - 0s 3ms/step - loss: 0.5432 - val_loss: 0.5301\n",
            "Epoch 151/500\n",
            "13/13 [==============================] - 0s 3ms/step - loss: 0.5429 - val_loss: 0.5300\n",
            "Epoch 152/500\n",
            "13/13 [==============================] - 0s 2ms/step - loss: 0.5427 - val_loss: 0.5298\n",
            "Epoch 153/500\n",
            "13/13 [==============================] - 0s 2ms/step - loss: 0.5425 - val_loss: 0.5294\n",
            "Epoch 154/500\n",
            "13/13 [==============================] - 0s 2ms/step - loss: 0.5423 - val_loss: 0.5292\n",
            "Epoch 155/500\n",
            "13/13 [==============================] - 0s 4ms/step - loss: 0.5421 - val_loss: 0.5289\n",
            "Epoch 156/500\n",
            "13/13 [==============================] - 0s 3ms/step - loss: 0.5419 - val_loss: 0.5287\n",
            "Epoch 157/500\n",
            "13/13 [==============================] - 0s 5ms/step - loss: 0.5417 - val_loss: 0.5285\n",
            "Epoch 158/500\n",
            "13/13 [==============================] - 0s 4ms/step - loss: 0.5415 - val_loss: 0.5282\n",
            "Epoch 159/500\n",
            "13/13 [==============================] - 0s 5ms/step - loss: 0.5413 - val_loss: 0.5281\n",
            "Epoch 160/500\n",
            "13/13 [==============================] - 0s 5ms/step - loss: 0.5411 - val_loss: 0.5278\n",
            "Epoch 161/500\n",
            "13/13 [==============================] - 0s 8ms/step - loss: 0.5409 - val_loss: 0.5276\n",
            "Epoch 162/500\n",
            "13/13 [==============================] - 0s 3ms/step - loss: 0.5407 - val_loss: 0.5273\n",
            "Epoch 163/500\n",
            "13/13 [==============================] - 0s 6ms/step - loss: 0.5405 - val_loss: 0.5270\n",
            "Epoch 164/500\n",
            "13/13 [==============================] - 0s 5ms/step - loss: 0.5403 - val_loss: 0.5268\n",
            "Epoch 165/500\n",
            "13/13 [==============================] - 0s 6ms/step - loss: 0.5401 - val_loss: 0.5266\n",
            "Epoch 166/500\n",
            "13/13 [==============================] - 0s 5ms/step - loss: 0.5399 - val_loss: 0.5266\n",
            "Epoch 167/500\n",
            "13/13 [==============================] - 0s 11ms/step - loss: 0.5398 - val_loss: 0.5262\n",
            "Epoch 168/500\n",
            "13/13 [==============================] - 0s 6ms/step - loss: 0.5396 - val_loss: 0.5261\n",
            "Epoch 169/500\n",
            "13/13 [==============================] - 0s 3ms/step - loss: 0.5395 - val_loss: 0.5260\n",
            "Epoch 170/500\n",
            "13/13 [==============================] - 0s 4ms/step - loss: 0.5392 - val_loss: 0.5258\n",
            "Epoch 171/500\n",
            "13/13 [==============================] - 0s 8ms/step - loss: 0.5391 - val_loss: 0.5255\n",
            "Epoch 172/500\n",
            "13/13 [==============================] - 0s 8ms/step - loss: 0.5390 - val_loss: 0.5254\n",
            "Epoch 173/500\n",
            "13/13 [==============================] - 0s 4ms/step - loss: 0.5388 - val_loss: 0.5251\n",
            "Epoch 174/500\n",
            "13/13 [==============================] - 0s 8ms/step - loss: 0.5386 - val_loss: 0.5249\n",
            "Epoch 175/500\n",
            "13/13 [==============================] - 0s 5ms/step - loss: 0.5385 - val_loss: 0.5249\n",
            "Epoch 176/500\n",
            "13/13 [==============================] - 0s 6ms/step - loss: 0.5383 - val_loss: 0.5247\n",
            "Epoch 177/500\n",
            "13/13 [==============================] - 0s 7ms/step - loss: 0.5382 - val_loss: 0.5243\n",
            "Epoch 178/500\n",
            "13/13 [==============================] - 0s 4ms/step - loss: 0.5380 - val_loss: 0.5243\n",
            "Epoch 179/500\n",
            "13/13 [==============================] - 0s 5ms/step - loss: 0.5379 - val_loss: 0.5244\n",
            "Epoch 180/500\n",
            "13/13 [==============================] - 0s 3ms/step - loss: 0.5377 - val_loss: 0.5240\n",
            "Epoch 181/500\n",
            "13/13 [==============================] - 0s 4ms/step - loss: 0.5376 - val_loss: 0.5238\n",
            "Epoch 182/500\n",
            "13/13 [==============================] - 0s 5ms/step - loss: 0.5375 - val_loss: 0.5238\n",
            "Epoch 183/500\n",
            "13/13 [==============================] - 0s 3ms/step - loss: 0.5373 - val_loss: 0.5237\n",
            "Epoch 184/500\n",
            "13/13 [==============================] - 0s 11ms/step - loss: 0.5372 - val_loss: 0.5236\n",
            "Epoch 185/500\n",
            "13/13 [==============================] - 0s 7ms/step - loss: 0.5371 - val_loss: 0.5232\n",
            "Epoch 186/500\n",
            "13/13 [==============================] - 0s 4ms/step - loss: 0.5369 - val_loss: 0.5232\n",
            "Epoch 187/500\n",
            "13/13 [==============================] - 0s 5ms/step - loss: 0.5368 - val_loss: 0.5231\n",
            "Epoch 188/500\n",
            "13/13 [==============================] - 0s 4ms/step - loss: 0.5367 - val_loss: 0.5230\n",
            "Epoch 189/500\n",
            "13/13 [==============================] - 0s 8ms/step - loss: 0.5365 - val_loss: 0.5228\n",
            "Epoch 190/500\n",
            "13/13 [==============================] - 0s 8ms/step - loss: 0.5365 - val_loss: 0.5227\n",
            "Epoch 191/500\n",
            "13/13 [==============================] - 0s 9ms/step - loss: 0.5363 - val_loss: 0.5225\n",
            "Epoch 192/500\n",
            "13/13 [==============================] - 0s 5ms/step - loss: 0.5362 - val_loss: 0.5223\n",
            "Epoch 193/500\n",
            "13/13 [==============================] - 0s 4ms/step - loss: 0.5361 - val_loss: 0.5221\n",
            "Epoch 194/500\n",
            "13/13 [==============================] - 0s 5ms/step - loss: 0.5360 - val_loss: 0.5221\n",
            "Epoch 195/500\n",
            "13/13 [==============================] - 0s 6ms/step - loss: 0.5358 - val_loss: 0.5220\n",
            "Epoch 196/500\n",
            "13/13 [==============================] - 0s 6ms/step - loss: 0.5357 - val_loss: 0.5218\n",
            "Epoch 197/500\n",
            "13/13 [==============================] - 0s 6ms/step - loss: 0.5356 - val_loss: 0.5216\n",
            "Epoch 198/500\n",
            "13/13 [==============================] - 0s 2ms/step - loss: 0.5356 - val_loss: 0.5214\n",
            "Epoch 199/500\n",
            "13/13 [==============================] - 0s 3ms/step - loss: 0.5354 - val_loss: 0.5214\n",
            "Epoch 200/500\n",
            "13/13 [==============================] - 0s 3ms/step - loss: 0.5353 - val_loss: 0.5213\n",
            "Epoch 201/500\n",
            "13/13 [==============================] - 0s 3ms/step - loss: 0.5352 - val_loss: 0.5213\n",
            "Epoch 202/500\n",
            "13/13 [==============================] - 0s 2ms/step - loss: 0.5351 - val_loss: 0.5211\n",
            "Epoch 203/500\n",
            "13/13 [==============================] - 0s 3ms/step - loss: 0.5350 - val_loss: 0.5211\n",
            "Epoch 204/500\n",
            "13/13 [==============================] - 0s 3ms/step - loss: 0.5349 - val_loss: 0.5210\n",
            "Epoch 205/500\n",
            "13/13 [==============================] - 0s 3ms/step - loss: 0.5348 - val_loss: 0.5209\n",
            "Epoch 206/500\n",
            "13/13 [==============================] - 0s 3ms/step - loss: 0.5348 - val_loss: 0.5209\n",
            "Epoch 207/500\n",
            "13/13 [==============================] - 0s 2ms/step - loss: 0.5346 - val_loss: 0.5208\n",
            "Epoch 208/500\n",
            "13/13 [==============================] - 0s 3ms/step - loss: 0.5346 - val_loss: 0.5205\n",
            "Epoch 209/500\n",
            "13/13 [==============================] - 0s 3ms/step - loss: 0.5345 - val_loss: 0.5204\n",
            "Epoch 210/500\n",
            "13/13 [==============================] - 0s 3ms/step - loss: 0.5344 - val_loss: 0.5202\n",
            "Epoch 211/500\n",
            "13/13 [==============================] - 0s 2ms/step - loss: 0.5343 - val_loss: 0.5203\n",
            "Epoch 212/500\n",
            "13/13 [==============================] - 0s 3ms/step - loss: 0.5342 - val_loss: 0.5201\n",
            "Epoch 213/500\n",
            "13/13 [==============================] - 0s 2ms/step - loss: 0.5341 - val_loss: 0.5201\n",
            "Epoch 214/500\n",
            "13/13 [==============================] - 0s 5ms/step - loss: 0.5341 - val_loss: 0.5200\n",
            "Epoch 215/500\n",
            "13/13 [==============================] - 0s 3ms/step - loss: 0.5340 - val_loss: 0.5201\n",
            "Epoch 216/500\n",
            "13/13 [==============================] - 0s 2ms/step - loss: 0.5339 - val_loss: 0.5198\n",
            "Epoch 217/500\n",
            "13/13 [==============================] - 0s 2ms/step - loss: 0.5338 - val_loss: 0.5197\n",
            "Epoch 218/500\n",
            "13/13 [==============================] - 0s 3ms/step - loss: 0.5338 - val_loss: 0.5195\n",
            "Epoch 219/500\n",
            "13/13 [==============================] - 0s 3ms/step - loss: 0.5337 - val_loss: 0.5196\n",
            "Epoch 220/500\n",
            "13/13 [==============================] - 0s 3ms/step - loss: 0.5336 - val_loss: 0.5194\n",
            "Epoch 221/500\n",
            "13/13 [==============================] - 0s 3ms/step - loss: 0.5335 - val_loss: 0.5193\n",
            "Epoch 222/500\n",
            "13/13 [==============================] - 0s 3ms/step - loss: 0.5335 - val_loss: 0.5193\n",
            "Epoch 223/500\n",
            "13/13 [==============================] - 0s 2ms/step - loss: 0.5334 - val_loss: 0.5194\n",
            "Epoch 224/500\n",
            "13/13 [==============================] - 0s 3ms/step - loss: 0.5333 - val_loss: 0.5191\n",
            "Epoch 225/500\n",
            "13/13 [==============================] - 0s 3ms/step - loss: 0.5333 - val_loss: 0.5191\n",
            "Epoch 226/500\n",
            "13/13 [==============================] - 0s 4ms/step - loss: 0.5332 - val_loss: 0.5190\n",
            "Epoch 227/500\n",
            "13/13 [==============================] - 0s 3ms/step - loss: 0.5331 - val_loss: 0.5191\n",
            "Epoch 228/500\n",
            "13/13 [==============================] - 0s 3ms/step - loss: 0.5330 - val_loss: 0.5189\n",
            "Epoch 229/500\n",
            "13/13 [==============================] - 0s 3ms/step - loss: 0.5330 - val_loss: 0.5190\n",
            "Epoch 230/500\n",
            "13/13 [==============================] - 0s 3ms/step - loss: 0.5329 - val_loss: 0.5188\n",
            "Epoch 231/500\n",
            "13/13 [==============================] - 0s 3ms/step - loss: 0.5329 - val_loss: 0.5186\n",
            "Epoch 232/500\n",
            "13/13 [==============================] - 0s 3ms/step - loss: 0.5328 - val_loss: 0.5187\n",
            "Epoch 233/500\n",
            "13/13 [==============================] - 0s 2ms/step - loss: 0.5327 - val_loss: 0.5185\n",
            "Epoch 234/500\n",
            "13/13 [==============================] - 0s 3ms/step - loss: 0.5326 - val_loss: 0.5185\n",
            "Epoch 235/500\n",
            "13/13 [==============================] - 0s 4ms/step - loss: 0.5326 - val_loss: 0.5186\n",
            "Epoch 236/500\n",
            "13/13 [==============================] - 0s 4ms/step - loss: 0.5325 - val_loss: 0.5184\n",
            "Epoch 237/500\n",
            "13/13 [==============================] - 0s 4ms/step - loss: 0.5325 - val_loss: 0.5182\n",
            "Epoch 238/500\n",
            "13/13 [==============================] - 0s 4ms/step - loss: 0.5324 - val_loss: 0.5184\n",
            "Epoch 239/500\n",
            "13/13 [==============================] - 0s 4ms/step - loss: 0.5324 - val_loss: 0.5181\n",
            "Epoch 240/500\n",
            "13/13 [==============================] - 0s 4ms/step - loss: 0.5324 - val_loss: 0.5179\n",
            "Epoch 241/500\n",
            "13/13 [==============================] - 0s 3ms/step - loss: 0.5323 - val_loss: 0.5181\n",
            "Epoch 242/500\n",
            "13/13 [==============================] - 0s 3ms/step - loss: 0.5322 - val_loss: 0.5181\n",
            "Epoch 243/500\n",
            "13/13 [==============================] - 0s 3ms/step - loss: 0.5322 - val_loss: 0.5179\n",
            "Epoch 244/500\n",
            "13/13 [==============================] - 0s 3ms/step - loss: 0.5321 - val_loss: 0.5178\n",
            "Epoch 245/500\n",
            "13/13 [==============================] - 0s 3ms/step - loss: 0.5321 - val_loss: 0.5178\n",
            "Epoch 246/500\n",
            "13/13 [==============================] - 0s 3ms/step - loss: 0.5320 - val_loss: 0.5178\n",
            "Epoch 247/500\n",
            "13/13 [==============================] - 0s 4ms/step - loss: 0.5320 - val_loss: 0.5178\n",
            "Epoch 248/500\n",
            "13/13 [==============================] - 0s 3ms/step - loss: 0.5319 - val_loss: 0.5177\n",
            "Epoch 249/500\n",
            "13/13 [==============================] - 0s 3ms/step - loss: 0.5319 - val_loss: 0.5176\n",
            "Epoch 250/500\n",
            "13/13 [==============================] - 0s 3ms/step - loss: 0.5318 - val_loss: 0.5176\n",
            "Epoch 251/500\n",
            "13/13 [==============================] - 0s 3ms/step - loss: 0.5318 - val_loss: 0.5175\n",
            "Epoch 252/500\n",
            "13/13 [==============================] - 0s 4ms/step - loss: 0.5317 - val_loss: 0.5174\n",
            "Epoch 253/500\n",
            "13/13 [==============================] - 0s 3ms/step - loss: 0.5317 - val_loss: 0.5175\n",
            "Epoch 254/500\n",
            "13/13 [==============================] - 0s 3ms/step - loss: 0.5317 - val_loss: 0.5175\n",
            "Epoch 255/500\n",
            "13/13 [==============================] - 0s 5ms/step - loss: 0.5316 - val_loss: 0.5175\n",
            "Epoch 256/500\n",
            "13/13 [==============================] - 0s 3ms/step - loss: 0.5316 - val_loss: 0.5172\n",
            "Epoch 257/500\n",
            "13/13 [==============================] - 0s 3ms/step - loss: 0.5315 - val_loss: 0.5173\n",
            "Epoch 258/500\n",
            "13/13 [==============================] - 0s 3ms/step - loss: 0.5315 - val_loss: 0.5173\n",
            "Epoch 259/500\n",
            "13/13 [==============================] - 0s 3ms/step - loss: 0.5315 - val_loss: 0.5172\n",
            "Epoch 260/500\n",
            "13/13 [==============================] - 0s 3ms/step - loss: 0.5314 - val_loss: 0.5171\n",
            "Epoch 261/500\n",
            "13/13 [==============================] - 0s 3ms/step - loss: 0.5314 - val_loss: 0.5172\n",
            "Epoch 262/500\n",
            "13/13 [==============================] - 0s 3ms/step - loss: 0.5313 - val_loss: 0.5171\n",
            "Epoch 263/500\n",
            "13/13 [==============================] - 0s 3ms/step - loss: 0.5313 - val_loss: 0.5171\n",
            "Epoch 264/500\n",
            "13/13 [==============================] - 0s 5ms/step - loss: 0.5313 - val_loss: 0.5171\n",
            "Epoch 265/500\n",
            "13/13 [==============================] - 0s 3ms/step - loss: 0.5312 - val_loss: 0.5170\n",
            "Epoch 266/500\n",
            "13/13 [==============================] - 0s 3ms/step - loss: 0.5312 - val_loss: 0.5170\n",
            "Epoch 267/500\n",
            "13/13 [==============================] - 0s 3ms/step - loss: 0.5312 - val_loss: 0.5168\n",
            "Epoch 268/500\n",
            "13/13 [==============================] - 0s 4ms/step - loss: 0.5311 - val_loss: 0.5169\n",
            "Epoch 269/500\n",
            "13/13 [==============================] - 0s 3ms/step - loss: 0.5311 - val_loss: 0.5168\n",
            "Epoch 270/500\n",
            "13/13 [==============================] - 0s 4ms/step - loss: 0.5311 - val_loss: 0.5170\n",
            "Epoch 271/500\n",
            "13/13 [==============================] - 0s 3ms/step - loss: 0.5310 - val_loss: 0.5169\n",
            "Epoch 272/500\n",
            "13/13 [==============================] - 0s 4ms/step - loss: 0.5310 - val_loss: 0.5168\n",
            "Epoch 273/500\n",
            "13/13 [==============================] - 0s 4ms/step - loss: 0.5310 - val_loss: 0.5167\n",
            "Epoch 274/500\n",
            "13/13 [==============================] - 0s 4ms/step - loss: 0.5309 - val_loss: 0.5168\n",
            "Epoch 275/500\n",
            "13/13 [==============================] - 0s 3ms/step - loss: 0.5309 - val_loss: 0.5168\n",
            "Epoch 276/500\n",
            "13/13 [==============================] - 0s 3ms/step - loss: 0.5309 - val_loss: 0.5167\n",
            "Epoch 277/500\n",
            "13/13 [==============================] - 0s 3ms/step - loss: 0.5308 - val_loss: 0.5167\n",
            "Epoch 278/500\n",
            "13/13 [==============================] - 0s 3ms/step - loss: 0.5308 - val_loss: 0.5167\n",
            "Epoch 279/500\n",
            "13/13 [==============================] - 0s 3ms/step - loss: 0.5308 - val_loss: 0.5166\n",
            "Epoch 280/500\n",
            "13/13 [==============================] - 0s 3ms/step - loss: 0.5308 - val_loss: 0.5166\n",
            "Epoch 281/500\n",
            "13/13 [==============================] - 0s 3ms/step - loss: 0.5307 - val_loss: 0.5166\n",
            "Epoch 282/500\n",
            "13/13 [==============================] - 0s 3ms/step - loss: 0.5307 - val_loss: 0.5166\n",
            "Epoch 283/500\n",
            "13/13 [==============================] - 0s 3ms/step - loss: 0.5307 - val_loss: 0.5164\n",
            "Epoch 284/500\n",
            "13/13 [==============================] - 0s 3ms/step - loss: 0.5307 - val_loss: 0.5164\n",
            "Epoch 285/500\n",
            "13/13 [==============================] - 0s 3ms/step - loss: 0.5307 - val_loss: 0.5165\n",
            "Epoch 286/500\n",
            "13/13 [==============================] - 0s 3ms/step - loss: 0.5306 - val_loss: 0.5166\n",
            "Epoch 287/500\n",
            "13/13 [==============================] - 0s 3ms/step - loss: 0.5306 - val_loss: 0.5164\n",
            "Epoch 288/500\n",
            "13/13 [==============================] - 0s 3ms/step - loss: 0.5306 - val_loss: 0.5165\n",
            "Epoch 289/500\n",
            "13/13 [==============================] - 0s 3ms/step - loss: 0.5306 - val_loss: 0.5163\n",
            "Epoch 290/500\n",
            "13/13 [==============================] - 0s 3ms/step - loss: 0.5305 - val_loss: 0.5164\n",
            "Epoch 291/500\n",
            "13/13 [==============================] - 0s 3ms/step - loss: 0.5305 - val_loss: 0.5163\n",
            "Epoch 292/500\n",
            "13/13 [==============================] - 0s 3ms/step - loss: 0.5305 - val_loss: 0.5163\n",
            "Epoch 293/500\n",
            "13/13 [==============================] - 0s 3ms/step - loss: 0.5304 - val_loss: 0.5162\n",
            "Epoch 294/500\n",
            "13/13 [==============================] - 0s 3ms/step - loss: 0.5304 - val_loss: 0.5163\n",
            "Epoch 295/500\n",
            "13/13 [==============================] - 0s 3ms/step - loss: 0.5304 - val_loss: 0.5162\n",
            "Epoch 296/500\n",
            "13/13 [==============================] - 0s 3ms/step - loss: 0.5304 - val_loss: 0.5162\n",
            "Epoch 297/500\n",
            "13/13 [==============================] - 0s 3ms/step - loss: 0.5304 - val_loss: 0.5164\n",
            "Epoch 298/500\n",
            "13/13 [==============================] - 0s 3ms/step - loss: 0.5303 - val_loss: 0.5163\n",
            "Epoch 299/500\n",
            "13/13 [==============================] - 0s 3ms/step - loss: 0.5303 - val_loss: 0.5163\n",
            "Epoch 300/500\n",
            "13/13 [==============================] - 0s 4ms/step - loss: 0.5303 - val_loss: 0.5163\n",
            "Epoch 301/500\n",
            "13/13 [==============================] - 0s 3ms/step - loss: 0.5303 - val_loss: 0.5163\n",
            "Epoch 302/500\n",
            "13/13 [==============================] - 0s 5ms/step - loss: 0.5303 - val_loss: 0.5162\n",
            "Epoch 303/500\n",
            "13/13 [==============================] - 0s 3ms/step - loss: 0.5302 - val_loss: 0.5162\n",
            "Epoch 304/500\n",
            "13/13 [==============================] - 0s 3ms/step - loss: 0.5302 - val_loss: 0.5162\n",
            "Epoch 305/500\n",
            "13/13 [==============================] - 0s 3ms/step - loss: 0.5302 - val_loss: 0.5162\n",
            "Epoch 306/500\n",
            "13/13 [==============================] - 0s 3ms/step - loss: 0.5302 - val_loss: 0.5161\n",
            "Epoch 307/500\n",
            "13/13 [==============================] - 0s 3ms/step - loss: 0.5302 - val_loss: 0.5160\n",
            "Epoch 308/500\n",
            "13/13 [==============================] - 0s 3ms/step - loss: 0.5301 - val_loss: 0.5160\n",
            "Epoch 309/500\n",
            "13/13 [==============================] - 0s 3ms/step - loss: 0.5301 - val_loss: 0.5160\n",
            "Epoch 310/500\n",
            "13/13 [==============================] - 0s 3ms/step - loss: 0.5301 - val_loss: 0.5161\n",
            "Epoch 311/500\n",
            "13/13 [==============================] - 0s 3ms/step - loss: 0.5301 - val_loss: 0.5160\n",
            "Epoch 312/500\n",
            "13/13 [==============================] - 0s 2ms/step - loss: 0.5301 - val_loss: 0.5161\n",
            "Epoch 313/500\n",
            "13/13 [==============================] - 0s 3ms/step - loss: 0.5301 - val_loss: 0.5161\n",
            "Epoch 314/500\n",
            "13/13 [==============================] - 0s 3ms/step - loss: 0.5300 - val_loss: 0.5160\n",
            "Epoch 315/500\n",
            "13/13 [==============================] - 0s 3ms/step - loss: 0.5301 - val_loss: 0.5159\n",
            "Epoch 316/500\n",
            "13/13 [==============================] - 0s 4ms/step - loss: 0.5300 - val_loss: 0.5159\n",
            "Epoch 317/500\n",
            "13/13 [==============================] - 0s 2ms/step - loss: 0.5300 - val_loss: 0.5159\n",
            "Epoch 318/500\n",
            "13/13 [==============================] - 0s 3ms/step - loss: 0.5300 - val_loss: 0.5159\n",
            "Epoch 319/500\n",
            "13/13 [==============================] - 0s 2ms/step - loss: 0.5300 - val_loss: 0.5159\n",
            "Epoch 320/500\n",
            "13/13 [==============================] - 0s 2ms/step - loss: 0.5300 - val_loss: 0.5159\n",
            "Epoch 321/500\n",
            "13/13 [==============================] - 0s 3ms/step - loss: 0.5300 - val_loss: 0.5159\n",
            "Epoch 322/500\n",
            "13/13 [==============================] - 0s 2ms/step - loss: 0.5299 - val_loss: 0.5159\n",
            "Epoch 323/500\n",
            "13/13 [==============================] - 0s 3ms/step - loss: 0.5299 - val_loss: 0.5159\n",
            "Epoch 324/500\n",
            "13/13 [==============================] - 0s 2ms/step - loss: 0.5299 - val_loss: 0.5159\n",
            "Epoch 325/500\n",
            "13/13 [==============================] - 0s 4ms/step - loss: 0.5299 - val_loss: 0.5160\n",
            "Epoch 326/500\n",
            "13/13 [==============================] - 0s 2ms/step - loss: 0.5299 - val_loss: 0.5157\n",
            "Epoch 327/500\n",
            "13/13 [==============================] - 0s 2ms/step - loss: 0.5299 - val_loss: 0.5159\n",
            "Epoch 328/500\n",
            "13/13 [==============================] - 0s 5ms/step - loss: 0.5299 - val_loss: 0.5158\n",
            "Epoch 329/500\n",
            "13/13 [==============================] - 0s 3ms/step - loss: 0.5299 - val_loss: 0.5159\n",
            "Epoch 330/500\n",
            "13/13 [==============================] - 0s 3ms/step - loss: 0.5298 - val_loss: 0.5158\n",
            "Epoch 331/500\n",
            "13/13 [==============================] - 0s 3ms/step - loss: 0.5298 - val_loss: 0.5158\n",
            "Epoch 332/500\n",
            "13/13 [==============================] - 0s 2ms/step - loss: 0.5298 - val_loss: 0.5157\n",
            "Epoch 333/500\n",
            "13/13 [==============================] - 0s 3ms/step - loss: 0.5298 - val_loss: 0.5158\n",
            "Epoch 334/500\n",
            "13/13 [==============================] - 0s 3ms/step - loss: 0.5298 - val_loss: 0.5158\n",
            "Epoch 335/500\n",
            "13/13 [==============================] - 0s 3ms/step - loss: 0.5298 - val_loss: 0.5159\n",
            "Epoch 336/500\n",
            "13/13 [==============================] - 0s 3ms/step - loss: 0.5298 - val_loss: 0.5159\n",
            "Epoch 337/500\n",
            "13/13 [==============================] - 0s 2ms/step - loss: 0.5298 - val_loss: 0.5157\n",
            "Epoch 338/500\n",
            "13/13 [==============================] - 0s 3ms/step - loss: 0.5298 - val_loss: 0.5159\n",
            "Epoch 339/500\n",
            "13/13 [==============================] - 0s 2ms/step - loss: 0.5298 - val_loss: 0.5157\n",
            "Epoch 340/500\n",
            "13/13 [==============================] - 0s 3ms/step - loss: 0.5297 - val_loss: 0.5159\n",
            "Epoch 341/500\n",
            "13/13 [==============================] - 0s 3ms/step - loss: 0.5297 - val_loss: 0.5159\n",
            "Epoch 342/500\n",
            "13/13 [==============================] - 0s 3ms/step - loss: 0.5297 - val_loss: 0.5158\n",
            "Epoch 343/500\n",
            "13/13 [==============================] - 0s 3ms/step - loss: 0.5297 - val_loss: 0.5158\n",
            "Epoch 344/500\n",
            "13/13 [==============================] - 0s 3ms/step - loss: 0.5297 - val_loss: 0.5156\n",
            "Epoch 345/500\n",
            "13/13 [==============================] - 0s 3ms/step - loss: 0.5297 - val_loss: 0.5158\n",
            "Epoch 346/500\n",
            "13/13 [==============================] - 0s 2ms/step - loss: 0.5297 - val_loss: 0.5157\n",
            "Epoch 347/500\n",
            "13/13 [==============================] - 0s 3ms/step - loss: 0.5297 - val_loss: 0.5157\n",
            "Epoch 348/500\n",
            "13/13 [==============================] - 0s 3ms/step - loss: 0.5297 - val_loss: 0.5158\n",
            "Epoch 349/500\n",
            "13/13 [==============================] - 0s 3ms/step - loss: 0.5297 - val_loss: 0.5159\n",
            "Epoch 350/500\n",
            "13/13 [==============================] - 0s 3ms/step - loss: 0.5296 - val_loss: 0.5159\n",
            "Epoch 351/500\n",
            "13/13 [==============================] - 0s 4ms/step - loss: 0.5297 - val_loss: 0.5157\n",
            "Epoch 352/500\n",
            "13/13 [==============================] - 0s 3ms/step - loss: 0.5296 - val_loss: 0.5157\n",
            "Epoch 353/500\n",
            "13/13 [==============================] - 0s 3ms/step - loss: 0.5296 - val_loss: 0.5158\n",
            "Epoch 354/500\n",
            "13/13 [==============================] - 0s 3ms/step - loss: 0.5296 - val_loss: 0.5159\n",
            "Epoch 355/500\n",
            "13/13 [==============================] - 0s 3ms/step - loss: 0.5296 - val_loss: 0.5158\n",
            "Epoch 356/500\n",
            "13/13 [==============================] - 0s 3ms/step - loss: 0.5296 - val_loss: 0.5159\n",
            "Epoch 357/500\n",
            "13/13 [==============================] - 0s 3ms/step - loss: 0.5296 - val_loss: 0.5159\n",
            "Epoch 358/500\n",
            "13/13 [==============================] - 0s 3ms/step - loss: 0.5296 - val_loss: 0.5159\n",
            "Epoch 359/500\n",
            "13/13 [==============================] - 0s 3ms/step - loss: 0.5296 - val_loss: 0.5157\n",
            "Epoch 360/500\n",
            "13/13 [==============================] - 0s 3ms/step - loss: 0.5296 - val_loss: 0.5158\n",
            "Epoch 361/500\n",
            "13/13 [==============================] - 0s 3ms/step - loss: 0.5296 - val_loss: 0.5158\n",
            "Epoch 362/500\n",
            "13/13 [==============================] - 0s 3ms/step - loss: 0.5295 - val_loss: 0.5158\n",
            "Epoch 363/500\n",
            "13/13 [==============================] - 0s 3ms/step - loss: 0.5296 - val_loss: 0.5156\n",
            "Epoch 364/500\n",
            "13/13 [==============================] - 0s 3ms/step - loss: 0.5296 - val_loss: 0.5158\n",
            "Epoch 365/500\n",
            "13/13 [==============================] - 0s 3ms/step - loss: 0.5295 - val_loss: 0.5158\n",
            "Epoch 366/500\n",
            "13/13 [==============================] - 0s 3ms/step - loss: 0.5295 - val_loss: 0.5157\n",
            "Epoch 367/500\n",
            "13/13 [==============================] - 0s 3ms/step - loss: 0.5295 - val_loss: 0.5157\n",
            "Epoch 368/500\n",
            "13/13 [==============================] - 0s 2ms/step - loss: 0.5295 - val_loss: 0.5158\n",
            "Epoch 369/500\n",
            "13/13 [==============================] - 0s 3ms/step - loss: 0.5295 - val_loss: 0.5157\n",
            "Epoch 370/500\n",
            "13/13 [==============================] - 0s 3ms/step - loss: 0.5295 - val_loss: 0.5157\n",
            "Epoch 371/500\n",
            "13/13 [==============================] - 0s 3ms/step - loss: 0.5295 - val_loss: 0.5156\n",
            "Epoch 372/500\n",
            "13/13 [==============================] - 0s 3ms/step - loss: 0.5295 - val_loss: 0.5156\n",
            "Epoch 373/500\n",
            "13/13 [==============================] - 0s 3ms/step - loss: 0.5295 - val_loss: 0.5158\n",
            "Epoch 374/500\n",
            "13/13 [==============================] - 0s 3ms/step - loss: 0.5295 - val_loss: 0.5158\n",
            "Epoch 375/500\n",
            "13/13 [==============================] - 0s 3ms/step - loss: 0.5295 - val_loss: 0.5158\n",
            "Epoch 376/500\n",
            "13/13 [==============================] - 0s 3ms/step - loss: 0.5295 - val_loss: 0.5157\n",
            "Epoch 377/500\n",
            "13/13 [==============================] - 0s 3ms/step - loss: 0.5295 - val_loss: 0.5158\n",
            "Epoch 378/500\n",
            "13/13 [==============================] - 0s 3ms/step - loss: 0.5295 - val_loss: 0.5158\n",
            "Epoch 379/500\n",
            "13/13 [==============================] - 0s 3ms/step - loss: 0.5295 - val_loss: 0.5159\n",
            "Epoch 380/500\n",
            "13/13 [==============================] - 0s 3ms/step - loss: 0.5295 - val_loss: 0.5157\n",
            "Epoch 381/500\n",
            "13/13 [==============================] - 0s 3ms/step - loss: 0.5294 - val_loss: 0.5157\n",
            "Epoch 382/500\n",
            "13/13 [==============================] - 0s 3ms/step - loss: 0.5294 - val_loss: 0.5157\n",
            "Epoch 383/500\n",
            "13/13 [==============================] - 0s 3ms/step - loss: 0.5294 - val_loss: 0.5157\n",
            "Epoch 384/500\n",
            "13/13 [==============================] - 0s 3ms/step - loss: 0.5295 - val_loss: 0.5159\n",
            "Epoch 385/500\n",
            "13/13 [==============================] - 0s 3ms/step - loss: 0.5294 - val_loss: 0.5158\n",
            "Epoch 386/500\n",
            "13/13 [==============================] - 0s 3ms/step - loss: 0.5294 - val_loss: 0.5157\n",
            "Epoch 387/500\n",
            "13/13 [==============================] - 0s 3ms/step - loss: 0.5294 - val_loss: 0.5157\n",
            "Epoch 388/500\n",
            "13/13 [==============================] - 0s 3ms/step - loss: 0.5294 - val_loss: 0.5156\n",
            "Epoch 389/500\n",
            "13/13 [==============================] - 0s 3ms/step - loss: 0.5294 - val_loss: 0.5156\n",
            "Epoch 390/500\n",
            "13/13 [==============================] - 0s 3ms/step - loss: 0.5294 - val_loss: 0.5156\n",
            "Epoch 391/500\n",
            "13/13 [==============================] - 0s 3ms/step - loss: 0.5294 - val_loss: 0.5157\n",
            "Epoch 392/500\n",
            "13/13 [==============================] - 0s 3ms/step - loss: 0.5294 - val_loss: 0.5158\n",
            "Epoch 393/500\n",
            "13/13 [==============================] - 0s 3ms/step - loss: 0.5294 - val_loss: 0.5158\n",
            "Epoch 394/500\n",
            "13/13 [==============================] - 0s 3ms/step - loss: 0.5294 - val_loss: 0.5157\n",
            "Epoch 395/500\n",
            "13/13 [==============================] - 0s 3ms/step - loss: 0.5294 - val_loss: 0.5156\n",
            "Epoch 396/500\n",
            "13/13 [==============================] - 0s 3ms/step - loss: 0.5294 - val_loss: 0.5158\n",
            "Epoch 397/500\n",
            "13/13 [==============================] - 0s 3ms/step - loss: 0.5294 - val_loss: 0.5157\n",
            "Epoch 398/500\n",
            "13/13 [==============================] - 0s 3ms/step - loss: 0.5294 - val_loss: 0.5158\n",
            "Epoch 399/500\n",
            "13/13 [==============================] - 0s 3ms/step - loss: 0.5294 - val_loss: 0.5157\n",
            "Epoch 400/500\n",
            "13/13 [==============================] - 0s 3ms/step - loss: 0.5294 - val_loss: 0.5157\n",
            "Epoch 401/500\n",
            "13/13 [==============================] - 0s 3ms/step - loss: 0.5294 - val_loss: 0.5158\n",
            "Epoch 402/500\n",
            "13/13 [==============================] - 0s 4ms/step - loss: 0.5294 - val_loss: 0.5158\n",
            "Epoch 403/500\n",
            "13/13 [==============================] - 0s 2ms/step - loss: 0.5294 - val_loss: 0.5157\n",
            "Epoch 404/500\n",
            "13/13 [==============================] - 0s 2ms/step - loss: 0.5294 - val_loss: 0.5157\n",
            "Epoch 405/500\n",
            "13/13 [==============================] - 0s 3ms/step - loss: 0.5294 - val_loss: 0.5156\n",
            "Epoch 406/500\n",
            "13/13 [==============================] - 0s 3ms/step - loss: 0.5293 - val_loss: 0.5156\n",
            "Epoch 407/500\n",
            "13/13 [==============================] - 0s 2ms/step - loss: 0.5293 - val_loss: 0.5158\n",
            "Epoch 408/500\n",
            "13/13 [==============================] - 0s 3ms/step - loss: 0.5293 - val_loss: 0.5157\n",
            "Epoch 409/500\n",
            "13/13 [==============================] - 0s 3ms/step - loss: 0.5293 - val_loss: 0.5157\n",
            "Epoch 410/500\n",
            "13/13 [==============================] - 0s 3ms/step - loss: 0.5293 - val_loss: 0.5157\n",
            "Epoch 411/500\n",
            "13/13 [==============================] - 0s 3ms/step - loss: 0.5293 - val_loss: 0.5156\n",
            "Epoch 412/500\n",
            "13/13 [==============================] - 0s 4ms/step - loss: 0.5293 - val_loss: 0.5157\n",
            "Epoch 413/500\n",
            "13/13 [==============================] - 0s 3ms/step - loss: 0.5294 - val_loss: 0.5158\n",
            "Epoch 414/500\n",
            "13/13 [==============================] - 0s 4ms/step - loss: 0.5293 - val_loss: 0.5156\n",
            "Epoch 415/500\n",
            "13/13 [==============================] - 0s 2ms/step - loss: 0.5293 - val_loss: 0.5158\n",
            "Epoch 416/500\n",
            "13/13 [==============================] - 0s 3ms/step - loss: 0.5293 - val_loss: 0.5158\n",
            "Epoch 417/500\n",
            "13/13 [==============================] - 0s 2ms/step - loss: 0.5293 - val_loss: 0.5158\n",
            "Epoch 418/500\n",
            "13/13 [==============================] - 0s 2ms/step - loss: 0.5293 - val_loss: 0.5158\n",
            "Epoch 419/500\n",
            "13/13 [==============================] - 0s 3ms/step - loss: 0.5293 - val_loss: 0.5158\n",
            "Epoch 420/500\n",
            "13/13 [==============================] - 0s 3ms/step - loss: 0.5293 - val_loss: 0.5157\n",
            "Epoch 421/500\n",
            "13/13 [==============================] - 0s 3ms/step - loss: 0.5293 - val_loss: 0.5157\n",
            "Epoch 422/500\n",
            "13/13 [==============================] - 0s 2ms/step - loss: 0.5293 - val_loss: 0.5157\n",
            "Epoch 423/500\n",
            "13/13 [==============================] - 0s 4ms/step - loss: 0.5293 - val_loss: 0.5157\n",
            "Epoch 424/500\n",
            "13/13 [==============================] - 0s 2ms/step - loss: 0.5293 - val_loss: 0.5158\n",
            "Epoch 425/500\n",
            "13/13 [==============================] - 0s 3ms/step - loss: 0.5293 - val_loss: 0.5159\n",
            "Epoch 426/500\n",
            "13/13 [==============================] - 0s 3ms/step - loss: 0.5293 - val_loss: 0.5159\n",
            "Epoch 427/500\n",
            "13/13 [==============================] - 0s 3ms/step - loss: 0.5293 - val_loss: 0.5158\n",
            "Epoch 428/500\n",
            "13/13 [==============================] - 0s 3ms/step - loss: 0.5293 - val_loss: 0.5157\n",
            "Epoch 429/500\n",
            "13/13 [==============================] - 0s 3ms/step - loss: 0.5293 - val_loss: 0.5156\n",
            "Epoch 430/500\n",
            "13/13 [==============================] - 0s 3ms/step - loss: 0.5293 - val_loss: 0.5158\n",
            "Epoch 431/500\n",
            "13/13 [==============================] - 0s 3ms/step - loss: 0.5293 - val_loss: 0.5158\n",
            "Epoch 432/500\n",
            "13/13 [==============================] - 0s 3ms/step - loss: 0.5293 - val_loss: 0.5158\n",
            "Epoch 433/500\n",
            "13/13 [==============================] - 0s 3ms/step - loss: 0.5293 - val_loss: 0.5160\n",
            "Epoch 434/500\n",
            "13/13 [==============================] - 0s 3ms/step - loss: 0.5293 - val_loss: 0.5159\n",
            "Epoch 435/500\n",
            "13/13 [==============================] - 0s 3ms/step - loss: 0.5293 - val_loss: 0.5157\n",
            "Epoch 436/500\n",
            "13/13 [==============================] - 0s 3ms/step - loss: 0.5293 - val_loss: 0.5157\n",
            "Epoch 437/500\n",
            "13/13 [==============================] - 0s 4ms/step - loss: 0.5293 - val_loss: 0.5159\n",
            "Epoch 438/500\n",
            "13/13 [==============================] - 0s 4ms/step - loss: 0.5293 - val_loss: 0.5159\n",
            "Epoch 439/500\n",
            "13/13 [==============================] - 0s 4ms/step - loss: 0.5293 - val_loss: 0.5157\n",
            "Epoch 440/500\n",
            "13/13 [==============================] - 0s 2ms/step - loss: 0.5292 - val_loss: 0.5157\n",
            "Epoch 441/500\n",
            "13/13 [==============================] - 0s 3ms/step - loss: 0.5293 - val_loss: 0.5159\n",
            "Epoch 442/500\n",
            "13/13 [==============================] - 0s 4ms/step - loss: 0.5292 - val_loss: 0.5158\n",
            "Epoch 443/500\n",
            "13/13 [==============================] - 0s 3ms/step - loss: 0.5292 - val_loss: 0.5158\n",
            "Epoch 444/500\n",
            "13/13 [==============================] - 0s 3ms/step - loss: 0.5293 - val_loss: 0.5158\n",
            "Epoch 445/500\n",
            "13/13 [==============================] - 0s 3ms/step - loss: 0.5293 - val_loss: 0.5157\n",
            "Epoch 446/500\n",
            "13/13 [==============================] - 0s 3ms/step - loss: 0.5293 - val_loss: 0.5161\n",
            "Epoch 447/500\n",
            "13/13 [==============================] - 0s 3ms/step - loss: 0.5293 - val_loss: 0.5159\n",
            "Epoch 448/500\n",
            "13/13 [==============================] - 0s 3ms/step - loss: 0.5293 - val_loss: 0.5158\n",
            "Epoch 449/500\n",
            "13/13 [==============================] - 0s 3ms/step - loss: 0.5292 - val_loss: 0.5159\n",
            "Epoch 450/500\n",
            "13/13 [==============================] - 0s 3ms/step - loss: 0.5293 - val_loss: 0.5158\n",
            "Epoch 451/500\n",
            "13/13 [==============================] - 0s 3ms/step - loss: 0.5293 - val_loss: 0.5158\n",
            "Epoch 452/500\n",
            "13/13 [==============================] - 0s 3ms/step - loss: 0.5292 - val_loss: 0.5158\n",
            "Epoch 453/500\n",
            "13/13 [==============================] - 0s 3ms/step - loss: 0.5292 - val_loss: 0.5158\n",
            "Epoch 454/500\n",
            "13/13 [==============================] - 0s 2ms/step - loss: 0.5293 - val_loss: 0.5158\n",
            "Epoch 455/500\n",
            "13/13 [==============================] - 0s 3ms/step - loss: 0.5293 - val_loss: 0.5157\n",
            "Epoch 456/500\n",
            "13/13 [==============================] - 0s 3ms/step - loss: 0.5292 - val_loss: 0.5158\n",
            "Epoch 457/500\n",
            "13/13 [==============================] - 0s 3ms/step - loss: 0.5292 - val_loss: 0.5159\n",
            "Epoch 458/500\n",
            "13/13 [==============================] - 0s 3ms/step - loss: 0.5293 - val_loss: 0.5157\n",
            "Epoch 459/500\n",
            "13/13 [==============================] - 0s 3ms/step - loss: 0.5292 - val_loss: 0.5159\n",
            "Epoch 460/500\n",
            "13/13 [==============================] - 0s 3ms/step - loss: 0.5293 - val_loss: 0.5158\n",
            "Epoch 461/500\n",
            "13/13 [==============================] - 0s 3ms/step - loss: 0.5292 - val_loss: 0.5158\n",
            "Epoch 462/500\n",
            "13/13 [==============================] - 0s 3ms/step - loss: 0.5292 - val_loss: 0.5160\n",
            "Epoch 463/500\n",
            "13/13 [==============================] - 0s 3ms/step - loss: 0.5292 - val_loss: 0.5159\n",
            "Epoch 464/500\n",
            "13/13 [==============================] - 0s 3ms/step - loss: 0.5292 - val_loss: 0.5159\n",
            "Epoch 465/500\n",
            "13/13 [==============================] - 0s 3ms/step - loss: 0.5293 - val_loss: 0.5157\n",
            "Epoch 466/500\n",
            "13/13 [==============================] - 0s 3ms/step - loss: 0.5292 - val_loss: 0.5159\n",
            "Epoch 467/500\n",
            "13/13 [==============================] - 0s 3ms/step - loss: 0.5292 - val_loss: 0.5159\n",
            "Epoch 468/500\n",
            "13/13 [==============================] - 0s 3ms/step - loss: 0.5292 - val_loss: 0.5160\n",
            "Epoch 469/500\n",
            "13/13 [==============================] - 0s 3ms/step - loss: 0.5292 - val_loss: 0.5159\n",
            "Epoch 470/500\n",
            "13/13 [==============================] - 0s 3ms/step - loss: 0.5292 - val_loss: 0.5159\n",
            "Epoch 471/500\n",
            "13/13 [==============================] - 0s 2ms/step - loss: 0.5292 - val_loss: 0.5160\n",
            "Epoch 472/500\n",
            "13/13 [==============================] - 0s 3ms/step - loss: 0.5292 - val_loss: 0.5159\n",
            "Epoch 473/500\n",
            "13/13 [==============================] - 0s 3ms/step - loss: 0.5292 - val_loss: 0.5159\n",
            "Epoch 474/500\n",
            "13/13 [==============================] - 0s 4ms/step - loss: 0.5292 - val_loss: 0.5159\n",
            "Epoch 475/500\n",
            "13/13 [==============================] - 0s 3ms/step - loss: 0.5292 - val_loss: 0.5158\n",
            "Epoch 476/500\n",
            "13/13 [==============================] - 0s 3ms/step - loss: 0.5292 - val_loss: 0.5158\n",
            "Epoch 477/500\n",
            "13/13 [==============================] - 0s 3ms/step - loss: 0.5292 - val_loss: 0.5158\n",
            "Epoch 478/500\n",
            "13/13 [==============================] - 0s 3ms/step - loss: 0.5292 - val_loss: 0.5159\n",
            "Epoch 479/500\n",
            "13/13 [==============================] - 0s 3ms/step - loss: 0.5292 - val_loss: 0.5160\n",
            "Epoch 480/500\n",
            "13/13 [==============================] - 0s 2ms/step - loss: 0.5292 - val_loss: 0.5159\n",
            "Epoch 481/500\n",
            "13/13 [==============================] - 0s 3ms/step - loss: 0.5292 - val_loss: 0.5159\n",
            "Epoch 482/500\n",
            "13/13 [==============================] - 0s 3ms/step - loss: 0.5292 - val_loss: 0.5159\n",
            "Epoch 483/500\n",
            "13/13 [==============================] - 0s 3ms/step - loss: 0.5292 - val_loss: 0.5159\n",
            "Epoch 484/500\n",
            "13/13 [==============================] - 0s 3ms/step - loss: 0.5292 - val_loss: 0.5159\n",
            "Epoch 485/500\n",
            "13/13 [==============================] - 0s 3ms/step - loss: 0.5292 - val_loss: 0.5158\n",
            "Epoch 486/500\n",
            "13/13 [==============================] - 0s 3ms/step - loss: 0.5292 - val_loss: 0.5159\n",
            "Epoch 487/500\n",
            "13/13 [==============================] - 0s 3ms/step - loss: 0.5292 - val_loss: 0.5159\n",
            "Epoch 488/500\n",
            "13/13 [==============================] - 0s 3ms/step - loss: 0.5292 - val_loss: 0.5159\n",
            "Epoch 489/500\n",
            "13/13 [==============================] - 0s 3ms/step - loss: 0.5292 - val_loss: 0.5159\n",
            "Epoch 490/500\n",
            "13/13 [==============================] - 0s 3ms/step - loss: 0.5292 - val_loss: 0.5159\n",
            "Epoch 491/500\n",
            "13/13 [==============================] - 0s 4ms/step - loss: 0.5292 - val_loss: 0.5158\n",
            "Epoch 492/500\n",
            "13/13 [==============================] - 0s 3ms/step - loss: 0.5292 - val_loss: 0.5158\n",
            "Epoch 493/500\n",
            "13/13 [==============================] - 0s 3ms/step - loss: 0.5292 - val_loss: 0.5158\n",
            "Epoch 494/500\n",
            "13/13 [==============================] - 0s 3ms/step - loss: 0.5292 - val_loss: 0.5158\n",
            "Epoch 495/500\n",
            "13/13 [==============================] - 0s 3ms/step - loss: 0.5292 - val_loss: 0.5160\n",
            "Epoch 496/500\n",
            "13/13 [==============================] - 0s 3ms/step - loss: 0.5292 - val_loss: 0.5160\n",
            "Epoch 497/500\n",
            "13/13 [==============================] - 0s 4ms/step - loss: 0.5292 - val_loss: 0.5159\n",
            "Epoch 498/500\n",
            "13/13 [==============================] - 0s 3ms/step - loss: 0.5292 - val_loss: 0.5159\n",
            "Epoch 499/500\n",
            "13/13 [==============================] - 0s 3ms/step - loss: 0.5292 - val_loss: 0.5159\n",
            "Epoch 500/500\n",
            "13/13 [==============================] - 0s 3ms/step - loss: 0.5292 - val_loss: 0.5160\n"
          ]
        }
      ]
    },
    {
      "cell_type": "code",
      "source": [
        "plt.figure(figsize=(8, 8))\n",
        "plt.plot(result.history['loss'])\n",
        "plt.plot(result.history['val_loss'])\n",
        "plt.title('model loss')\n",
        "plt.ylabel('loss')\n",
        "plt.xlabel('epoch')\n",
        "plt.legend(['train', 'validation'], loc='upper left')\n",
        "plt.show()"
      ],
      "metadata": {
        "colab": {
          "base_uri": "https://localhost:8080/",
          "height": 513
        },
        "id": "0WfDDefYy9ti",
        "outputId": "3ea41294-aee0-4481-c2d2-ec9f7939842c"
      },
      "execution_count": 262,
      "outputs": [
        {
          "output_type": "display_data",
          "data": {
            "text/plain": [
              "<Figure size 576x576 with 1 Axes>"
            ],
            "image/png": "[encoded data removed]"
          },
          "metadata": {
            "needs_background": "light"
          }
        }
      ]
    },
    {
      "cell_type": "code",
      "source": [
        "y_pred=model.predict(x_test)"
      ],
      "metadata": {
        "id": "mfj5aA9yGhqM",
        "colab": {
          "base_uri": "https://localhost:8080/"
        },
        "outputId": "3a7f2aba-85e2-412a-a142-492416005bdd"
      },
      "execution_count": 263,
      "outputs": [
        {
          "output_type": "stream",
          "name": "stderr",
          "text": [
            "WARNING:tensorflow:5 out of the last 5 calls to <function Model.make_predict_function.<locals>.predict_function at 0x7f1024e91dd0> triggered tf.function retracing. Tracing is expensive and the excessive number of tracings could be due to (1) creating @tf.function repeatedly in a loop, (2) passing tensors with different shapes, (3) passing Python objects instead of tensors. For (1), please define your @tf.function outside of the loop. For (2), @tf.function has experimental_relax_shapes=True option that relaxes argument shapes that can avoid unnecessary retracing. For (3), please refer to https://www.tensorflow.org/guide/function#controlling_retracing and https://www.tensorflow.org/api_docs/python/tf/function for  more details.\n"
          ]
        }
      ]
    },
    {
      "cell_type": "code",
      "source": [
        "print(y_pred)"
      ],
      "metadata": {
        "colab": {
          "base_uri": "https://localhost:8080/"
        },
        "id": "TyJYpvWEGtZh",
        "outputId": "a6c23eb8-58f9-4c62-ab6b-ac3330a79c5f"
      },
      "execution_count": 264,
      "outputs": [
        {
          "output_type": "stream",
          "name": "stdout",
          "text": [
            "[[0.40462005 0.33032596 0.07439045 0.19066352]\n",
            " [0.40462005 0.33032596 0.07439045 0.19066352]\n",
            " [0.40462005 0.33032596 0.07439045 0.19066352]\n",
            " [0.40462005 0.33032596 0.07439045 0.19066352]\n",
            " [0.40462005 0.33032596 0.07439045 0.19066352]\n",
            " [0.40462005 0.33032596 0.07439045 0.19066352]\n",
            " [0.40462005 0.33032596 0.07439045 0.19066352]\n",
            " [0.40462005 0.33032596 0.07439045 0.19066352]\n",
            " [0.40462005 0.33032596 0.07439045 0.19066352]]\n"
          ]
        }
      ]
    },
    {
      "cell_type": "code",
      "source": [
        "from sklearn.metrics import confusion_matrix,classification_report"
      ],
      "metadata": {
        "id": "Cu8lYlQBOfhq"
      },
      "execution_count": 265,
      "outputs": []
    },
    {
      "cell_type": "code",
      "source": [
        "y_test"
      ],
      "metadata": {
        "colab": {
          "base_uri": "https://localhost:8080/",
          "height": 332
        },
        "id": "t6ITXI2gbgh8",
        "outputId": "e50847e9-9a3a-4874-8d75-fb2209ec16f1"
      },
      "execution_count": 266,
      "outputs": [
        {
          "output_type": "execute_result",
          "data": {
            "text/plain": [
              "    limestone  dolomite  shale  sandstone\n",
              "30          0         0      0          1\n",
              "0           1         0      0          0\n",
              "22          1         0      0          0\n",
              "31          0         0      0          1\n",
              "18          1         0      0          0\n",
              "28          0         1      0          0\n",
              "10          1         0      0          0\n",
              "53          0         1      0          0\n",
              "4           1         0      0          0"
            ],
            "text/html": [
              "\n",
              "  <div id=\"df-72ef72c5-4cc6-4d22-9734-599c01477c30\">\n",
              "    <div class=\"colab-df-container\">\n",
              "      <div>\n",
              "<style scoped>\n",
              "    .dataframe tbody tr th:only-of-type {\n",
              "        vertical-align: middle;\n",
              "    }\n",
              "\n",
              "    .dataframe tbody tr th {\n",
              "        vertical-align: top;\n",
              "    }\n",
              "\n",
              "    .dataframe thead th {\n",
              "        text-align: right;\n",
              "    }\n",
              "</style>\n",
              "<table border=\"1\" class=\"dataframe\">\n",
              "  <thead>\n",
              "    <tr style=\"text-align: right;\">\n",
              "      <th></th>\n",
              "      <th>limestone</th>\n",
              "      <th>dolomite</th>\n",
              "      <th>shale</th>\n",
              "      <th>sandstone</th>\n",
              "    </tr>\n",
              "  </thead>\n",
              "  <tbody>\n",
              "    <tr>\n",
              "      <th>30</th>\n",
              "      <td>0</td>\n",
              "      <td>0</td>\n",
              "      <td>0</td>\n",
              "      <td>1</td>\n",
              "    </tr>\n",
              "    <tr>\n",
              "      <th>0</th>\n",
              "      <td>1</td>\n",
              "      <td>0</td>\n",
              "      <td>0</td>\n",
              "      <td>0</td>\n",
              "    </tr>\n",
              "    <tr>\n",
              "      <th>22</th>\n",
              "      <td>1</td>\n",
              "      <td>0</td>\n",
              "      <td>0</td>\n",
              "      <td>0</td>\n",
              "    </tr>\n",
              "    <tr>\n",
              "      <th>31</th>\n",
              "      <td>0</td>\n",
              "      <td>0</td>\n",
              "      <td>0</td>\n",
              "      <td>1</td>\n",
              "    </tr>\n",
              "    <tr>\n",
              "      <th>18</th>\n",
              "      <td>1</td>\n",
              "      <td>0</td>\n",
              "      <td>0</td>\n",
              "      <td>0</td>\n",
              "    </tr>\n",
              "    <tr>\n",
              "      <th>28</th>\n",
              "      <td>0</td>\n",
              "      <td>1</td>\n",
              "      <td>0</td>\n",
              "      <td>0</td>\n",
              "    </tr>\n",
              "    <tr>\n",
              "      <th>10</th>\n",
              "      <td>1</td>\n",
              "      <td>0</td>\n",
              "      <td>0</td>\n",
              "      <td>0</td>\n",
              "    </tr>\n",
              "    <tr>\n",
              "      <th>53</th>\n",
              "      <td>0</td>\n",
              "      <td>1</td>\n",
              "      <td>0</td>\n",
              "      <td>0</td>\n",
              "    </tr>\n",
              "    <tr>\n",
              "      <th>4</th>\n",
              "      <td>1</td>\n",
              "      <td>0</td>\n",
              "      <td>0</td>\n",
              "      <td>0</td>\n",
              "    </tr>\n",
              "  </tbody>\n",
              "</table>\n",
              "</div>\n",
              "      <button class=\"colab-df-convert\" onclick=\"convertToInteractive('df-72ef72c5-4cc6-4d22-9734-599c01477c30')\"\n",
              "              title=\"Convert this dataframe to an interactive table.\"\n",
              "              style=\"display:none;\">\n",
              "        \n",
              "  <svg xmlns=\"http://www.w3.org/2000/svg\" height=\"24px\"viewBox=\"0 0 24 24\"\n",
              "       width=\"24px\">\n",
              "    <path d=\"M0 0h24v24H0V0z\" fill=\"none\"/>\n",
              "    <path d=\"M18.56 5.44l.94 2.06.94-2.06 2.06-.94-2.06-.94-.94-2.06-.94 2.06-2.06.94zm-11 1L8.5 8.5l.94-2.06 2.06-.94-2.06-.94L8.5 2.5l-.94 2.06-2.06.94zm10 10l.94 2.06.94-2.06 2.06-.94-2.06-.94-.94-2.06-.94 2.06-2.06.94z\"/><path d=\"M17.41 7.96l-1.37-1.37c-.4-.4-.92-.59-1.43-.59-.52 0-1.04.2-1.43.59L10.3 9.45l-7.72 7.72c-.78.78-.78 2.05 0 2.83L4 21.41c.39.39.9.59 1.41.59.51 0 1.02-.2 1.41-.59l7.78-7.78 2.81-2.81c.8-.78.8-2.07 0-2.86zM5.41 20L4 18.59l7.72-7.72 1.47 1.35L5.41 20z\"/>\n",
              "  </svg>\n",
              "      </button>\n",
              "      \n",
              "  <style>\n",
              "    .colab-df-container {\n",
              "      display:flex;\n",
              "      flex-wrap:wrap;\n",
              "      gap: 12px;\n",
              "    }\n",
              "\n",
              "    .colab-df-convert {\n",
              "      background-color: #E8F0FE;\n",
              "      border: none;\n",
              "      border-radius: 50%;\n",
              "      cursor: pointer;\n",
              "      display: none;\n",
              "      fill: #1967D2;\n",
              "      height: 32px;\n",
              "      padding: 0 0 0 0;\n",
              "      width: 32px;\n",
              "    }\n",
              "\n",
              "    .colab-df-convert:hover {\n",
              "      background-color: #E2EBFA;\n",
              "      box-shadow: 0px 1px 2px rgba(60, 64, 67, 0.3), 0px 1px 3px 1px rgba(60, 64, 67, 0.15);\n",
              "      fill: #174EA6;\n",
              "    }\n",
              "\n",
              "    [theme=dark] .colab-df-convert {\n",
              "      background-color: #3B4455;\n",
              "      fill: #D2E3FC;\n",
              "    }\n",
              "\n",
              "    [theme=dark] .colab-df-convert:hover {\n",
              "      background-color: #434B5C;\n",
              "      box-shadow: 0px 1px 3px 1px rgba(0, 0, 0, 0.15);\n",
              "      filter: drop-shadow(0px 1px 2px rgba(0, 0, 0, 0.3));\n",
              "      fill: #FFFFFF;\n",
              "    }\n",
              "  </style>\n",
              "\n",
              "      <script>\n",
              "        const buttonEl =\n",
              "          document.querySelector('#df-72ef72c5-4cc6-4d22-9734-599c01477c30 button.colab-df-convert');\n",
              "        buttonEl.style.display =\n",
              "          google.colab.kernel.accessAllowed ? 'block' : 'none';\n",
              "\n",
              "        async function convertToInteractive(key) {\n",
              "          const element = document.querySelector('#df-72ef72c5-4cc6-4d22-9734-599c01477c30');\n",
              "          const dataTable =\n",
              "            await google.colab.kernel.invokeFunction('convertToInteractive',\n",
              "                                                     [key], {});\n",
              "          if (!dataTable) return;\n",
              "\n",
              "          const docLinkHtml = 'Like what you see? Visit the ' +\n",
              "            '<a target=\"_blank\" href=https://colab.research.google.com/notebooks/data_table.ipynb>data table notebook</a>'\n",
              "            + ' to learn more about interactive tables.';\n",
              "          element.innerHTML = '';\n",
              "          dataTable['output_type'] = 'display_data';\n",
              "          await google.colab.output.renderOutput(dataTable, element);\n",
              "          const docLink = document.createElement('div');\n",
              "          docLink.innerHTML = docLinkHtml;\n",
              "          element.appendChild(docLink);\n",
              "        }\n",
              "      </script>\n",
              "    </div>\n",
              "  </div>\n",
              "  "
            ]
          },
          "metadata": {},
          "execution_count": 266
        }
      ]
    },
    {
      "cell_type": "code",
      "source": [
        "y_pred"
      ],
      "metadata": {
        "colab": {
          "base_uri": "https://localhost:8080/"
        },
        "id": "QelcMdFeblbF",
        "outputId": "1a160cde-51ec-4079-eb9e-97b5572addbd"
      },
      "execution_count": 267,
      "outputs": [
        {
          "output_type": "execute_result",
          "data": {
            "text/plain": [
              "array([[0.40462005, 0.33032596, 0.07439045, 0.19066352],\n",
              "       [0.40462005, 0.33032596, 0.07439045, 0.19066352],\n",
              "       [0.40462005, 0.33032596, 0.07439045, 0.19066352],\n",
              "       [0.40462005, 0.33032596, 0.07439045, 0.19066352],\n",
              "       [0.40462005, 0.33032596, 0.07439045, 0.19066352],\n",
              "       [0.40462005, 0.33032596, 0.07439045, 0.19066352],\n",
              "       [0.40462005, 0.33032596, 0.07439045, 0.19066352],\n",
              "       [0.40462005, 0.33032596, 0.07439045, 0.19066352],\n",
              "       [0.40462005, 0.33032596, 0.07439045, 0.19066352]], dtype=float32)"
            ]
          },
          "metadata": {},
          "execution_count": 267
        }
      ]
    },
    {
      "cell_type": "code",
      "source": [
        "\n",
        "for i in range(len(y_pred)):\n",
        "  for j in range(4):\n",
        "    mx = max(y_pred[i])\n",
        "    if y_pred[i][j]==mx:\n",
        "      y_pred[i][j]=1\n",
        "    else:\n",
        "      y_pred[i][j]=0\n",
        "y_pred"
      ],
      "metadata": {
        "colab": {
          "base_uri": "https://localhost:8080/"
        },
        "id": "5EsLr2tI1Qew",
        "outputId": "7617c983-8ea3-421e-f2b7-9da7bbfd773f"
      },
      "execution_count": 268,
      "outputs": [
        {
          "output_type": "execute_result",
          "data": {
            "text/plain": [
              "array([[1., 0., 0., 0.],\n",
              "       [1., 0., 0., 0.],\n",
              "       [1., 0., 0., 0.],\n",
              "       [1., 0., 0., 0.],\n",
              "       [1., 0., 0., 0.],\n",
              "       [1., 0., 0., 0.],\n",
              "       [1., 0., 0., 0.],\n",
              "       [1., 0., 0., 0.],\n",
              "       [1., 0., 0., 0.]], dtype=float32)"
            ]
          },
          "metadata": {},
          "execution_count": 268
        }
      ]
    },
    {
      "cell_type": "code",
      "source": [
        "classification_report(y_test, y_pred)"
      ],
      "metadata": {
        "id": "9Bu_Pp9MliQz",
        "colab": {
          "base_uri": "https://localhost:8080/",
          "height": 160
        },
        "outputId": "ff8c013a-2aba-4b71-c755-09c413e7e8f6"
      },
      "execution_count": 269,
      "outputs": [
        {
          "output_type": "stream",
          "name": "stderr",
          "text": [
            "/usr/local/lib/python3.7/dist-packages/sklearn/metrics/_classification.py:1318: UndefinedMetricWarning: Precision and F-score are ill-defined and being set to 0.0 in labels with no predicted samples. Use `zero_division` parameter to control this behavior.\n",
            "  _warn_prf(average, modifier, msg_start, len(result))\n",
            "/usr/local/lib/python3.7/dist-packages/sklearn/metrics/_classification.py:1318: UndefinedMetricWarning: Recall and F-score are ill-defined and being set to 0.0 in labels with no true samples. Use `zero_division` parameter to control this behavior.\n",
            "  _warn_prf(average, modifier, msg_start, len(result))\n"
          ]
        },
        {
          "output_type": "execute_result",
          "data": {
            "text/plain": [
              "'              precision    recall  f1-score   support\\n\\n           0       0.56      1.00      0.71         5\\n           1       0.00      0.00      0.00         2\\n           2       0.00      0.00      0.00         0\\n           3       0.00      0.00      0.00         2\\n\\n   micro avg       0.56      0.56      0.56         9\\n   macro avg       0.14      0.25      0.18         9\\nweighted avg       0.31      0.56      0.40         9\\n samples avg       0.56      0.56      0.56         9\\n'"
            ],
            "application/vnd.google.colaboratory.intrinsic+json": {
              "type": "string"
            }
          },
          "metadata": {},
          "execution_count": 269
        }
      ]
    },
    {
      "cell_type": "code",
      "source": [
        "from sklearn import metrics\n",
        "print(\"Accuracy:\",metrics.accuracy_score(y_test, y_pred))"
      ],
      "metadata": {
        "colab": {
          "base_uri": "https://localhost:8080/"
        },
        "id": "rCoEzEjU4DVk",
        "outputId": "b810c9dc-466a-42b1-d327-4468e4e6ef5f"
      },
      "execution_count": 270,
      "outputs": [
        {
          "output_type": "stream",
          "name": "stdout",
          "text": [
            "Accuracy: 0.5555555555555556\n"
          ]
        }
      ]
    },
    {
      "cell_type": "markdown",
      "source": [
        "Decision tree"
      ],
      "metadata": {
        "id": "0v_pwVl1lpWE"
      }
    },
    {
      "cell_type": "code",
      "source": [
        "from sklearn.preprocessing import StandardScaler    \n",
        "st_x= StandardScaler()    \n",
        "x_train= st_x.fit_transform(x_train)    \n",
        "x_test= st_x.transform(x_test) "
      ],
      "metadata": {
        "id": "U_WbVFIpmgul"
      },
      "execution_count": 271,
      "outputs": []
    },
    {
      "cell_type": "code",
      "source": [
        "from sklearn.tree import DecisionTreeClassifier\n",
        "from sklearn.model_selection import cross_val_score\n",
        "dt_model=DecisionTreeClassifier(criterion='gini', min_samples_split=2, min_samples_leaf=1, max_features=\"sqrt\")\n",
        "mse_dt=cross_val_score(dt_model,x_train,y_train,scoring=\"neg_mean_squared_error\",cv=20)\n",
        "mean_mse_dt=np.mean(mse_dt)\n",
        "print(mse_dt,mean_mse_dt)\n",
        "dt_model.fit(x_train,y_train)"
      ],
      "metadata": {
        "colab": {
          "base_uri": "https://localhost:8080/"
        },
        "id": "OsR4g4ntll62",
        "outputId": "ffeec386-f888-4df8-a1a6-00863c0cc48a"
      },
      "execution_count": 272,
      "outputs": [
        {
          "output_type": "stream",
          "name": "stdout",
          "text": [
            "[-0.125      -0.25       -0.125      -0.         -0.25       -0.\n",
            " -0.125      -0.         -0.125      -0.25       -0.         -0.125\n",
            " -0.         -0.         -0.16666667 -0.16666667 -0.16666667 -0.16666667\n",
            " -0.         -0.        ] -0.10208333333333333\n"
          ]
        },
        {
          "output_type": "execute_result",
          "data": {
            "text/plain": [
              "DecisionTreeClassifier(max_features='sqrt')"
            ]
          },
          "metadata": {},
          "execution_count": 272
        }
      ]
    },
    {
      "cell_type": "code",
      "source": [
        "y_pred_dt=dt_model.predict(x_test)\n",
        "print(y_pred_dt)\n",
        "print(y_test)"
      ],
      "metadata": {
        "colab": {
          "base_uri": "https://localhost:8080/"
        },
        "id": "BbOOfJXUmZZH",
        "outputId": "081bfb08-4500-4dbd-cce3-25fc87b249ac"
      },
      "execution_count": 273,
      "outputs": [
        {
          "output_type": "stream",
          "name": "stdout",
          "text": [
            "[[0 0 0 1]\n",
            " [1 0 0 0]\n",
            " [1 0 0 0]\n",
            " [0 0 0 1]\n",
            " [1 0 0 0]\n",
            " [0 1 0 0]\n",
            " [1 0 0 0]\n",
            " [0 1 0 0]\n",
            " [0 0 0 1]]\n",
            "    limestone  dolomite  shale  sandstone\n",
            "30          0         0      0          1\n",
            "0           1         0      0          0\n",
            "22          1         0      0          0\n",
            "31          0         0      0          1\n",
            "18          1         0      0          0\n",
            "28          0         1      0          0\n",
            "10          1         0      0          0\n",
            "53          0         1      0          0\n",
            "4           1         0      0          0\n"
          ]
        }
      ]
    },
    {
      "cell_type": "code",
      "source": [
        "dt_score=dt_model.score(x_test,y_test)\n",
        "print(dt_score)"
      ],
      "metadata": {
        "colab": {
          "base_uri": "https://localhost:8080/"
        },
        "id": "EiEPnX6GmcTw",
        "outputId": "9a400db3-d5b9-42f2-9ab8-fc14570fe167"
      },
      "execution_count": 274,
      "outputs": [
        {
          "output_type": "stream",
          "name": "stdout",
          "text": [
            "0.8888888888888888\n"
          ]
        }
      ]
    },
    {
      "cell_type": "code",
      "source": [
        "from sklearn import tree\n",
        "plt.figure(figsize=(16,16))\n",
        "tree.plot_tree(dt_model, filled=\"true\")\n",
        "plt.show"
      ],
      "metadata": {
        "colab": {
          "base_uri": "https://localhost:8080/",
          "height": 918
        },
        "id": "8H0BcTSfme6x",
        "outputId": "a98ee9a8-bca6-4ede-fdb4-1a57e2e41125"
      },
      "execution_count": 275,
      "outputs": [
        {
          "output_type": "execute_result",
          "data": {
            "text/plain": [
              "<function matplotlib.pyplot.show(*args, **kw)>"
            ]
          },
          "metadata": {},
          "execution_count": 275
        },
        {
          "output_type": "display_data",
          "data": {
            "text/plain": [
              "<Figure size 1152x1152 with 1 Axes>"
            ],
            "image/png": "[encoded data removed]"
          },
          "metadata": {
            "needs_background": "light"
          }
        }
      ]
    },
    {
      "cell_type": "markdown",
      "source": [
        "Navie Baye's"
      ],
      "metadata": {
        "id": "MU2Fmr-4oVpf"
      }
    },
    {
      "cell_type": "code",
      "source": [
        "y = y.to_numpy()"
      ],
      "metadata": {
        "id": "-WQv1yMctpNx"
      },
      "execution_count": 276,
      "outputs": []
    },
    {
      "cell_type": "code",
      "source": [
        "z = []\n",
        "for i in range(len(y)):\n",
        "  if y[i][0]==1:\n",
        "    z.append(1)\n",
        "  elif y[i][1]==1:\n",
        "    z.append(2)\n",
        "  elif y[i][2]==1:\n",
        "    z.append(3)\n",
        "  else:\n",
        "    z.append(4)"
      ],
      "metadata": {
        "id": "1I9_9DhWuIns"
      },
      "execution_count": 277,
      "outputs": []
    },
    {
      "cell_type": "code",
      "source": [
        "y = pd.DataFrame(z)"
      ],
      "metadata": {
        "id": "xvMrXN8CvUUu"
      },
      "execution_count": 278,
      "outputs": []
    },
    {
      "cell_type": "code",
      "source": [
        "x_gnb = x\n",
        "y_gnb = y\n",
        "x_gnb_train, x_gnb_test, y_gnb_train, y_gnb_test = train_test_split(x_gnb,y_gnb, test_size = 0.2, random_state =103 )"
      ],
      "metadata": {
        "id": "Duu_xcZYoHNx"
      },
      "execution_count": 279,
      "outputs": []
    },
    {
      "cell_type": "code",
      "source": [
        "from sklearn.naive_bayes import GaussianNB\n",
        "gnb = GaussianNB()\n",
        "gnb.fit(x_gnb_train,y_gnb_train)\n"
      ],
      "metadata": {
        "colab": {
          "base_uri": "https://localhost:8080/"
        },
        "id": "noX49bwAoS4g",
        "outputId": "eac8095f-3404-4164-ed9d-fbaa58a1646c"
      },
      "execution_count": 280,
      "outputs": [
        {
          "output_type": "stream",
          "name": "stderr",
          "text": [
            "/usr/local/lib/python3.7/dist-packages/sklearn/utils/validation.py:993: DataConversionWarning: A column-vector y was passed when a 1d array was expected. Please change the shape of y to (n_samples, ), for example using ravel().\n",
            "  y = column_or_1d(y, warn=True)\n"
          ]
        },
        {
          "output_type": "execute_result",
          "data": {
            "text/plain": [
              "GaussianNB()"
            ]
          },
          "metadata": {},
          "execution_count": 280
        }
      ]
    },
    {
      "cell_type": "code",
      "source": [
        "y_gnb_pred = gnb.predict(x_gnb_test)"
      ],
      "metadata": {
        "id": "4IGvySYZovCT"
      },
      "execution_count": 281,
      "outputs": []
    },
    {
      "cell_type": "code",
      "source": [
        "y_gnb_pred"
      ],
      "metadata": {
        "colab": {
          "base_uri": "https://localhost:8080/"
        },
        "id": "Mio5HnC4x3nH",
        "outputId": "6e00ce5e-92e8-4f35-e148-17e0018423f6"
      },
      "execution_count": 282,
      "outputs": [
        {
          "output_type": "execute_result",
          "data": {
            "text/plain": [
              "array([2, 4, 2, 2, 4, 1, 2, 2, 2, 1, 1, 4, 1, 2, 4, 1, 1])"
            ]
          },
          "metadata": {},
          "execution_count": 282
        }
      ]
    },
    {
      "cell_type": "code",
      "source": [
        "from sklearn import metrics\n",
        "print(\"Accuracy:\",metrics.accuracy_score(y_gnb_test, y_gnb_pred))"
      ],
      "metadata": {
        "colab": {
          "base_uri": "https://localhost:8080/"
        },
        "id": "AvOXdku8vN5m",
        "outputId": "a9e5c3f2-d7b7-4e1f-a501-5b586f7e7f14"
      },
      "execution_count": 283,
      "outputs": [
        {
          "output_type": "stream",
          "name": "stdout",
          "text": [
            "Accuracy: 0.7647058823529411\n"
          ]
        }
      ]
    }
  ]
}