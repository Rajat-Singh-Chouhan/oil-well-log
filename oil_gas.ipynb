{
  "nbformat": 4,
  "nbformat_minor": 0,
  "metadata": {
    "colab": {
      "provenance": [],
      "authorship_tag": "ABX9TyMpykyi/d3WXM7B/2y4r5rN",
      "include_colab_link": true
    },
    "kernelspec": {
      "name": "python3",
      "display_name": "Python 3"
    },
    "language_info": {
      "name": "python"
    }
  },
  "cells": [
    {
      "cell_type": "markdown",
      "metadata": {
        "id": "view-in-github",
        "colab_type": "text"
      },
      "source": [
        "<a href=\"https://colab.research.google.com/github/Rajat-Singh-Chouhan/oil-well-log/blob/main/oil_gas.ipynb\" target=\"_parent\"><img src=\"https://colab.research.google.com/assets/colab-badge.svg\" alt=\"Open In Colab\"/></a>"
      ]
    },
    {
      "cell_type": "code",
      "execution_count": null,
      "metadata": {
        "id": "g2qdTll-KKCy"
      },
      "outputs": [],
      "source": [
        "import pandas as pd\n",
        "import numpy as np\n",
        "import seaborn as sns\n",
        "import matplotlib.pyplot as plt"
      ]
    },
    {
      "cell_type": "code",
      "source": [
        "ds=pd.read_csv(\"/content/gas_oil.csv\")"
      ],
      "metadata": {
        "id": "nrDT6POdTSar"
      },
      "execution_count": null,
      "outputs": []
    },
    {
      "cell_type": "code",
      "source": [
        "ds.head()"
      ],
      "metadata": {
        "colab": {
          "base_uri": "https://localhost:8080/",
          "height": 206
        },
        "id": "sBaJ5B-uTXrz",
        "outputId": "66e5eae9-0771-481b-cfce-bc3c8dcb3457"
      },
      "execution_count": null,
      "outputs": [
        {
          "output_type": "execute_result",
          "data": {
            "text/plain": [
              "   gamma ray  density  neutron  resistivity  target\n",
              "0   73.59512  2.58541  0.37612      1.97022  no oil\n",
              "1   73.97836  2.55129  0.41289      1.08789  no oil\n",
              "2   72.04334  2.57068  0.38331      1.35374  no oil\n",
              "3   72.76338  2.60603  0.37881      1.47283  no oil\n",
              "4   66.89448  2.59872  0.39401      1.69231  no oil"
            ],
            "text/html": [
              "\n",
              "  <div id=\"df-756e0239-2d87-40f7-84c7-0e41575cb184\">\n",
              "    <div class=\"colab-df-container\">\n",
              "      <div>\n",
              "<style scoped>\n",
              "    .dataframe tbody tr th:only-of-type {\n",
              "        vertical-align: middle;\n",
              "    }\n",
              "\n",
              "    .dataframe tbody tr th {\n",
              "        vertical-align: top;\n",
              "    }\n",
              "\n",
              "    .dataframe thead th {\n",
              "        text-align: right;\n",
              "    }\n",
              "</style>\n",
              "<table border=\"1\" class=\"dataframe\">\n",
              "  <thead>\n",
              "    <tr style=\"text-align: right;\">\n",
              "      <th></th>\n",
              "      <th>gamma ray</th>\n",
              "      <th>density</th>\n",
              "      <th>neutron</th>\n",
              "      <th>resistivity</th>\n",
              "      <th>target</th>\n",
              "    </tr>\n",
              "  </thead>\n",
              "  <tbody>\n",
              "    <tr>\n",
              "      <th>0</th>\n",
              "      <td>73.59512</td>\n",
              "      <td>2.58541</td>\n",
              "      <td>0.37612</td>\n",
              "      <td>1.97022</td>\n",
              "      <td>no oil</td>\n",
              "    </tr>\n",
              "    <tr>\n",
              "      <th>1</th>\n",
              "      <td>73.97836</td>\n",
              "      <td>2.55129</td>\n",
              "      <td>0.41289</td>\n",
              "      <td>1.08789</td>\n",
              "      <td>no oil</td>\n",
              "    </tr>\n",
              "    <tr>\n",
              "      <th>2</th>\n",
              "      <td>72.04334</td>\n",
              "      <td>2.57068</td>\n",
              "      <td>0.38331</td>\n",
              "      <td>1.35374</td>\n",
              "      <td>no oil</td>\n",
              "    </tr>\n",
              "    <tr>\n",
              "      <th>3</th>\n",
              "      <td>72.76338</td>\n",
              "      <td>2.60603</td>\n",
              "      <td>0.37881</td>\n",
              "      <td>1.47283</td>\n",
              "      <td>no oil</td>\n",
              "    </tr>\n",
              "    <tr>\n",
              "      <th>4</th>\n",
              "      <td>66.89448</td>\n",
              "      <td>2.59872</td>\n",
              "      <td>0.39401</td>\n",
              "      <td>1.69231</td>\n",
              "      <td>no oil</td>\n",
              "    </tr>\n",
              "  </tbody>\n",
              "</table>\n",
              "</div>\n",
              "      <button class=\"colab-df-convert\" onclick=\"convertToInteractive('df-756e0239-2d87-40f7-84c7-0e41575cb184')\"\n",
              "              title=\"Convert this dataframe to an interactive table.\"\n",
              "              style=\"display:none;\">\n",
              "        \n",
              "  <svg xmlns=\"http://www.w3.org/2000/svg\" height=\"24px\"viewBox=\"0 0 24 24\"\n",
              "       width=\"24px\">\n",
              "    <path d=\"M0 0h24v24H0V0z\" fill=\"none\"/>\n",
              "    <path d=\"M18.56 5.44l.94 2.06.94-2.06 2.06-.94-2.06-.94-.94-2.06-.94 2.06-2.06.94zm-11 1L8.5 8.5l.94-2.06 2.06-.94-2.06-.94L8.5 2.5l-.94 2.06-2.06.94zm10 10l.94 2.06.94-2.06 2.06-.94-2.06-.94-.94-2.06-.94 2.06-2.06.94z\"/><path d=\"M17.41 7.96l-1.37-1.37c-.4-.4-.92-.59-1.43-.59-.52 0-1.04.2-1.43.59L10.3 9.45l-7.72 7.72c-.78.78-.78 2.05 0 2.83L4 21.41c.39.39.9.59 1.41.59.51 0 1.02-.2 1.41-.59l7.78-7.78 2.81-2.81c.8-.78.8-2.07 0-2.86zM5.41 20L4 18.59l7.72-7.72 1.47 1.35L5.41 20z\"/>\n",
              "  </svg>\n",
              "      </button>\n",
              "      \n",
              "  <style>\n",
              "    .colab-df-container {\n",
              "      display:flex;\n",
              "      flex-wrap:wrap;\n",
              "      gap: 12px;\n",
              "    }\n",
              "\n",
              "    .colab-df-convert {\n",
              "      background-color: #E8F0FE;\n",
              "      border: none;\n",
              "      border-radius: 50%;\n",
              "      cursor: pointer;\n",
              "      display: none;\n",
              "      fill: #1967D2;\n",
              "      height: 32px;\n",
              "      padding: 0 0 0 0;\n",
              "      width: 32px;\n",
              "    }\n",
              "\n",
              "    .colab-df-convert:hover {\n",
              "      background-color: #E2EBFA;\n",
              "      box-shadow: 0px 1px 2px rgba(60, 64, 67, 0.3), 0px 1px 3px 1px rgba(60, 64, 67, 0.15);\n",
              "      fill: #174EA6;\n",
              "    }\n",
              "\n",
              "    [theme=dark] .colab-df-convert {\n",
              "      background-color: #3B4455;\n",
              "      fill: #D2E3FC;\n",
              "    }\n",
              "\n",
              "    [theme=dark] .colab-df-convert:hover {\n",
              "      background-color: #434B5C;\n",
              "      box-shadow: 0px 1px 3px 1px rgba(0, 0, 0, 0.15);\n",
              "      filter: drop-shadow(0px 1px 2px rgba(0, 0, 0, 0.3));\n",
              "      fill: #FFFFFF;\n",
              "    }\n",
              "  </style>\n",
              "\n",
              "      <script>\n",
              "        const buttonEl =\n",
              "          document.querySelector('#df-756e0239-2d87-40f7-84c7-0e41575cb184 button.colab-df-convert');\n",
              "        buttonEl.style.display =\n",
              "          google.colab.kernel.accessAllowed ? 'block' : 'none';\n",
              "\n",
              "        async function convertToInteractive(key) {\n",
              "          const element = document.querySelector('#df-756e0239-2d87-40f7-84c7-0e41575cb184');\n",
              "          const dataTable =\n",
              "            await google.colab.kernel.invokeFunction('convertToInteractive',\n",
              "                                                     [key], {});\n",
              "          if (!dataTable) return;\n",
              "\n",
              "          const docLinkHtml = 'Like what you see? Visit the ' +\n",
              "            '<a target=\"_blank\" href=https://colab.research.google.com/notebooks/data_table.ipynb>data table notebook</a>'\n",
              "            + ' to learn more about interactive tables.';\n",
              "          element.innerHTML = '';\n",
              "          dataTable['output_type'] = 'display_data';\n",
              "          await google.colab.output.renderOutput(dataTable, element);\n",
              "          const docLink = document.createElement('div');\n",
              "          docLink.innerHTML = docLinkHtml;\n",
              "          element.appendChild(docLink);\n",
              "        }\n",
              "      </script>\n",
              "    </div>\n",
              "  </div>\n",
              "  "
            ]
          },
          "metadata": {},
          "execution_count": 141
        }
      ]
    },
    {
      "cell_type": "code",
      "source": [
        "ds_no_oil=ds.loc[ds[\"target\"]==\"no oil\"]\n",
        "ds_gas=ds.loc[ds[\"target\"]==\"gas\"]\n",
        "ds_oil=ds.loc[ds[\"target\"]==\"oil\"]\n"
      ],
      "metadata": {
        "id": "NKb6FHx1Ta8J"
      },
      "execution_count": null,
      "outputs": []
    },
    {
      "cell_type": "code",
      "source": [
        "plt.plot(ds_no_oil[\"gamma ray\"],np.zeros_like(ds_no_oil[\"gamma ray\"]),\"o\")\n",
        "plt.plot(ds_gas[\"gamma ray\"],np.zeros_like(ds_gas[\"gamma ray\"]),\"o\")\n",
        "plt.plot(ds_oil[\"gamma ray\"],np.zeros_like(ds_oil[\"gamma ray\"]),\"o\")\n",
        "plt.title(\"gamma ray univariate\")\n",
        "plt.xlabel(\"gamma ray\")\n",
        "plt.legend(['no oil', 'gas','oil'], loc='upper left')"
      ],
      "metadata": {
        "colab": {
          "base_uri": "https://localhost:8080/",
          "height": 312
        },
        "id": "nJhA2uDSTzuy",
        "outputId": "983cba3c-10cb-46b4-9b90-d3736154200e"
      },
      "execution_count": null,
      "outputs": [
        {
          "output_type": "execute_result",
          "data": {
            "text/plain": [
              "<matplotlib.legend.Legend at 0x7fd527d80e80>"
            ]
          },
          "metadata": {},
          "execution_count": 143
        },
        {
          "output_type": "display_data",
          "data": {
            "text/plain": [
              "<Figure size 432x288 with 1 Axes>"
            ],
            "image/png": "[encoded data removed]"
          },
          "metadata": {
            "needs_background": "light"
          }
        }
      ]
    },
    {
      "cell_type": "code",
      "source": [
        "plt.plot(ds_no_oil[\"density\"],np.zeros_like(ds_no_oil[\"density\"]),\"o\")\n",
        "plt.plot(ds_gas[\"density\"],np.zeros_like(ds_gas[\"density\"]),\"o\")\n",
        "plt.plot(ds_oil[\"density\"],np.zeros_like(ds_oil[\"density\"]),\"o\")\n",
        "plt.title(\"density univariate\")\n",
        "plt.xlabel(\"density\")\n",
        "plt.legend(['no oil', 'gas','oil'], loc='upper left')"
      ],
      "metadata": {
        "id": "eiBIzGKoWmpZ",
        "colab": {
          "base_uri": "https://localhost:8080/",
          "height": 312
        },
        "outputId": "d47aa65f-a2b7-43ba-e47e-c1426711685e"
      },
      "execution_count": null,
      "outputs": [
        {
          "output_type": "execute_result",
          "data": {
            "text/plain": [
              "<matplotlib.legend.Legend at 0x7fd5286140d0>"
            ]
          },
          "metadata": {},
          "execution_count": 144
        },
        {
          "output_type": "display_data",
          "data": {
            "text/plain": [
              "<Figure size 432x288 with 1 Axes>"
            ],
            "image/png": "[encoded data removed]"
          },
          "metadata": {
            "needs_background": "light"
          }
        }
      ]
    },
    {
      "cell_type": "code",
      "source": [
        "plt.plot(ds_no_oil[\"neutron\"],np.zeros_like(ds_no_oil[\"neutron\"]),\"o\")\n",
        "plt.plot(ds_gas[\"neutron\"],np.zeros_like(ds_gas[\"neutron\"]),\"o\")\n",
        "plt.plot(ds_oil[\"neutron\"],np.zeros_like(ds_oil[\"neutron\"]),\"o\")\n",
        "plt.title(\"neutron porosity univariate\")\n",
        "plt.xlabel(\"neutron porosity\")\n",
        "plt.legend(['no oil', 'gas','oil'], loc='upper left')"
      ],
      "metadata": {
        "colab": {
          "base_uri": "https://localhost:8080/",
          "height": 312
        },
        "id": "Y-HdHhLYoy8Q",
        "outputId": "49c69c84-1cd1-41e6-8450-e644862cbbba"
      },
      "execution_count": null,
      "outputs": [
        {
          "output_type": "execute_result",
          "data": {
            "text/plain": [
              "<matplotlib.legend.Legend at 0x7fd527cf3130>"
            ]
          },
          "metadata": {},
          "execution_count": 145
        },
        {
          "output_type": "display_data",
          "data": {
            "text/plain": [
              "<Figure size 432x288 with 1 Axes>"
            ],
            "image/png": "[encoded data removed]"
          },
          "metadata": {
            "needs_background": "light"
          }
        }
      ]
    },
    {
      "cell_type": "code",
      "source": [
        "plt.plot(ds_no_oil[\"resistivity\"],np.zeros_like(ds_no_oil[\"resistivity\"]),\"o\")\n",
        "plt.plot(ds_gas[\"resistivity\"],np.zeros_like(ds_gas[\"resistivity\"]),\"o\")\n",
        "plt.plot(ds_oil[\"resistivity\"],np.zeros_like(ds_oil[\"resistivity\"]),\"o\")\n",
        "plt.title(\"resistivity univariate\")\n",
        "plt.xlabel(\"resistivity\")\n",
        "plt.legend(['no oil', 'gas','oil'], loc='upper left')"
      ],
      "metadata": {
        "colab": {
          "base_uri": "https://localhost:8080/",
          "height": 312
        },
        "id": "TgIBR5RqpNAm",
        "outputId": "356fe857-1179-438f-dc6f-aa69120cbef7"
      },
      "execution_count": null,
      "outputs": [
        {
          "output_type": "execute_result",
          "data": {
            "text/plain": [
              "<matplotlib.legend.Legend at 0x7fd527cd6730>"
            ]
          },
          "metadata": {},
          "execution_count": 146
        },
        {
          "output_type": "display_data",
          "data": {
            "text/plain": [
              "<Figure size 432x288 with 1 Axes>"
            ],
            "image/png": "[encoded data removed]"
          },
          "metadata": {
            "needs_background": "light"
          }
        }
      ]
    },
    {
      "cell_type": "code",
      "source": [
        "sns.pairplot(ds, hue=\"target\", size=5)\n",
        "plt.legend(['no oil', 'gas','oil'], loc='upper left')"
      ],
      "metadata": {
        "colab": {
          "base_uri": "https://localhost:8080/",
          "height": 1000
        },
        "id": "7-oot-Aqpdau",
        "outputId": "8645ae70-1b3d-412b-fe03-ab6df7bf7c99"
      },
      "execution_count": null,
      "outputs": [
        {
          "output_type": "stream",
          "name": "stderr",
          "text": [
            "/usr/local/lib/python3.8/dist-packages/seaborn/axisgrid.py:2076: UserWarning: The `size` parameter has been renamed to `height`; please update your code.\n",
            "  warnings.warn(msg, UserWarning)\n"
          ]
        },
        {
          "output_type": "execute_result",
          "data": {
            "text/plain": [
              "<matplotlib.legend.Legend at 0x7fd52795db80>"
            ]
          },
          "metadata": {},
          "execution_count": 147
        },
        {
          "output_type": "display_data",
          "data": {
            "text/plain": [
              "<Figure size 1503.25x1440 with 20 Axes>"
            ],
            "image/png": "[encoded data removed]"
          },
          "metadata": {
            "needs_background": "light"
          }
        }
      ]
    },
    {
      "cell_type": "markdown",
      "source": [
        "ANN Algorithm"
      ],
      "metadata": {
        "id": "VHIpkRAzLSKE"
      }
    },
    {
      "cell_type": "code",
      "source": [
        "from sklearn.model_selection import train_test_split\n",
        "from sklearn.preprocessing import LabelEncoder, MinMaxScaler, StandardScaler\n",
        "from keras.models import Sequential\n",
        "from keras.layers import Dense\n",
        "import pandas as pd"
      ],
      "metadata": {
        "id": "LjDy7mlDLWei"
      },
      "execution_count": null,
      "outputs": []
    },
    {
      "cell_type": "code",
      "source": [
        "df=pd.read_csv(\"/content/gas_oil_output.csv\")\n",
        "df.head()"
      ],
      "metadata": {
        "colab": {
          "base_uri": "https://localhost:8080/",
          "height": 206
        },
        "id": "SJ8P0aNvLmvX",
        "outputId": "1fc5a5aa-0ece-4858-b237-6cb1b792fed4"
      },
      "execution_count": null,
      "outputs": [
        {
          "output_type": "execute_result",
          "data": {
            "text/plain": [
              "   no oil  gas  oil\n",
              "0       1    0    0\n",
              "1       1    0    0\n",
              "2       1    0    0\n",
              "3       1    0    0\n",
              "4       1    0    0"
            ],
            "text/html": [
              "\n",
              "  <div id=\"df-cdc1fe0a-f3c2-47ff-be3a-3c786ef8316d\">\n",
              "    <div class=\"colab-df-container\">\n",
              "      <div>\n",
              "<style scoped>\n",
              "    .dataframe tbody tr th:only-of-type {\n",
              "        vertical-align: middle;\n",
              "    }\n",
              "\n",
              "    .dataframe tbody tr th {\n",
              "        vertical-align: top;\n",
              "    }\n",
              "\n",
              "    .dataframe thead th {\n",
              "        text-align: right;\n",
              "    }\n",
              "</style>\n",
              "<table border=\"1\" class=\"dataframe\">\n",
              "  <thead>\n",
              "    <tr style=\"text-align: right;\">\n",
              "      <th></th>\n",
              "      <th>no oil</th>\n",
              "      <th>gas</th>\n",
              "      <th>oil</th>\n",
              "    </tr>\n",
              "  </thead>\n",
              "  <tbody>\n",
              "    <tr>\n",
              "      <th>0</th>\n",
              "      <td>1</td>\n",
              "      <td>0</td>\n",
              "      <td>0</td>\n",
              "    </tr>\n",
              "    <tr>\n",
              "      <th>1</th>\n",
              "      <td>1</td>\n",
              "      <td>0</td>\n",
              "      <td>0</td>\n",
              "    </tr>\n",
              "    <tr>\n",
              "      <th>2</th>\n",
              "      <td>1</td>\n",
              "      <td>0</td>\n",
              "      <td>0</td>\n",
              "    </tr>\n",
              "    <tr>\n",
              "      <th>3</th>\n",
              "      <td>1</td>\n",
              "      <td>0</td>\n",
              "      <td>0</td>\n",
              "    </tr>\n",
              "    <tr>\n",
              "      <th>4</th>\n",
              "      <td>1</td>\n",
              "      <td>0</td>\n",
              "      <td>0</td>\n",
              "    </tr>\n",
              "  </tbody>\n",
              "</table>\n",
              "</div>\n",
              "      <button class=\"colab-df-convert\" onclick=\"convertToInteractive('df-cdc1fe0a-f3c2-47ff-be3a-3c786ef8316d')\"\n",
              "              title=\"Convert this dataframe to an interactive table.\"\n",
              "              style=\"display:none;\">\n",
              "        \n",
              "  <svg xmlns=\"http://www.w3.org/2000/svg\" height=\"24px\"viewBox=\"0 0 24 24\"\n",
              "       width=\"24px\">\n",
              "    <path d=\"M0 0h24v24H0V0z\" fill=\"none\"/>\n",
              "    <path d=\"M18.56 5.44l.94 2.06.94-2.06 2.06-.94-2.06-.94-.94-2.06-.94 2.06-2.06.94zm-11 1L8.5 8.5l.94-2.06 2.06-.94-2.06-.94L8.5 2.5l-.94 2.06-2.06.94zm10 10l.94 2.06.94-2.06 2.06-.94-2.06-.94-.94-2.06-.94 2.06-2.06.94z\"/><path d=\"M17.41 7.96l-1.37-1.37c-.4-.4-.92-.59-1.43-.59-.52 0-1.04.2-1.43.59L10.3 9.45l-7.72 7.72c-.78.78-.78 2.05 0 2.83L4 21.41c.39.39.9.59 1.41.59.51 0 1.02-.2 1.41-.59l7.78-7.78 2.81-2.81c.8-.78.8-2.07 0-2.86zM5.41 20L4 18.59l7.72-7.72 1.47 1.35L5.41 20z\"/>\n",
              "  </svg>\n",
              "      </button>\n",
              "      \n",
              "  <style>\n",
              "    .colab-df-container {\n",
              "      display:flex;\n",
              "      flex-wrap:wrap;\n",
              "      gap: 12px;\n",
              "    }\n",
              "\n",
              "    .colab-df-convert {\n",
              "      background-color: #E8F0FE;\n",
              "      border: none;\n",
              "      border-radius: 50%;\n",
              "      cursor: pointer;\n",
              "      display: none;\n",
              "      fill: #1967D2;\n",
              "      height: 32px;\n",
              "      padding: 0 0 0 0;\n",
              "      width: 32px;\n",
              "    }\n",
              "\n",
              "    .colab-df-convert:hover {\n",
              "      background-color: #E2EBFA;\n",
              "      box-shadow: 0px 1px 2px rgba(60, 64, 67, 0.3), 0px 1px 3px 1px rgba(60, 64, 67, 0.15);\n",
              "      fill: #174EA6;\n",
              "    }\n",
              "\n",
              "    [theme=dark] .colab-df-convert {\n",
              "      background-color: #3B4455;\n",
              "      fill: #D2E3FC;\n",
              "    }\n",
              "\n",
              "    [theme=dark] .colab-df-convert:hover {\n",
              "      background-color: #434B5C;\n",
              "      box-shadow: 0px 1px 3px 1px rgba(0, 0, 0, 0.15);\n",
              "      filter: drop-shadow(0px 1px 2px rgba(0, 0, 0, 0.3));\n",
              "      fill: #FFFFFF;\n",
              "    }\n",
              "  </style>\n",
              "\n",
              "      <script>\n",
              "        const buttonEl =\n",
              "          document.querySelector('#df-cdc1fe0a-f3c2-47ff-be3a-3c786ef8316d button.colab-df-convert');\n",
              "        buttonEl.style.display =\n",
              "          google.colab.kernel.accessAllowed ? 'block' : 'none';\n",
              "\n",
              "        async function convertToInteractive(key) {\n",
              "          const element = document.querySelector('#df-cdc1fe0a-f3c2-47ff-be3a-3c786ef8316d');\n",
              "          const dataTable =\n",
              "            await google.colab.kernel.invokeFunction('convertToInteractive',\n",
              "                                                     [key], {});\n",
              "          if (!dataTable) return;\n",
              "\n",
              "          const docLinkHtml = 'Like what you see? Visit the ' +\n",
              "            '<a target=\"_blank\" href=https://colab.research.google.com/notebooks/data_table.ipynb>data table notebook</a>'\n",
              "            + ' to learn more about interactive tables.';\n",
              "          element.innerHTML = '';\n",
              "          dataTable['output_type'] = 'display_data';\n",
              "          await google.colab.output.renderOutput(dataTable, element);\n",
              "          const docLink = document.createElement('div');\n",
              "          docLink.innerHTML = docLinkHtml;\n",
              "          element.appendChild(docLink);\n",
              "        }\n",
              "      </script>\n",
              "    </div>\n",
              "  </div>\n",
              "  "
            ]
          },
          "metadata": {},
          "execution_count": 149
        }
      ]
    },
    {
      "cell_type": "code",
      "source": [
        "x=ds.loc[:, ds.columns != \"target\"]\n",
        "y=df.loc[:, [\"no oil\",\"gas\",\"oil\"]]"
      ],
      "metadata": {
        "id": "lIXDfyqmL6jf"
      },
      "execution_count": null,
      "outputs": []
    },
    {
      "cell_type": "code",
      "source": [
        "x_train, x_test, y_train, y_test = train_test_split(x,y,test_size = 0.1, random_state = 108)"
      ],
      "metadata": {
        "id": "e5oxJuR8Niqa"
      },
      "execution_count": null,
      "outputs": []
    },
    {
      "cell_type": "code",
      "source": [
        "model = Sequential()\n",
        "model.add(Dense(4, input_dim=4, kernel_initializer=\"normal\", activation=\"relu\" ))\n",
        "model.add(Dense(4, activation=\"relu\"))\n",
        "model.add(Dense(3, activation=\"softmax\"))\n",
        "model.summary()"
      ],
      "metadata": {
        "colab": {
          "base_uri": "https://localhost:8080/"
        },
        "id": "ETX3aJghNlX_",
        "outputId": "76e33fde-31a0-45c5-ab5a-4477384bbe1a"
      },
      "execution_count": null,
      "outputs": [
        {
          "output_type": "stream",
          "name": "stdout",
          "text": [
            "Model: \"sequential_6\"\n",
            "_________________________________________________________________\n",
            " Layer (type)                Output Shape              Param #   \n",
            "=================================================================\n",
            " dense_18 (Dense)            (None, 4)                 20        \n",
            "                                                                 \n",
            " dense_19 (Dense)            (None, 4)                 20        \n",
            "                                                                 \n",
            " dense_20 (Dense)            (None, 3)                 15        \n",
            "                                                                 \n",
            "=================================================================\n",
            "Total params: 55\n",
            "Trainable params: 55\n",
            "Non-trainable params: 0\n",
            "_________________________________________________________________\n"
          ]
        }
      ]
    },
    {
      "cell_type": "code",
      "source": [
        "model.compile(loss=\"BinaryCrossentropy\", optimizer=\"adam\")\n",
        "result=model.fit(x_train, y_train, epochs=500, verbose= 1, batch_size = 5, validation_split=0.1)"
      ],
      "metadata": {
        "colab": {
          "base_uri": "https://localhost:8080/"
        },
        "id": "wH377ix5NoxZ",
        "outputId": "57bb0296-aaf8-4a48-d099-b16ce6946782"
      },
      "execution_count": null,
      "outputs": [
        {
          "output_type": "stream",
          "name": "stdout",
          "text": [
            "Epoch 1/500\n",
            "12/12 [==============================] - 1s 17ms/step - loss: 0.7352 - val_loss: 0.7367\n",
            "Epoch 2/500\n",
            "12/12 [==============================] - 0s 4ms/step - loss: 0.6879 - val_loss: 0.6884\n",
            "Epoch 3/500\n",
            "12/12 [==============================] - 0s 5ms/step - loss: 0.6657 - val_loss: 0.6682\n",
            "Epoch 4/500\n",
            "12/12 [==============================] - 0s 4ms/step - loss: 0.6578 - val_loss: 0.6603\n",
            "Epoch 5/500\n",
            "12/12 [==============================] - 0s 4ms/step - loss: 0.6528 - val_loss: 0.6549\n",
            "Epoch 6/500\n",
            "12/12 [==============================] - 0s 4ms/step - loss: 0.6485 - val_loss: 0.6495\n",
            "Epoch 7/500\n",
            "12/12 [==============================] - 0s 5ms/step - loss: 0.6439 - val_loss: 0.6447\n",
            "Epoch 8/500\n",
            "12/12 [==============================] - 0s 4ms/step - loss: 0.6396 - val_loss: 0.6396\n",
            "Epoch 9/500\n",
            "12/12 [==============================] - 0s 5ms/step - loss: 0.6353 - val_loss: 0.6348\n",
            "Epoch 10/500\n",
            "12/12 [==============================] - 0s 4ms/step - loss: 0.6311 - val_loss: 0.6295\n",
            "Epoch 11/500\n",
            "12/12 [==============================] - 0s 4ms/step - loss: 0.6266 - val_loss: 0.6243\n",
            "Epoch 12/500\n",
            "12/12 [==============================] - 0s 4ms/step - loss: 0.6223 - val_loss: 0.6191\n",
            "Epoch 13/500\n",
            "12/12 [==============================] - 0s 5ms/step - loss: 0.6181 - val_loss: 0.6138\n",
            "Epoch 14/500\n",
            "12/12 [==============================] - 0s 4ms/step - loss: 0.6138 - val_loss: 0.6087\n",
            "Epoch 15/500\n",
            "12/12 [==============================] - 0s 4ms/step - loss: 0.6097 - val_loss: 0.6032\n",
            "Epoch 16/500\n",
            "12/12 [==============================] - 0s 5ms/step - loss: 0.6056 - val_loss: 0.5980\n",
            "Epoch 17/500\n",
            "12/12 [==============================] - 0s 4ms/step - loss: 0.6015 - val_loss: 0.5926\n",
            "Epoch 18/500\n",
            "12/12 [==============================] - 0s 4ms/step - loss: 0.5974 - val_loss: 0.5870\n",
            "Epoch 19/500\n",
            "12/12 [==============================] - 0s 4ms/step - loss: 0.5933 - val_loss: 0.5817\n",
            "Epoch 20/500\n",
            "12/12 [==============================] - 0s 4ms/step - loss: 0.5892 - val_loss: 0.5761\n",
            "Epoch 21/500\n",
            "12/12 [==============================] - 0s 5ms/step - loss: 0.5854 - val_loss: 0.5705\n",
            "Epoch 22/500\n",
            "12/12 [==============================] - 0s 4ms/step - loss: 0.5809 - val_loss: 0.5654\n",
            "Epoch 23/500\n",
            "12/12 [==============================] - 0s 5ms/step - loss: 0.5773 - val_loss: 0.5595\n",
            "Epoch 24/500\n",
            "12/12 [==============================] - 0s 5ms/step - loss: 0.5734 - val_loss: 0.5542\n",
            "Epoch 25/500\n",
            "12/12 [==============================] - 0s 4ms/step - loss: 0.5694 - val_loss: 0.5485\n",
            "Epoch 26/500\n",
            "12/12 [==============================] - 0s 4ms/step - loss: 0.5646 - val_loss: 0.5431\n",
            "Epoch 27/500\n",
            "12/12 [==============================] - 0s 5ms/step - loss: 0.5608 - val_loss: 0.5377\n",
            "Epoch 28/500\n",
            "12/12 [==============================] - 0s 4ms/step - loss: 0.5573 - val_loss: 0.5323\n",
            "Epoch 29/500\n",
            "12/12 [==============================] - 0s 4ms/step - loss: 0.5530 - val_loss: 0.5263\n",
            "Epoch 30/500\n",
            "12/12 [==============================] - 0s 7ms/step - loss: 0.5486 - val_loss: 0.5211\n",
            "Epoch 31/500\n",
            "12/12 [==============================] - 0s 5ms/step - loss: 0.5454 - val_loss: 0.5157\n",
            "Epoch 32/500\n",
            "12/12 [==============================] - 0s 4ms/step - loss: 0.5407 - val_loss: 0.5101\n",
            "Epoch 33/500\n",
            "12/12 [==============================] - 0s 4ms/step - loss: 0.5365 - val_loss: 0.5048\n",
            "Epoch 34/500\n",
            "12/12 [==============================] - 0s 5ms/step - loss: 0.5322 - val_loss: 0.4995\n",
            "Epoch 35/500\n",
            "12/12 [==============================] - 0s 4ms/step - loss: 0.5280 - val_loss: 0.4943\n",
            "Epoch 36/500\n",
            "12/12 [==============================] - 0s 4ms/step - loss: 0.5244 - val_loss: 0.4890\n",
            "Epoch 37/500\n",
            "12/12 [==============================] - 0s 4ms/step - loss: 0.5200 - val_loss: 0.4839\n",
            "Epoch 38/500\n",
            "12/12 [==============================] - 0s 5ms/step - loss: 0.5157 - val_loss: 0.4791\n",
            "Epoch 39/500\n",
            "12/12 [==============================] - 0s 4ms/step - loss: 0.5118 - val_loss: 0.4739\n",
            "Epoch 40/500\n",
            "12/12 [==============================] - 0s 4ms/step - loss: 0.5079 - val_loss: 0.4695\n",
            "Epoch 41/500\n",
            "12/12 [==============================] - 0s 4ms/step - loss: 0.5038 - val_loss: 0.4646\n",
            "Epoch 42/500\n",
            "12/12 [==============================] - 0s 4ms/step - loss: 0.4995 - val_loss: 0.4597\n",
            "Epoch 43/500\n",
            "12/12 [==============================] - 0s 4ms/step - loss: 0.4964 - val_loss: 0.4555\n",
            "Epoch 44/500\n",
            "12/12 [==============================] - 0s 4ms/step - loss: 0.4924 - val_loss: 0.4510\n",
            "Epoch 45/500\n",
            "12/12 [==============================] - 0s 5ms/step - loss: 0.4880 - val_loss: 0.4472\n",
            "Epoch 46/500\n",
            "12/12 [==============================] - 0s 5ms/step - loss: 0.4840 - val_loss: 0.4431\n",
            "Epoch 47/500\n",
            "12/12 [==============================] - 0s 7ms/step - loss: 0.4794 - val_loss: 0.4391\n",
            "Epoch 48/500\n",
            "12/12 [==============================] - 0s 5ms/step - loss: 0.4756 - val_loss: 0.4353\n",
            "Epoch 49/500\n",
            "12/12 [==============================] - 0s 5ms/step - loss: 0.4713 - val_loss: 0.4315\n",
            "Epoch 50/500\n",
            "12/12 [==============================] - 0s 4ms/step - loss: 0.4675 - val_loss: 0.4280\n",
            "Epoch 51/500\n",
            "12/12 [==============================] - 0s 4ms/step - loss: 0.4643 - val_loss: 0.4249\n",
            "Epoch 52/500\n",
            "12/12 [==============================] - 0s 4ms/step - loss: 0.4613 - val_loss: 0.4226\n",
            "Epoch 53/500\n",
            "12/12 [==============================] - 0s 4ms/step - loss: 0.4575 - val_loss: 0.4196\n",
            "Epoch 54/500\n",
            "12/12 [==============================] - 0s 4ms/step - loss: 0.4530 - val_loss: 0.4169\n",
            "Epoch 55/500\n",
            "12/12 [==============================] - 0s 4ms/step - loss: 0.4481 - val_loss: 0.4132\n",
            "Epoch 56/500\n",
            "12/12 [==============================] - 0s 4ms/step - loss: 0.4445 - val_loss: 0.4095\n",
            "Epoch 57/500\n",
            "12/12 [==============================] - 0s 4ms/step - loss: 0.4404 - val_loss: 0.4064\n",
            "Epoch 58/500\n",
            "12/12 [==============================] - 0s 4ms/step - loss: 0.4366 - val_loss: 0.4035\n",
            "Epoch 59/500\n",
            "12/12 [==============================] - 0s 5ms/step - loss: 0.4334 - val_loss: 0.4011\n",
            "Epoch 60/500\n",
            "12/12 [==============================] - 0s 4ms/step - loss: 0.4307 - val_loss: 0.3996\n",
            "Epoch 61/500\n",
            "12/12 [==============================] - 0s 4ms/step - loss: 0.4289 - val_loss: 0.3977\n",
            "Epoch 62/500\n",
            "12/12 [==============================] - 0s 4ms/step - loss: 0.4256 - val_loss: 0.3953\n",
            "Epoch 63/500\n",
            "12/12 [==============================] - 0s 4ms/step - loss: 0.4234 - val_loss: 0.3925\n",
            "Epoch 64/500\n",
            "12/12 [==============================] - 0s 6ms/step - loss: 0.4208 - val_loss: 0.3913\n",
            "Epoch 65/500\n",
            "12/12 [==============================] - 0s 4ms/step - loss: 0.4184 - val_loss: 0.3882\n",
            "Epoch 66/500\n",
            "12/12 [==============================] - 0s 4ms/step - loss: 0.4160 - val_loss: 0.3872\n",
            "Epoch 67/500\n",
            "12/12 [==============================] - 0s 4ms/step - loss: 0.4138 - val_loss: 0.3846\n",
            "Epoch 68/500\n",
            "12/12 [==============================] - 0s 4ms/step - loss: 0.4125 - val_loss: 0.3834\n",
            "Epoch 69/500\n",
            "12/12 [==============================] - 0s 5ms/step - loss: 0.4116 - val_loss: 0.3844\n",
            "Epoch 70/500\n",
            "12/12 [==============================] - 0s 4ms/step - loss: 0.4104 - val_loss: 0.3803\n",
            "Epoch 71/500\n",
            "12/12 [==============================] - 0s 4ms/step - loss: 0.4064 - val_loss: 0.3793\n",
            "Epoch 72/500\n",
            "12/12 [==============================] - 0s 5ms/step - loss: 0.4052 - val_loss: 0.3791\n",
            "Epoch 73/500\n",
            "12/12 [==============================] - 0s 4ms/step - loss: 0.4036 - val_loss: 0.3782\n",
            "Epoch 74/500\n",
            "12/12 [==============================] - 0s 4ms/step - loss: 0.4029 - val_loss: 0.3752\n",
            "Epoch 75/500\n",
            "12/12 [==============================] - 0s 4ms/step - loss: 0.3994 - val_loss: 0.3753\n",
            "Epoch 76/500\n",
            "12/12 [==============================] - 0s 4ms/step - loss: 0.3986 - val_loss: 0.3755\n",
            "Epoch 77/500\n",
            "12/12 [==============================] - 0s 4ms/step - loss: 0.3972 - val_loss: 0.3740\n",
            "Epoch 78/500\n",
            "12/12 [==============================] - 0s 4ms/step - loss: 0.3955 - val_loss: 0.3722\n",
            "Epoch 79/500\n",
            "12/12 [==============================] - 0s 4ms/step - loss: 0.3948 - val_loss: 0.3722\n",
            "Epoch 80/500\n",
            "12/12 [==============================] - 0s 5ms/step - loss: 0.3927 - val_loss: 0.3703\n",
            "Epoch 81/500\n",
            "12/12 [==============================] - 0s 4ms/step - loss: 0.3913 - val_loss: 0.3695\n",
            "Epoch 82/500\n",
            "12/12 [==============================] - 0s 6ms/step - loss: 0.3902 - val_loss: 0.3684\n",
            "Epoch 83/500\n",
            "12/12 [==============================] - 0s 5ms/step - loss: 0.3893 - val_loss: 0.3672\n",
            "Epoch 84/500\n",
            "12/12 [==============================] - 0s 4ms/step - loss: 0.3880 - val_loss: 0.3669\n",
            "Epoch 85/500\n",
            "12/12 [==============================] - 0s 4ms/step - loss: 0.3868 - val_loss: 0.3667\n",
            "Epoch 86/500\n",
            "12/12 [==============================] - 0s 4ms/step - loss: 0.3863 - val_loss: 0.3658\n",
            "Epoch 87/500\n",
            "12/12 [==============================] - 0s 4ms/step - loss: 0.3849 - val_loss: 0.3648\n",
            "Epoch 88/500\n",
            "12/12 [==============================] - 0s 5ms/step - loss: 0.3837 - val_loss: 0.3652\n",
            "Epoch 89/500\n",
            "12/12 [==============================] - 0s 4ms/step - loss: 0.3826 - val_loss: 0.3650\n",
            "Epoch 90/500\n",
            "12/12 [==============================] - 0s 4ms/step - loss: 0.3819 - val_loss: 0.3635\n",
            "Epoch 91/500\n",
            "12/12 [==============================] - 0s 4ms/step - loss: 0.3811 - val_loss: 0.3633\n",
            "Epoch 92/500\n",
            "12/12 [==============================] - 0s 5ms/step - loss: 0.3799 - val_loss: 0.3621\n",
            "Epoch 93/500\n",
            "12/12 [==============================] - 0s 5ms/step - loss: 0.3791 - val_loss: 0.3616\n",
            "Epoch 94/500\n",
            "12/12 [==============================] - 0s 4ms/step - loss: 0.3782 - val_loss: 0.3615\n",
            "Epoch 95/500\n",
            "12/12 [==============================] - 0s 4ms/step - loss: 0.3778 - val_loss: 0.3621\n",
            "Epoch 96/500\n",
            "12/12 [==============================] - 0s 4ms/step - loss: 0.3763 - val_loss: 0.3615\n",
            "Epoch 97/500\n",
            "12/12 [==============================] - 0s 5ms/step - loss: 0.3758 - val_loss: 0.3599\n",
            "Epoch 98/500\n",
            "12/12 [==============================] - 0s 6ms/step - loss: 0.3748 - val_loss: 0.3589\n",
            "Epoch 99/500\n",
            "12/12 [==============================] - 0s 4ms/step - loss: 0.3744 - val_loss: 0.3594\n",
            "Epoch 100/500\n",
            "12/12 [==============================] - 0s 4ms/step - loss: 0.3735 - val_loss: 0.3583\n",
            "Epoch 101/500\n",
            "12/12 [==============================] - 0s 4ms/step - loss: 0.3729 - val_loss: 0.3584\n",
            "Epoch 102/500\n",
            "12/12 [==============================] - 0s 4ms/step - loss: 0.3719 - val_loss: 0.3577\n",
            "Epoch 103/500\n",
            "12/12 [==============================] - 0s 4ms/step - loss: 0.3718 - val_loss: 0.3585\n",
            "Epoch 104/500\n",
            "12/12 [==============================] - 0s 4ms/step - loss: 0.3719 - val_loss: 0.3558\n",
            "Epoch 105/500\n",
            "12/12 [==============================] - 0s 4ms/step - loss: 0.3707 - val_loss: 0.3559\n",
            "Epoch 106/500\n",
            "12/12 [==============================] - 0s 4ms/step - loss: 0.3698 - val_loss: 0.3566\n",
            "Epoch 107/500\n",
            "12/12 [==============================] - 0s 4ms/step - loss: 0.3689 - val_loss: 0.3563\n",
            "Epoch 108/500\n",
            "12/12 [==============================] - 0s 4ms/step - loss: 0.3684 - val_loss: 0.3554\n",
            "Epoch 109/500\n",
            "12/12 [==============================] - 0s 4ms/step - loss: 0.3685 - val_loss: 0.3541\n",
            "Epoch 110/500\n",
            "12/12 [==============================] - 0s 4ms/step - loss: 0.3673 - val_loss: 0.3550\n",
            "Epoch 111/500\n",
            "12/12 [==============================] - 0s 4ms/step - loss: 0.3668 - val_loss: 0.3555\n",
            "Epoch 112/500\n",
            "12/12 [==============================] - 0s 5ms/step - loss: 0.3666 - val_loss: 0.3552\n",
            "Epoch 113/500\n",
            "12/12 [==============================] - 0s 4ms/step - loss: 0.3656 - val_loss: 0.3548\n",
            "Epoch 114/500\n",
            "12/12 [==============================] - 0s 4ms/step - loss: 0.3654 - val_loss: 0.3534\n",
            "Epoch 115/500\n",
            "12/12 [==============================] - 0s 4ms/step - loss: 0.3653 - val_loss: 0.3543\n",
            "Epoch 116/500\n",
            "12/12 [==============================] - 0s 5ms/step - loss: 0.3643 - val_loss: 0.3527\n",
            "Epoch 117/500\n",
            "12/12 [==============================] - 0s 4ms/step - loss: 0.3639 - val_loss: 0.3520\n",
            "Epoch 118/500\n",
            "12/12 [==============================] - 0s 4ms/step - loss: 0.3641 - val_loss: 0.3515\n",
            "Epoch 119/500\n",
            "12/12 [==============================] - 0s 4ms/step - loss: 0.3629 - val_loss: 0.3526\n",
            "Epoch 120/500\n",
            "12/12 [==============================] - 0s 4ms/step - loss: 0.3623 - val_loss: 0.3522\n",
            "Epoch 121/500\n",
            "12/12 [==============================] - 0s 4ms/step - loss: 0.3620 - val_loss: 0.3520\n",
            "Epoch 122/500\n",
            "12/12 [==============================] - 0s 4ms/step - loss: 0.3615 - val_loss: 0.3518\n",
            "Epoch 123/500\n",
            "12/12 [==============================] - 0s 4ms/step - loss: 0.3613 - val_loss: 0.3524\n",
            "Epoch 124/500\n",
            "12/12 [==============================] - 0s 4ms/step - loss: 0.3605 - val_loss: 0.3518\n",
            "Epoch 125/500\n",
            "12/12 [==============================] - 0s 5ms/step - loss: 0.3604 - val_loss: 0.3516\n",
            "Epoch 126/500\n",
            "12/12 [==============================] - 0s 4ms/step - loss: 0.3601 - val_loss: 0.3506\n",
            "Epoch 127/500\n",
            "12/12 [==============================] - 0s 4ms/step - loss: 0.3596 - val_loss: 0.3497\n",
            "Epoch 128/500\n",
            "12/12 [==============================] - 0s 4ms/step - loss: 0.3593 - val_loss: 0.3496\n",
            "Epoch 129/500\n",
            "12/12 [==============================] - 0s 4ms/step - loss: 0.3588 - val_loss: 0.3508\n",
            "Epoch 130/500\n",
            "12/12 [==============================] - 0s 5ms/step - loss: 0.3585 - val_loss: 0.3500\n",
            "Epoch 131/500\n",
            "12/12 [==============================] - 0s 4ms/step - loss: 0.3585 - val_loss: 0.3515\n",
            "Epoch 132/500\n",
            "12/12 [==============================] - 0s 4ms/step - loss: 0.3584 - val_loss: 0.3496\n",
            "Epoch 133/500\n",
            "12/12 [==============================] - 0s 4ms/step - loss: 0.3574 - val_loss: 0.3490\n",
            "Epoch 134/500\n",
            "12/12 [==============================] - 0s 4ms/step - loss: 0.3571 - val_loss: 0.3490\n",
            "Epoch 135/500\n",
            "12/12 [==============================] - 0s 4ms/step - loss: 0.3572 - val_loss: 0.3483\n",
            "Epoch 136/500\n",
            "12/12 [==============================] - 0s 4ms/step - loss: 0.3561 - val_loss: 0.3487\n",
            "Epoch 137/500\n",
            "12/12 [==============================] - 0s 4ms/step - loss: 0.3557 - val_loss: 0.3486\n",
            "Epoch 138/500\n",
            "12/12 [==============================] - 0s 4ms/step - loss: 0.3556 - val_loss: 0.3488\n",
            "Epoch 139/500\n",
            "12/12 [==============================] - 0s 4ms/step - loss: 0.3551 - val_loss: 0.3479\n",
            "Epoch 140/500\n",
            "12/12 [==============================] - 0s 5ms/step - loss: 0.3554 - val_loss: 0.3487\n",
            "Epoch 141/500\n",
            "12/12 [==============================] - 0s 4ms/step - loss: 0.3546 - val_loss: 0.3482\n",
            "Epoch 142/500\n",
            "12/12 [==============================] - 0s 4ms/step - loss: 0.3549 - val_loss: 0.3492\n",
            "Epoch 143/500\n",
            "12/12 [==============================] - 0s 4ms/step - loss: 0.3540 - val_loss: 0.3472\n",
            "Epoch 144/500\n",
            "12/12 [==============================] - 0s 6ms/step - loss: 0.3540 - val_loss: 0.3463\n",
            "Epoch 145/500\n",
            "12/12 [==============================] - 0s 4ms/step - loss: 0.3534 - val_loss: 0.3476\n",
            "Epoch 146/500\n",
            "12/12 [==============================] - 0s 4ms/step - loss: 0.3541 - val_loss: 0.3470\n",
            "Epoch 147/500\n",
            "12/12 [==============================] - 0s 4ms/step - loss: 0.3528 - val_loss: 0.3477\n",
            "Epoch 148/500\n",
            "12/12 [==============================] - 0s 4ms/step - loss: 0.3535 - val_loss: 0.3455\n",
            "Epoch 149/500\n",
            "12/12 [==============================] - 0s 4ms/step - loss: 0.3528 - val_loss: 0.3475\n",
            "Epoch 150/500\n",
            "12/12 [==============================] - 0s 4ms/step - loss: 0.3520 - val_loss: 0.3471\n",
            "Epoch 151/500\n",
            "12/12 [==============================] - 0s 5ms/step - loss: 0.3514 - val_loss: 0.3466\n",
            "Epoch 152/500\n",
            "12/12 [==============================] - 0s 4ms/step - loss: 0.3509 - val_loss: 0.3453\n",
            "Epoch 153/500\n",
            "12/12 [==============================] - 0s 4ms/step - loss: 0.3510 - val_loss: 0.3444\n",
            "Epoch 154/500\n",
            "12/12 [==============================] - 0s 4ms/step - loss: 0.3508 - val_loss: 0.3469\n",
            "Epoch 155/500\n",
            "12/12 [==============================] - 0s 5ms/step - loss: 0.3517 - val_loss: 0.3470\n",
            "Epoch 156/500\n",
            "12/12 [==============================] - 0s 4ms/step - loss: 0.3494 - val_loss: 0.3447\n",
            "Epoch 157/500\n",
            "12/12 [==============================] - 0s 4ms/step - loss: 0.3490 - val_loss: 0.3453\n",
            "Epoch 158/500\n",
            "12/12 [==============================] - 0s 4ms/step - loss: 0.3487 - val_loss: 0.3446\n",
            "Epoch 159/500\n",
            "12/12 [==============================] - 0s 4ms/step - loss: 0.3481 - val_loss: 0.3439\n",
            "Epoch 160/500\n",
            "12/12 [==============================] - 0s 4ms/step - loss: 0.3482 - val_loss: 0.3446\n",
            "Epoch 161/500\n",
            "12/12 [==============================] - 0s 4ms/step - loss: 0.3476 - val_loss: 0.3452\n",
            "Epoch 162/500\n",
            "12/12 [==============================] - 0s 4ms/step - loss: 0.3475 - val_loss: 0.3432\n",
            "Epoch 163/500\n",
            "12/12 [==============================] - 0s 4ms/step - loss: 0.3474 - val_loss: 0.3433\n",
            "Epoch 164/500\n",
            "12/12 [==============================] - 0s 5ms/step - loss: 0.3466 - val_loss: 0.3446\n",
            "Epoch 165/500\n",
            "12/12 [==============================] - 0s 4ms/step - loss: 0.3466 - val_loss: 0.3443\n",
            "Epoch 166/500\n",
            "12/12 [==============================] - 0s 4ms/step - loss: 0.3464 - val_loss: 0.3442\n",
            "Epoch 167/500\n",
            "12/12 [==============================] - 0s 4ms/step - loss: 0.3458 - val_loss: 0.3434\n",
            "Epoch 168/500\n",
            "12/12 [==============================] - 0s 5ms/step - loss: 0.3460 - val_loss: 0.3430\n",
            "Epoch 169/500\n",
            "12/12 [==============================] - 0s 7ms/step - loss: 0.3464 - val_loss: 0.3417\n",
            "Epoch 170/500\n",
            "12/12 [==============================] - 0s 4ms/step - loss: 0.3453 - val_loss: 0.3433\n",
            "Epoch 171/500\n",
            "12/12 [==============================] - 0s 6ms/step - loss: 0.3446 - val_loss: 0.3426\n",
            "Epoch 172/500\n",
            "12/12 [==============================] - 0s 4ms/step - loss: 0.3444 - val_loss: 0.3424\n",
            "Epoch 173/500\n",
            "12/12 [==============================] - 0s 4ms/step - loss: 0.3440 - val_loss: 0.3420\n",
            "Epoch 174/500\n",
            "12/12 [==============================] - 0s 4ms/step - loss: 0.3435 - val_loss: 0.3430\n",
            "Epoch 175/500\n",
            "12/12 [==============================] - 0s 4ms/step - loss: 0.3441 - val_loss: 0.3443\n",
            "Epoch 176/500\n",
            "12/12 [==============================] - 0s 4ms/step - loss: 0.3431 - val_loss: 0.3429\n",
            "Epoch 177/500\n",
            "12/12 [==============================] - 0s 4ms/step - loss: 0.3426 - val_loss: 0.3421\n",
            "Epoch 178/500\n",
            "12/12 [==============================] - 0s 4ms/step - loss: 0.3426 - val_loss: 0.3412\n",
            "Epoch 179/500\n",
            "12/12 [==============================] - 0s 4ms/step - loss: 0.3423 - val_loss: 0.3426\n",
            "Epoch 180/500\n",
            "12/12 [==============================] - 0s 4ms/step - loss: 0.3419 - val_loss: 0.3427\n",
            "Epoch 181/500\n",
            "12/12 [==============================] - 0s 5ms/step - loss: 0.3416 - val_loss: 0.3414\n",
            "Epoch 182/500\n",
            "12/12 [==============================] - 0s 4ms/step - loss: 0.3412 - val_loss: 0.3408\n",
            "Epoch 183/500\n",
            "12/12 [==============================] - 0s 4ms/step - loss: 0.3413 - val_loss: 0.3419\n",
            "Epoch 184/500\n",
            "12/12 [==============================] - 0s 5ms/step - loss: 0.3406 - val_loss: 0.3416\n",
            "Epoch 185/500\n",
            "12/12 [==============================] - 0s 4ms/step - loss: 0.3402 - val_loss: 0.3411\n",
            "Epoch 186/500\n",
            "12/12 [==============================] - 0s 5ms/step - loss: 0.3401 - val_loss: 0.3413\n",
            "Epoch 187/500\n",
            "12/12 [==============================] - 0s 4ms/step - loss: 0.3398 - val_loss: 0.3411\n",
            "Epoch 188/500\n",
            "12/12 [==============================] - 0s 4ms/step - loss: 0.3395 - val_loss: 0.3407\n",
            "Epoch 189/500\n",
            "12/12 [==============================] - 0s 4ms/step - loss: 0.3399 - val_loss: 0.3409\n",
            "Epoch 190/500\n",
            "12/12 [==============================] - 0s 5ms/step - loss: 0.3388 - val_loss: 0.3403\n",
            "Epoch 191/500\n",
            "12/12 [==============================] - 0s 4ms/step - loss: 0.3388 - val_loss: 0.3395\n",
            "Epoch 192/500\n",
            "12/12 [==============================] - 0s 4ms/step - loss: 0.3385 - val_loss: 0.3400\n",
            "Epoch 193/500\n",
            "12/12 [==============================] - 0s 6ms/step - loss: 0.3384 - val_loss: 0.3406\n",
            "Epoch 194/500\n",
            "12/12 [==============================] - 0s 4ms/step - loss: 0.3389 - val_loss: 0.3402\n",
            "Epoch 195/500\n",
            "12/12 [==============================] - 0s 4ms/step - loss: 0.3376 - val_loss: 0.3403\n",
            "Epoch 196/500\n",
            "12/12 [==============================] - 0s 4ms/step - loss: 0.3375 - val_loss: 0.3391\n",
            "Epoch 197/500\n",
            "12/12 [==============================] - 0s 4ms/step - loss: 0.3373 - val_loss: 0.3390\n",
            "Epoch 198/500\n",
            "12/12 [==============================] - 0s 4ms/step - loss: 0.3367 - val_loss: 0.3398\n",
            "Epoch 199/500\n",
            "12/12 [==============================] - 0s 4ms/step - loss: 0.3371 - val_loss: 0.3402\n",
            "Epoch 200/500\n",
            "12/12 [==============================] - 0s 5ms/step - loss: 0.3367 - val_loss: 0.3389\n",
            "Epoch 201/500\n",
            "12/12 [==============================] - 0s 8ms/step - loss: 0.3365 - val_loss: 0.3403\n",
            "Epoch 202/500\n",
            "12/12 [==============================] - 0s 4ms/step - loss: 0.3361 - val_loss: 0.3394\n",
            "Epoch 203/500\n",
            "12/12 [==============================] - 0s 4ms/step - loss: 0.3361 - val_loss: 0.3402\n",
            "Epoch 204/500\n",
            "12/12 [==============================] - 0s 5ms/step - loss: 0.3362 - val_loss: 0.3383\n",
            "Epoch 205/500\n",
            "12/12 [==============================] - 0s 4ms/step - loss: 0.3358 - val_loss: 0.3380\n",
            "Epoch 206/500\n",
            "12/12 [==============================] - 0s 4ms/step - loss: 0.3354 - val_loss: 0.3392\n",
            "Epoch 207/500\n",
            "12/12 [==============================] - 0s 5ms/step - loss: 0.3348 - val_loss: 0.3392\n",
            "Epoch 208/500\n",
            "12/12 [==============================] - 0s 5ms/step - loss: 0.3345 - val_loss: 0.3390\n",
            "Epoch 209/500\n",
            "12/12 [==============================] - 0s 4ms/step - loss: 0.3345 - val_loss: 0.3387\n",
            "Epoch 210/500\n",
            "12/12 [==============================] - 0s 4ms/step - loss: 0.3345 - val_loss: 0.3378\n",
            "Epoch 211/500\n",
            "12/12 [==============================] - 0s 5ms/step - loss: 0.3341 - val_loss: 0.3383\n",
            "Epoch 212/500\n",
            "12/12 [==============================] - 0s 4ms/step - loss: 0.3339 - val_loss: 0.3382\n",
            "Epoch 213/500\n",
            "12/12 [==============================] - 0s 4ms/step - loss: 0.3342 - val_loss: 0.3383\n",
            "Epoch 214/500\n",
            "12/12 [==============================] - 0s 5ms/step - loss: 0.3335 - val_loss: 0.3383\n",
            "Epoch 215/500\n",
            "12/12 [==============================] - 0s 5ms/step - loss: 0.3342 - val_loss: 0.3388\n",
            "Epoch 216/500\n",
            "12/12 [==============================] - 0s 4ms/step - loss: 0.3341 - val_loss: 0.3368\n",
            "Epoch 217/500\n",
            "12/12 [==============================] - 0s 4ms/step - loss: 0.3340 - val_loss: 0.3380\n",
            "Epoch 218/500\n",
            "12/12 [==============================] - 0s 5ms/step - loss: 0.3337 - val_loss: 0.3372\n",
            "Epoch 219/500\n",
            "12/12 [==============================] - 0s 5ms/step - loss: 0.3336 - val_loss: 0.3384\n",
            "Epoch 220/500\n",
            "12/12 [==============================] - 0s 4ms/step - loss: 0.3333 - val_loss: 0.3381\n",
            "Epoch 221/500\n",
            "12/12 [==============================] - 0s 4ms/step - loss: 0.3327 - val_loss: 0.3375\n",
            "Epoch 222/500\n",
            "12/12 [==============================] - 0s 4ms/step - loss: 0.3326 - val_loss: 0.3372\n",
            "Epoch 223/500\n",
            "12/12 [==============================] - 0s 4ms/step - loss: 0.3328 - val_loss: 0.3374\n",
            "Epoch 224/500\n",
            "12/12 [==============================] - 0s 4ms/step - loss: 0.3326 - val_loss: 0.3367\n",
            "Epoch 225/500\n",
            "12/12 [==============================] - 0s 5ms/step - loss: 0.3322 - val_loss: 0.3362\n",
            "Epoch 226/500\n",
            "12/12 [==============================] - 0s 4ms/step - loss: 0.3324 - val_loss: 0.3371\n",
            "Epoch 227/500\n",
            "12/12 [==============================] - 0s 4ms/step - loss: 0.3321 - val_loss: 0.3369\n",
            "Epoch 228/500\n",
            "12/12 [==============================] - 0s 6ms/step - loss: 0.3326 - val_loss: 0.3370\n",
            "Epoch 229/500\n",
            "12/12 [==============================] - 0s 4ms/step - loss: 0.3321 - val_loss: 0.3369\n",
            "Epoch 230/500\n",
            "12/12 [==============================] - 0s 4ms/step - loss: 0.3319 - val_loss: 0.3373\n",
            "Epoch 231/500\n",
            "12/12 [==============================] - 0s 5ms/step - loss: 0.3320 - val_loss: 0.3365\n",
            "Epoch 232/500\n",
            "12/12 [==============================] - 0s 5ms/step - loss: 0.3316 - val_loss: 0.3365\n",
            "Epoch 233/500\n",
            "12/12 [==============================] - 0s 5ms/step - loss: 0.3317 - val_loss: 0.3361\n",
            "Epoch 234/500\n",
            "12/12 [==============================] - 0s 4ms/step - loss: 0.3317 - val_loss: 0.3369\n",
            "Epoch 235/500\n",
            "12/12 [==============================] - 0s 4ms/step - loss: 0.3318 - val_loss: 0.3363\n",
            "Epoch 236/500\n",
            "12/12 [==============================] - 0s 4ms/step - loss: 0.3318 - val_loss: 0.3367\n",
            "Epoch 237/500\n",
            "12/12 [==============================] - 0s 5ms/step - loss: 0.3317 - val_loss: 0.3370\n",
            "Epoch 238/500\n",
            "12/12 [==============================] - 0s 4ms/step - loss: 0.3313 - val_loss: 0.3363\n",
            "Epoch 239/500\n",
            "12/12 [==============================] - 0s 4ms/step - loss: 0.3312 - val_loss: 0.3361\n",
            "Epoch 240/500\n",
            "12/12 [==============================] - 0s 4ms/step - loss: 0.3312 - val_loss: 0.3360\n",
            "Epoch 241/500\n",
            "12/12 [==============================] - 0s 4ms/step - loss: 0.3311 - val_loss: 0.3361\n",
            "Epoch 242/500\n",
            "12/12 [==============================] - 0s 5ms/step - loss: 0.3310 - val_loss: 0.3367\n",
            "Epoch 243/500\n",
            "12/12 [==============================] - 0s 4ms/step - loss: 0.3317 - val_loss: 0.3373\n",
            "Epoch 244/500\n",
            "12/12 [==============================] - 0s 4ms/step - loss: 0.3312 - val_loss: 0.3358\n",
            "Epoch 245/500\n",
            "12/12 [==============================] - 0s 4ms/step - loss: 0.3317 - val_loss: 0.3371\n",
            "Epoch 246/500\n",
            "12/12 [==============================] - 0s 5ms/step - loss: 0.3311 - val_loss: 0.3358\n",
            "Epoch 247/500\n",
            "12/12 [==============================] - 0s 4ms/step - loss: 0.3317 - val_loss: 0.3348\n",
            "Epoch 248/500\n",
            "12/12 [==============================] - 0s 4ms/step - loss: 0.3307 - val_loss: 0.3352\n",
            "Epoch 249/500\n",
            "12/12 [==============================] - 0s 4ms/step - loss: 0.3309 - val_loss: 0.3358\n",
            "Epoch 250/500\n",
            "12/12 [==============================] - 0s 4ms/step - loss: 0.3312 - val_loss: 0.3350\n",
            "Epoch 251/500\n",
            "12/12 [==============================] - 0s 6ms/step - loss: 0.3305 - val_loss: 0.3356\n",
            "Epoch 252/500\n",
            "12/12 [==============================] - 0s 4ms/step - loss: 0.3306 - val_loss: 0.3358\n",
            "Epoch 253/500\n",
            "12/12 [==============================] - 0s 4ms/step - loss: 0.3307 - val_loss: 0.3360\n",
            "Epoch 254/500\n",
            "12/12 [==============================] - 0s 4ms/step - loss: 0.3306 - val_loss: 0.3358\n",
            "Epoch 255/500\n",
            "12/12 [==============================] - 0s 4ms/step - loss: 0.3310 - val_loss: 0.3351\n",
            "Epoch 256/500\n",
            "12/12 [==============================] - 0s 5ms/step - loss: 0.3302 - val_loss: 0.3360\n",
            "Epoch 257/500\n",
            "12/12 [==============================] - 0s 4ms/step - loss: 0.3311 - val_loss: 0.3368\n",
            "Epoch 258/500\n",
            "12/12 [==============================] - 0s 5ms/step - loss: 0.3305 - val_loss: 0.3346\n",
            "Epoch 259/500\n",
            "12/12 [==============================] - 0s 5ms/step - loss: 0.3302 - val_loss: 0.3349\n",
            "Epoch 260/500\n",
            "12/12 [==============================] - 0s 5ms/step - loss: 0.3308 - val_loss: 0.3343\n",
            "Epoch 261/500\n",
            "12/12 [==============================] - 0s 5ms/step - loss: 0.3313 - val_loss: 0.3361\n",
            "Epoch 262/500\n",
            "12/12 [==============================] - 0s 4ms/step - loss: 0.3303 - val_loss: 0.3350\n",
            "Epoch 263/500\n",
            "12/12 [==============================] - 0s 4ms/step - loss: 0.3324 - val_loss: 0.3339\n",
            "Epoch 264/500\n",
            "12/12 [==============================] - 0s 4ms/step - loss: 0.3303 - val_loss: 0.3348\n",
            "Epoch 265/500\n",
            "12/12 [==============================] - 0s 4ms/step - loss: 0.3309 - val_loss: 0.3355\n",
            "Epoch 266/500\n",
            "12/12 [==============================] - 0s 4ms/step - loss: 0.3302 - val_loss: 0.3346\n",
            "Epoch 267/500\n",
            "12/12 [==============================] - 0s 4ms/step - loss: 0.3298 - val_loss: 0.3352\n",
            "Epoch 268/500\n",
            "12/12 [==============================] - 0s 5ms/step - loss: 0.3298 - val_loss: 0.3351\n",
            "Epoch 269/500\n",
            "12/12 [==============================] - 0s 4ms/step - loss: 0.3299 - val_loss: 0.3348\n",
            "Epoch 270/500\n",
            "12/12 [==============================] - 0s 4ms/step - loss: 0.3297 - val_loss: 0.3344\n",
            "Epoch 271/500\n",
            "12/12 [==============================] - 0s 5ms/step - loss: 0.3298 - val_loss: 0.3344\n",
            "Epoch 272/500\n",
            "12/12 [==============================] - 0s 4ms/step - loss: 0.3301 - val_loss: 0.3342\n",
            "Epoch 273/500\n",
            "12/12 [==============================] - 0s 5ms/step - loss: 0.3298 - val_loss: 0.3343\n",
            "Epoch 274/500\n",
            "12/12 [==============================] - 0s 5ms/step - loss: 0.3296 - val_loss: 0.3346\n",
            "Epoch 275/500\n",
            "12/12 [==============================] - 0s 5ms/step - loss: 0.3302 - val_loss: 0.3334\n",
            "Epoch 276/500\n",
            "12/12 [==============================] - 0s 5ms/step - loss: 0.3295 - val_loss: 0.3341\n",
            "Epoch 277/500\n",
            "12/12 [==============================] - 0s 4ms/step - loss: 0.3304 - val_loss: 0.3337\n",
            "Epoch 278/500\n",
            "12/12 [==============================] - 0s 5ms/step - loss: 0.3294 - val_loss: 0.3340\n",
            "Epoch 279/500\n",
            "12/12 [==============================] - 0s 4ms/step - loss: 0.3298 - val_loss: 0.3346\n",
            "Epoch 280/500\n",
            "12/12 [==============================] - 0s 5ms/step - loss: 0.3296 - val_loss: 0.3344\n",
            "Epoch 281/500\n",
            "12/12 [==============================] - 0s 4ms/step - loss: 0.3296 - val_loss: 0.3333\n",
            "Epoch 282/500\n",
            "12/12 [==============================] - 0s 4ms/step - loss: 0.3295 - val_loss: 0.3334\n",
            "Epoch 283/500\n",
            "12/12 [==============================] - 0s 4ms/step - loss: 0.3292 - val_loss: 0.3336\n",
            "Epoch 284/500\n",
            "12/12 [==============================] - 0s 5ms/step - loss: 0.3301 - val_loss: 0.3338\n",
            "Epoch 285/500\n",
            "12/12 [==============================] - 0s 5ms/step - loss: 0.3294 - val_loss: 0.3333\n",
            "Epoch 286/500\n",
            "12/12 [==============================] - 0s 4ms/step - loss: 0.3294 - val_loss: 0.3329\n",
            "Epoch 287/500\n",
            "12/12 [==============================] - 0s 4ms/step - loss: 0.3296 - val_loss: 0.3341\n",
            "Epoch 288/500\n",
            "12/12 [==============================] - 0s 4ms/step - loss: 0.3289 - val_loss: 0.3337\n",
            "Epoch 289/500\n",
            "12/12 [==============================] - 0s 4ms/step - loss: 0.3292 - val_loss: 0.3333\n",
            "Epoch 290/500\n",
            "12/12 [==============================] - 0s 4ms/step - loss: 0.3291 - val_loss: 0.3339\n",
            "Epoch 291/500\n",
            "12/12 [==============================] - 0s 4ms/step - loss: 0.3291 - val_loss: 0.3338\n",
            "Epoch 292/500\n",
            "12/12 [==============================] - 0s 4ms/step - loss: 0.3290 - val_loss: 0.3339\n",
            "Epoch 293/500\n",
            "12/12 [==============================] - 0s 4ms/step - loss: 0.3289 - val_loss: 0.3332\n",
            "Epoch 294/500\n",
            "12/12 [==============================] - 0s 4ms/step - loss: 0.3292 - val_loss: 0.3325\n",
            "Epoch 295/500\n",
            "12/12 [==============================] - 0s 4ms/step - loss: 0.3302 - val_loss: 0.3332\n",
            "Epoch 296/500\n",
            "12/12 [==============================] - 0s 4ms/step - loss: 0.3292 - val_loss: 0.3339\n",
            "Epoch 297/500\n",
            "12/12 [==============================] - 0s 4ms/step - loss: 0.3298 - val_loss: 0.3325\n",
            "Epoch 298/500\n",
            "12/12 [==============================] - 0s 5ms/step - loss: 0.3287 - val_loss: 0.3318\n",
            "Epoch 299/500\n",
            "12/12 [==============================] - 0s 5ms/step - loss: 0.3286 - val_loss: 0.3327\n",
            "Epoch 300/500\n",
            "12/12 [==============================] - 0s 5ms/step - loss: 0.3292 - val_loss: 0.3335\n",
            "Epoch 301/500\n",
            "12/12 [==============================] - 0s 5ms/step - loss: 0.3291 - val_loss: 0.3326\n",
            "Epoch 302/500\n",
            "12/12 [==============================] - 0s 5ms/step - loss: 0.3286 - val_loss: 0.3332\n",
            "Epoch 303/500\n",
            "12/12 [==============================] - 0s 5ms/step - loss: 0.3292 - val_loss: 0.3338\n",
            "Epoch 304/500\n",
            "12/12 [==============================] - 0s 5ms/step - loss: 0.3281 - val_loss: 0.3327\n",
            "Epoch 305/500\n",
            "12/12 [==============================] - 0s 4ms/step - loss: 0.3290 - val_loss: 0.3322\n",
            "Epoch 306/500\n",
            "12/12 [==============================] - 0s 4ms/step - loss: 0.3292 - val_loss: 0.3328\n",
            "Epoch 307/500\n",
            "12/12 [==============================] - 0s 5ms/step - loss: 0.3288 - val_loss: 0.3330\n",
            "Epoch 308/500\n",
            "12/12 [==============================] - 0s 4ms/step - loss: 0.3286 - val_loss: 0.3322\n",
            "Epoch 309/500\n",
            "12/12 [==============================] - 0s 5ms/step - loss: 0.3289 - val_loss: 0.3321\n",
            "Epoch 310/500\n",
            "12/12 [==============================] - 0s 4ms/step - loss: 0.3286 - val_loss: 0.3338\n",
            "Epoch 311/500\n",
            "12/12 [==============================] - 0s 4ms/step - loss: 0.3283 - val_loss: 0.3330\n",
            "Epoch 312/500\n",
            "12/12 [==============================] - 0s 5ms/step - loss: 0.3285 - val_loss: 0.3328\n",
            "Epoch 313/500\n",
            "12/12 [==============================] - 0s 4ms/step - loss: 0.3284 - val_loss: 0.3325\n",
            "Epoch 314/500\n",
            "12/12 [==============================] - 0s 5ms/step - loss: 0.3289 - val_loss: 0.3323\n",
            "Epoch 315/500\n",
            "12/12 [==============================] - 0s 4ms/step - loss: 0.3278 - val_loss: 0.3325\n",
            "Epoch 316/500\n",
            "12/12 [==============================] - 0s 4ms/step - loss: 0.3279 - val_loss: 0.3322\n",
            "Epoch 317/500\n",
            "12/12 [==============================] - 0s 4ms/step - loss: 0.3281 - val_loss: 0.3320\n",
            "Epoch 318/500\n",
            "12/12 [==============================] - 0s 4ms/step - loss: 0.3286 - val_loss: 0.3317\n",
            "Epoch 319/500\n",
            "12/12 [==============================] - 0s 5ms/step - loss: 0.3287 - val_loss: 0.3331\n",
            "Epoch 320/500\n",
            "12/12 [==============================] - 0s 6ms/step - loss: 0.3282 - val_loss: 0.3317\n",
            "Epoch 321/500\n",
            "12/12 [==============================] - 0s 5ms/step - loss: 0.3278 - val_loss: 0.3317\n",
            "Epoch 322/500\n",
            "12/12 [==============================] - 0s 5ms/step - loss: 0.3280 - val_loss: 0.3316\n",
            "Epoch 323/500\n",
            "12/12 [==============================] - 0s 5ms/step - loss: 0.3282 - val_loss: 0.3334\n",
            "Epoch 324/500\n",
            "12/12 [==============================] - 0s 4ms/step - loss: 0.3282 - val_loss: 0.3317\n",
            "Epoch 325/500\n",
            "12/12 [==============================] - 0s 4ms/step - loss: 0.3275 - val_loss: 0.3310\n",
            "Epoch 326/500\n",
            "12/12 [==============================] - 0s 5ms/step - loss: 0.3279 - val_loss: 0.3319\n",
            "Epoch 327/500\n",
            "12/12 [==============================] - 0s 4ms/step - loss: 0.3275 - val_loss: 0.3319\n",
            "Epoch 328/500\n",
            "12/12 [==============================] - 0s 4ms/step - loss: 0.3281 - val_loss: 0.3321\n",
            "Epoch 329/500\n",
            "12/12 [==============================] - 0s 4ms/step - loss: 0.3296 - val_loss: 0.3303\n",
            "Epoch 330/500\n",
            "12/12 [==============================] - 0s 4ms/step - loss: 0.3277 - val_loss: 0.3318\n",
            "Epoch 331/500\n",
            "12/12 [==============================] - 0s 4ms/step - loss: 0.3276 - val_loss: 0.3328\n",
            "Epoch 332/500\n",
            "12/12 [==============================] - 0s 4ms/step - loss: 0.3278 - val_loss: 0.3331\n",
            "Epoch 333/500\n",
            "12/12 [==============================] - 0s 4ms/step - loss: 0.3273 - val_loss: 0.3321\n",
            "Epoch 334/500\n",
            "12/12 [==============================] - 0s 4ms/step - loss: 0.3284 - val_loss: 0.3306\n",
            "Epoch 335/500\n",
            "12/12 [==============================] - 0s 5ms/step - loss: 0.3274 - val_loss: 0.3314\n",
            "Epoch 336/500\n",
            "12/12 [==============================] - 0s 4ms/step - loss: 0.3274 - val_loss: 0.3315\n",
            "Epoch 337/500\n",
            "12/12 [==============================] - 0s 5ms/step - loss: 0.3278 - val_loss: 0.3304\n",
            "Epoch 338/500\n",
            "12/12 [==============================] - 0s 4ms/step - loss: 0.3271 - val_loss: 0.3306\n",
            "Epoch 339/500\n",
            "12/12 [==============================] - 0s 4ms/step - loss: 0.3270 - val_loss: 0.3315\n",
            "Epoch 340/500\n",
            "12/12 [==============================] - 0s 5ms/step - loss: 0.3270 - val_loss: 0.3313\n",
            "Epoch 341/500\n",
            "12/12 [==============================] - 0s 4ms/step - loss: 0.3269 - val_loss: 0.3307\n",
            "Epoch 342/500\n",
            "12/12 [==============================] - 0s 4ms/step - loss: 0.3271 - val_loss: 0.3311\n",
            "Epoch 343/500\n",
            "12/12 [==============================] - 0s 4ms/step - loss: 0.3272 - val_loss: 0.3305\n",
            "Epoch 344/500\n",
            "12/12 [==============================] - 0s 4ms/step - loss: 0.3269 - val_loss: 0.3309\n",
            "Epoch 345/500\n",
            "12/12 [==============================] - 0s 4ms/step - loss: 0.3277 - val_loss: 0.3327\n",
            "Epoch 346/500\n",
            "12/12 [==============================] - 0s 5ms/step - loss: 0.3270 - val_loss: 0.3305\n",
            "Epoch 347/500\n",
            "12/12 [==============================] - 0s 4ms/step - loss: 0.3273 - val_loss: 0.3311\n",
            "Epoch 348/500\n",
            "12/12 [==============================] - 0s 4ms/step - loss: 0.3272 - val_loss: 0.3304\n",
            "Epoch 349/500\n",
            "12/12 [==============================] - 0s 5ms/step - loss: 0.3270 - val_loss: 0.3313\n",
            "Epoch 350/500\n",
            "12/12 [==============================] - 0s 5ms/step - loss: 0.3265 - val_loss: 0.3311\n",
            "Epoch 351/500\n",
            "12/12 [==============================] - 0s 7ms/step - loss: 0.3268 - val_loss: 0.3304\n",
            "Epoch 352/500\n",
            "12/12 [==============================] - 0s 4ms/step - loss: 0.3266 - val_loss: 0.3312\n",
            "Epoch 353/500\n",
            "12/12 [==============================] - 0s 4ms/step - loss: 0.3267 - val_loss: 0.3307\n",
            "Epoch 354/500\n",
            "12/12 [==============================] - 0s 4ms/step - loss: 0.3273 - val_loss: 0.3299\n",
            "Epoch 355/500\n",
            "12/12 [==============================] - 0s 4ms/step - loss: 0.3266 - val_loss: 0.3313\n",
            "Epoch 356/500\n",
            "12/12 [==============================] - 0s 4ms/step - loss: 0.3271 - val_loss: 0.3301\n",
            "Epoch 357/500\n",
            "12/12 [==============================] - 0s 4ms/step - loss: 0.3265 - val_loss: 0.3305\n",
            "Epoch 358/500\n",
            "12/12 [==============================] - 0s 5ms/step - loss: 0.3267 - val_loss: 0.3301\n",
            "Epoch 359/500\n",
            "12/12 [==============================] - 0s 4ms/step - loss: 0.3269 - val_loss: 0.3311\n",
            "Epoch 360/500\n",
            "12/12 [==============================] - 0s 4ms/step - loss: 0.3265 - val_loss: 0.3302\n",
            "Epoch 361/500\n",
            "12/12 [==============================] - 0s 4ms/step - loss: 0.3266 - val_loss: 0.3308\n",
            "Epoch 362/500\n",
            "12/12 [==============================] - 0s 4ms/step - loss: 0.3263 - val_loss: 0.3301\n",
            "Epoch 363/500\n",
            "12/12 [==============================] - 0s 5ms/step - loss: 0.3265 - val_loss: 0.3303\n",
            "Epoch 364/500\n",
            "12/12 [==============================] - 0s 4ms/step - loss: 0.3266 - val_loss: 0.3293\n",
            "Epoch 365/500\n",
            "12/12 [==============================] - 0s 4ms/step - loss: 0.3262 - val_loss: 0.3299\n",
            "Epoch 366/500\n",
            "12/12 [==============================] - 0s 4ms/step - loss: 0.3264 - val_loss: 0.3306\n",
            "Epoch 367/500\n",
            "12/12 [==============================] - 0s 5ms/step - loss: 0.3261 - val_loss: 0.3303\n",
            "Epoch 368/500\n",
            "12/12 [==============================] - 0s 5ms/step - loss: 0.3263 - val_loss: 0.3295\n",
            "Epoch 369/500\n",
            "12/12 [==============================] - 0s 4ms/step - loss: 0.3268 - val_loss: 0.3308\n",
            "Epoch 370/500\n",
            "12/12 [==============================] - 0s 5ms/step - loss: 0.3263 - val_loss: 0.3304\n",
            "Epoch 371/500\n",
            "12/12 [==============================] - 0s 4ms/step - loss: 0.3264 - val_loss: 0.3303\n",
            "Epoch 372/500\n",
            "12/12 [==============================] - 0s 5ms/step - loss: 0.3258 - val_loss: 0.3300\n",
            "Epoch 373/500\n",
            "12/12 [==============================] - 0s 4ms/step - loss: 0.3258 - val_loss: 0.3297\n",
            "Epoch 374/500\n",
            "12/12 [==============================] - 0s 4ms/step - loss: 0.3262 - val_loss: 0.3302\n",
            "Epoch 375/500\n",
            "12/12 [==============================] - 0s 4ms/step - loss: 0.3269 - val_loss: 0.3295\n",
            "Epoch 376/500\n",
            "12/12 [==============================] - 0s 4ms/step - loss: 0.3258 - val_loss: 0.3297\n",
            "Epoch 377/500\n",
            "12/12 [==============================] - 0s 5ms/step - loss: 0.3256 - val_loss: 0.3296\n",
            "Epoch 378/500\n",
            "12/12 [==============================] - 0s 6ms/step - loss: 0.3259 - val_loss: 0.3291\n",
            "Epoch 379/500\n",
            "12/12 [==============================] - 0s 4ms/step - loss: 0.3257 - val_loss: 0.3304\n",
            "Epoch 380/500\n",
            "12/12 [==============================] - 0s 6ms/step - loss: 0.3260 - val_loss: 0.3303\n",
            "Epoch 381/500\n",
            "12/12 [==============================] - 0s 4ms/step - loss: 0.3260 - val_loss: 0.3312\n",
            "Epoch 382/500\n",
            "12/12 [==============================] - 0s 4ms/step - loss: 0.3262 - val_loss: 0.3308\n",
            "Epoch 383/500\n",
            "12/12 [==============================] - 0s 5ms/step - loss: 0.3257 - val_loss: 0.3291\n",
            "Epoch 384/500\n",
            "12/12 [==============================] - 0s 6ms/step - loss: 0.3257 - val_loss: 0.3289\n",
            "Epoch 385/500\n",
            "12/12 [==============================] - 0s 5ms/step - loss: 0.3263 - val_loss: 0.3305\n",
            "Epoch 386/500\n",
            "12/12 [==============================] - 0s 4ms/step - loss: 0.3256 - val_loss: 0.3294\n",
            "Epoch 387/500\n",
            "12/12 [==============================] - 0s 6ms/step - loss: 0.3258 - val_loss: 0.3301\n",
            "Epoch 388/500\n",
            "12/12 [==============================] - 0s 4ms/step - loss: 0.3259 - val_loss: 0.3289\n",
            "Epoch 389/500\n",
            "12/12 [==============================] - 0s 5ms/step - loss: 0.3256 - val_loss: 0.3296\n",
            "Epoch 390/500\n",
            "12/12 [==============================] - 0s 4ms/step - loss: 0.3252 - val_loss: 0.3296\n",
            "Epoch 391/500\n",
            "12/12 [==============================] - 0s 4ms/step - loss: 0.3252 - val_loss: 0.3291\n",
            "Epoch 392/500\n",
            "12/12 [==============================] - 0s 6ms/step - loss: 0.3251 - val_loss: 0.3295\n",
            "Epoch 393/500\n",
            "12/12 [==============================] - 0s 4ms/step - loss: 0.3252 - val_loss: 0.3293\n",
            "Epoch 394/500\n",
            "12/12 [==============================] - 0s 5ms/step - loss: 0.3256 - val_loss: 0.3304\n",
            "Epoch 395/500\n",
            "12/12 [==============================] - 0s 4ms/step - loss: 0.3249 - val_loss: 0.3293\n",
            "Epoch 396/500\n",
            "12/12 [==============================] - 0s 5ms/step - loss: 0.3248 - val_loss: 0.3291\n",
            "Epoch 397/500\n",
            "12/12 [==============================] - 0s 5ms/step - loss: 0.3249 - val_loss: 0.3287\n",
            "Epoch 398/500\n",
            "12/12 [==============================] - 0s 5ms/step - loss: 0.3244 - val_loss: 0.3291\n",
            "Epoch 399/500\n",
            "12/12 [==============================] - 0s 5ms/step - loss: 0.3259 - val_loss: 0.3300\n",
            "Epoch 400/500\n",
            "12/12 [==============================] - 0s 6ms/step - loss: 0.3251 - val_loss: 0.3294\n",
            "Epoch 401/500\n",
            "12/12 [==============================] - 0s 5ms/step - loss: 0.3252 - val_loss: 0.3288\n",
            "Epoch 402/500\n",
            "12/12 [==============================] - 0s 5ms/step - loss: 0.3248 - val_loss: 0.3287\n",
            "Epoch 403/500\n",
            "12/12 [==============================] - 0s 5ms/step - loss: 0.3249 - val_loss: 0.3295\n",
            "Epoch 404/500\n",
            "12/12 [==============================] - 0s 5ms/step - loss: 0.3248 - val_loss: 0.3285\n",
            "Epoch 405/500\n",
            "12/12 [==============================] - 0s 5ms/step - loss: 0.3245 - val_loss: 0.3289\n",
            "Epoch 406/500\n",
            "12/12 [==============================] - 0s 5ms/step - loss: 0.3246 - val_loss: 0.3291\n",
            "Epoch 407/500\n",
            "12/12 [==============================] - 0s 6ms/step - loss: 0.3245 - val_loss: 0.3291\n",
            "Epoch 408/500\n",
            "12/12 [==============================] - 0s 5ms/step - loss: 0.3248 - val_loss: 0.3287\n",
            "Epoch 409/500\n",
            "12/12 [==============================] - 0s 4ms/step - loss: 0.3247 - val_loss: 0.3286\n",
            "Epoch 410/500\n",
            "12/12 [==============================] - 0s 6ms/step - loss: 0.3242 - val_loss: 0.3290\n",
            "Epoch 411/500\n",
            "12/12 [==============================] - 0s 4ms/step - loss: 0.3244 - val_loss: 0.3289\n",
            "Epoch 412/500\n",
            "12/12 [==============================] - 0s 4ms/step - loss: 0.3245 - val_loss: 0.3289\n",
            "Epoch 413/500\n",
            "12/12 [==============================] - 0s 4ms/step - loss: 0.3252 - val_loss: 0.3291\n",
            "Epoch 414/500\n",
            "12/12 [==============================] - 0s 5ms/step - loss: 0.3240 - val_loss: 0.3295\n",
            "Epoch 415/500\n",
            "12/12 [==============================] - 0s 5ms/step - loss: 0.3242 - val_loss: 0.3292\n",
            "Epoch 416/500\n",
            "12/12 [==============================] - 0s 5ms/step - loss: 0.3245 - val_loss: 0.3283\n",
            "Epoch 417/500\n",
            "12/12 [==============================] - 0s 5ms/step - loss: 0.3246 - val_loss: 0.3289\n",
            "Epoch 418/500\n",
            "12/12 [==============================] - 0s 5ms/step - loss: 0.3242 - val_loss: 0.3289\n",
            "Epoch 419/500\n",
            "12/12 [==============================] - 0s 6ms/step - loss: 0.3249 - val_loss: 0.3292\n",
            "Epoch 420/500\n",
            "12/12 [==============================] - 0s 5ms/step - loss: 0.3239 - val_loss: 0.3288\n",
            "Epoch 421/500\n",
            "12/12 [==============================] - 0s 4ms/step - loss: 0.3236 - val_loss: 0.3289\n",
            "Epoch 422/500\n",
            "12/12 [==============================] - 0s 4ms/step - loss: 0.3237 - val_loss: 0.3284\n",
            "Epoch 423/500\n",
            "12/12 [==============================] - 0s 5ms/step - loss: 0.3242 - val_loss: 0.3287\n",
            "Epoch 424/500\n",
            "12/12 [==============================] - 0s 5ms/step - loss: 0.3239 - val_loss: 0.3291\n",
            "Epoch 425/500\n",
            "12/12 [==============================] - 0s 4ms/step - loss: 0.3244 - val_loss: 0.3283\n",
            "Epoch 426/500\n",
            "12/12 [==============================] - 0s 4ms/step - loss: 0.3237 - val_loss: 0.3281\n",
            "Epoch 427/500\n",
            "12/12 [==============================] - 0s 4ms/step - loss: 0.3236 - val_loss: 0.3286\n",
            "Epoch 428/500\n",
            "12/12 [==============================] - 0s 5ms/step - loss: 0.3237 - val_loss: 0.3288\n",
            "Epoch 429/500\n",
            "12/12 [==============================] - 0s 4ms/step - loss: 0.3235 - val_loss: 0.3284\n",
            "Epoch 430/500\n",
            "12/12 [==============================] - 0s 5ms/step - loss: 0.3235 - val_loss: 0.3283\n",
            "Epoch 431/500\n",
            "12/12 [==============================] - 0s 5ms/step - loss: 0.3237 - val_loss: 0.3284\n",
            "Epoch 432/500\n",
            "12/12 [==============================] - 0s 4ms/step - loss: 0.3249 - val_loss: 0.3300\n",
            "Epoch 433/500\n",
            "12/12 [==============================] - 0s 5ms/step - loss: 0.3237 - val_loss: 0.3281\n",
            "Epoch 434/500\n",
            "12/12 [==============================] - 0s 5ms/step - loss: 0.3244 - val_loss: 0.3281\n",
            "Epoch 435/500\n",
            "12/12 [==============================] - 0s 5ms/step - loss: 0.3248 - val_loss: 0.3287\n",
            "Epoch 436/500\n",
            "12/12 [==============================] - 0s 4ms/step - loss: 0.3236 - val_loss: 0.3283\n",
            "Epoch 437/500\n",
            "12/12 [==============================] - 0s 5ms/step - loss: 0.3234 - val_loss: 0.3280\n",
            "Epoch 438/500\n",
            "12/12 [==============================] - 0s 5ms/step - loss: 0.3237 - val_loss: 0.3285\n",
            "Epoch 439/500\n",
            "12/12 [==============================] - 0s 4ms/step - loss: 0.3237 - val_loss: 0.3280\n",
            "Epoch 440/500\n",
            "12/12 [==============================] - 0s 5ms/step - loss: 0.3244 - val_loss: 0.3286\n",
            "Epoch 441/500\n",
            "12/12 [==============================] - 0s 5ms/step - loss: 0.3230 - val_loss: 0.3282\n",
            "Epoch 442/500\n",
            "12/12 [==============================] - 0s 4ms/step - loss: 0.3233 - val_loss: 0.3280\n",
            "Epoch 443/500\n",
            "12/12 [==============================] - 0s 5ms/step - loss: 0.3231 - val_loss: 0.3277\n",
            "Epoch 444/500\n",
            "12/12 [==============================] - 0s 5ms/step - loss: 0.3227 - val_loss: 0.3283\n",
            "Epoch 445/500\n",
            "12/12 [==============================] - 0s 4ms/step - loss: 0.3232 - val_loss: 0.3284\n",
            "Epoch 446/500\n",
            "12/12 [==============================] - 0s 4ms/step - loss: 0.3231 - val_loss: 0.3278\n",
            "Epoch 447/500\n",
            "12/12 [==============================] - 0s 5ms/step - loss: 0.3225 - val_loss: 0.3281\n",
            "Epoch 448/500\n",
            "12/12 [==============================] - 0s 5ms/step - loss: 0.3227 - val_loss: 0.3280\n",
            "Epoch 449/500\n",
            "12/12 [==============================] - 0s 6ms/step - loss: 0.3229 - val_loss: 0.3276\n",
            "Epoch 450/500\n",
            "12/12 [==============================] - 0s 5ms/step - loss: 0.3228 - val_loss: 0.3284\n",
            "Epoch 451/500\n",
            "12/12 [==============================] - 0s 5ms/step - loss: 0.3238 - val_loss: 0.3288\n",
            "Epoch 452/500\n",
            "12/12 [==============================] - 0s 4ms/step - loss: 0.3252 - val_loss: 0.3282\n",
            "Epoch 453/500\n",
            "12/12 [==============================] - 0s 4ms/step - loss: 0.3230 - val_loss: 0.3281\n",
            "Epoch 454/500\n",
            "12/12 [==============================] - 0s 4ms/step - loss: 0.3225 - val_loss: 0.3286\n",
            "Epoch 455/500\n",
            "12/12 [==============================] - 0s 5ms/step - loss: 0.3225 - val_loss: 0.3284\n",
            "Epoch 456/500\n",
            "12/12 [==============================] - 0s 4ms/step - loss: 0.3225 - val_loss: 0.3280\n",
            "Epoch 457/500\n",
            "12/12 [==============================] - 0s 5ms/step - loss: 0.3230 - val_loss: 0.3276\n",
            "Epoch 458/500\n",
            "12/12 [==============================] - 0s 4ms/step - loss: 0.3225 - val_loss: 0.3280\n",
            "Epoch 459/500\n",
            "12/12 [==============================] - 0s 5ms/step - loss: 0.3224 - val_loss: 0.3280\n",
            "Epoch 460/500\n",
            "12/12 [==============================] - 0s 4ms/step - loss: 0.3226 - val_loss: 0.3283\n",
            "Epoch 461/500\n",
            "12/12 [==============================] - 0s 5ms/step - loss: 0.3228 - val_loss: 0.3274\n",
            "Epoch 462/500\n",
            "12/12 [==============================] - 0s 5ms/step - loss: 0.3222 - val_loss: 0.3276\n",
            "Epoch 463/500\n",
            "12/12 [==============================] - 0s 7ms/step - loss: 0.3220 - val_loss: 0.3279\n",
            "Epoch 464/500\n",
            "12/12 [==============================] - 0s 5ms/step - loss: 0.3225 - val_loss: 0.3286\n",
            "Epoch 465/500\n",
            "12/12 [==============================] - 0s 4ms/step - loss: 0.3226 - val_loss: 0.3277\n",
            "Epoch 466/500\n",
            "12/12 [==============================] - 0s 5ms/step - loss: 0.3218 - val_loss: 0.3278\n",
            "Epoch 467/500\n",
            "12/12 [==============================] - 0s 5ms/step - loss: 0.3224 - val_loss: 0.3278\n",
            "Epoch 468/500\n",
            "12/12 [==============================] - 0s 5ms/step - loss: 0.3222 - val_loss: 0.3281\n",
            "Epoch 469/500\n",
            "12/12 [==============================] - 0s 5ms/step - loss: 0.3221 - val_loss: 0.3273\n",
            "Epoch 470/500\n",
            "12/12 [==============================] - 0s 5ms/step - loss: 0.3225 - val_loss: 0.3280\n",
            "Epoch 471/500\n",
            "12/12 [==============================] - 0s 5ms/step - loss: 0.3221 - val_loss: 0.3274\n",
            "Epoch 472/500\n",
            "12/12 [==============================] - 0s 5ms/step - loss: 0.3227 - val_loss: 0.3273\n",
            "Epoch 473/500\n",
            "12/12 [==============================] - 0s 4ms/step - loss: 0.3224 - val_loss: 0.3287\n",
            "Epoch 474/500\n",
            "12/12 [==============================] - 0s 4ms/step - loss: 0.3224 - val_loss: 0.3271\n",
            "Epoch 475/500\n",
            "12/12 [==============================] - 0s 5ms/step - loss: 0.3221 - val_loss: 0.3288\n",
            "Epoch 476/500\n",
            "12/12 [==============================] - 0s 5ms/step - loss: 0.3219 - val_loss: 0.3275\n",
            "Epoch 477/500\n",
            "12/12 [==============================] - 0s 4ms/step - loss: 0.3216 - val_loss: 0.3273\n",
            "Epoch 478/500\n",
            "12/12 [==============================] - 0s 4ms/step - loss: 0.3214 - val_loss: 0.3270\n",
            "Epoch 479/500\n",
            "12/12 [==============================] - 0s 6ms/step - loss: 0.3221 - val_loss: 0.3277\n",
            "Epoch 480/500\n",
            "12/12 [==============================] - 0s 4ms/step - loss: 0.3243 - val_loss: 0.3279\n",
            "Epoch 481/500\n",
            "12/12 [==============================] - 0s 5ms/step - loss: 0.3228 - val_loss: 0.3275\n",
            "Epoch 482/500\n",
            "12/12 [==============================] - 0s 4ms/step - loss: 0.3218 - val_loss: 0.3273\n",
            "Epoch 483/500\n",
            "12/12 [==============================] - 0s 4ms/step - loss: 0.3218 - val_loss: 0.3277\n",
            "Epoch 484/500\n",
            "12/12 [==============================] - 0s 4ms/step - loss: 0.3218 - val_loss: 0.3275\n",
            "Epoch 485/500\n",
            "12/12 [==============================] - 0s 5ms/step - loss: 0.3219 - val_loss: 0.3272\n",
            "Epoch 486/500\n",
            "12/12 [==============================] - 0s 5ms/step - loss: 0.3215 - val_loss: 0.3280\n",
            "Epoch 487/500\n",
            "12/12 [==============================] - 0s 4ms/step - loss: 0.3212 - val_loss: 0.3276\n",
            "Epoch 488/500\n",
            "12/12 [==============================] - 0s 4ms/step - loss: 0.3211 - val_loss: 0.3272\n",
            "Epoch 489/500\n",
            "12/12 [==============================] - 0s 5ms/step - loss: 0.3212 - val_loss: 0.3273\n",
            "Epoch 490/500\n",
            "12/12 [==============================] - 0s 6ms/step - loss: 0.3220 - val_loss: 0.3266\n",
            "Epoch 491/500\n",
            "12/12 [==============================] - 0s 6ms/step - loss: 0.3213 - val_loss: 0.3268\n",
            "Epoch 492/500\n",
            "12/12 [==============================] - 0s 4ms/step - loss: 0.3210 - val_loss: 0.3272\n",
            "Epoch 493/500\n",
            "12/12 [==============================] - 0s 5ms/step - loss: 0.3210 - val_loss: 0.3275\n",
            "Epoch 494/500\n",
            "12/12 [==============================] - 0s 4ms/step - loss: 0.3209 - val_loss: 0.3272\n",
            "Epoch 495/500\n",
            "12/12 [==============================] - 0s 5ms/step - loss: 0.3213 - val_loss: 0.3270\n",
            "Epoch 496/500\n",
            "12/12 [==============================] - 0s 5ms/step - loss: 0.3212 - val_loss: 0.3274\n",
            "Epoch 497/500\n",
            "12/12 [==============================] - 0s 4ms/step - loss: 0.3211 - val_loss: 0.3277\n",
            "Epoch 498/500\n",
            "12/12 [==============================] - 0s 4ms/step - loss: 0.3205 - val_loss: 0.3271\n",
            "Epoch 499/500\n",
            "12/12 [==============================] - 0s 4ms/step - loss: 0.3211 - val_loss: 0.3290\n",
            "Epoch 500/500\n",
            "12/12 [==============================] - 0s 5ms/step - loss: 0.3236 - val_loss: 0.3262\n"
          ]
        }
      ]
    },
    {
      "cell_type": "code",
      "source": [
        "plt.figure(figsize=(8, 8))\n",
        "plt.plot(result.history['loss'])\n",
        "plt.plot(result.history['val_loss'])\n",
        "plt.title('model loss')\n",
        "plt.ylabel('loss')\n",
        "plt.xlabel('epoch')\n",
        "plt.legend(['train', 'validation'], loc='upper left')\n",
        "plt.show()"
      ],
      "metadata": {
        "colab": {
          "base_uri": "https://localhost:8080/",
          "height": 513
        },
        "id": "iQbcd652N6J4",
        "outputId": "5f6d6daf-8eea-4418-f633-fa487f0474a8"
      },
      "execution_count": null,
      "outputs": [
        {
          "output_type": "display_data",
          "data": {
            "text/plain": [
              "<Figure size 576x576 with 1 Axes>"
            ],
            "image/png": "[encoded data removed]"
          },
          "metadata": {
            "needs_background": "light"
          }
        }
      ]
    },
    {
      "cell_type": "code",
      "source": [
        "y_pred=model.predict(x_test)"
      ],
      "metadata": {
        "id": "DiTcxmDjOPcJ",
        "colab": {
          "base_uri": "https://localhost:8080/"
        },
        "outputId": "94d5cac2-8e3f-4d35-b47a-5ee69c819924"
      },
      "execution_count": null,
      "outputs": [
        {
          "output_type": "stream",
          "name": "stderr",
          "text": [
            "WARNING:tensorflow:5 out of the last 5 calls to <function Model.make_predict_function.<locals>.predict_function at 0x7fd5267403a0> triggered tf.function retracing. Tracing is expensive and the excessive number of tracings could be due to (1) creating @tf.function repeatedly in a loop, (2) passing tensors with different shapes, (3) passing Python objects instead of tensors. For (1), please define your @tf.function outside of the loop. For (2), @tf.function has reduce_retracing=True option that can avoid unnecessary retracing. For (3), please refer to https://www.tensorflow.org/guide/function#controlling_retracing and https://www.tensorflow.org/api_docs/python/tf/function for  more details.\n"
          ]
        },
        {
          "output_type": "stream",
          "name": "stdout",
          "text": [
            "1/1 [==============================] - 0s 66ms/step\n"
          ]
        }
      ]
    },
    {
      "cell_type": "code",
      "source": [
        "print(y_pred)"
      ],
      "metadata": {
        "colab": {
          "base_uri": "https://localhost:8080/"
        },
        "id": "v6nona-TORkf",
        "outputId": "c0908f99-6279-4114-d4bd-09ad38f4ace2"
      },
      "execution_count": null,
      "outputs": [
        {
          "output_type": "stream",
          "name": "stdout",
          "text": [
            "[[2.15566062e-04 5.32900870e-01 4.66883600e-01]\n",
            " [9.74528670e-01 1.80183299e-04 2.52910815e-02]\n",
            " [9.78926599e-01 1.20293174e-04 2.09531207e-02]\n",
            " [9.24486637e-01 1.84474781e-03 7.36685544e-02]\n",
            " [1.33715116e-03 4.33732629e-01 5.64930141e-01]\n",
            " [9.67445433e-01 3.04170186e-04 3.22503150e-02]\n",
            " [9.76414025e-01 1.52934983e-04 2.34330967e-02]\n",
            " [9.76284564e-01 1.54729307e-04 2.35607177e-02]]\n"
          ]
        }
      ]
    },
    {
      "cell_type": "code",
      "source": [
        "from sklearn.metrics import confusion_matrix,classification_report"
      ],
      "metadata": {
        "id": "tTqHsDKqJrT2"
      },
      "execution_count": null,
      "outputs": []
    },
    {
      "cell_type": "code",
      "source": [
        "for i in range(len(y_pred)):\n",
        "  for j in range(3):\n",
        "    mx = max(y_pred[i])\n",
        "    if y_pred[i][j]==mx:\n",
        "      y_pred[i][j]=1\n",
        "    else:\n",
        "      y_pred[i][j]=0\n",
        "y_pred"
      ],
      "metadata": {
        "colab": {
          "base_uri": "https://localhost:8080/"
        },
        "id": "2E1EgaAzJvqT",
        "outputId": "c8438dbe-3b05-4878-dbb6-1b17ab8f13d1"
      },
      "execution_count": null,
      "outputs": [
        {
          "output_type": "execute_result",
          "data": {
            "text/plain": [
              "array([[0., 1., 0.],\n",
              "       [1., 0., 0.],\n",
              "       [1., 0., 0.],\n",
              "       [1., 0., 0.],\n",
              "       [0., 0., 1.],\n",
              "       [1., 0., 0.],\n",
              "       [1., 0., 0.],\n",
              "       [1., 0., 0.]], dtype=float32)"
            ]
          },
          "metadata": {},
          "execution_count": 158
        }
      ]
    },
    {
      "cell_type": "code",
      "source": [
        "classification_report(y_test, y_pred)"
      ],
      "metadata": {
        "colab": {
          "base_uri": "https://localhost:8080/",
          "height": 142
        },
        "id": "UFdOkeZQJ1TM",
        "outputId": "d87c4361-b059-4d76-c038-6b4efc1c681d"
      },
      "execution_count": null,
      "outputs": [
        {
          "output_type": "stream",
          "name": "stderr",
          "text": [
            "/usr/local/lib/python3.8/dist-packages/sklearn/metrics/_classification.py:1318: UndefinedMetricWarning: Recall and F-score are ill-defined and being set to 0.0 in labels with no true samples. Use `zero_division` parameter to control this behavior.\n",
            "  _warn_prf(average, modifier, msg_start, len(result))\n"
          ]
        },
        {
          "output_type": "execute_result",
          "data": {
            "text/plain": [
              "'              precision    recall  f1-score   support\\n\\n           0       1.00      1.00      1.00         6\\n           1       0.00      0.00      0.00         0\\n           2       1.00      0.50      0.67         2\\n\\n   micro avg       0.88      0.88      0.88         8\\n   macro avg       0.67      0.50      0.56         8\\nweighted avg       1.00      0.88      0.92         8\\n samples avg       0.88      0.88      0.88         8\\n'"
            ],
            "application/vnd.google.colaboratory.intrinsic+json": {
              "type": "string"
            }
          },
          "metadata": {},
          "execution_count": 159
        }
      ]
    },
    {
      "cell_type": "code",
      "source": [
        "from sklearn import metrics\n",
        "print(\"Accuracy:\",metrics.accuracy_score(y_test, y_pred))"
      ],
      "metadata": {
        "colab": {
          "base_uri": "https://localhost:8080/"
        },
        "id": "mpYBJ1gNJ7Wi",
        "outputId": "3f57f129-1c9b-424b-e94b-fd2140db77f1"
      },
      "execution_count": null,
      "outputs": [
        {
          "output_type": "stream",
          "name": "stdout",
          "text": [
            "Accuracy: 0.875\n"
          ]
        }
      ]
    },
    {
      "cell_type": "markdown",
      "source": [
        "Decision Tree"
      ],
      "metadata": {
        "id": "WWIuLW9iKAQq"
      }
    },
    {
      "cell_type": "code",
      "source": [
        "from sklearn.preprocessing import StandardScaler    \n",
        "st_x= StandardScaler()    \n",
        "x_train= st_x.fit_transform(x_train)    \n",
        "x_test= st_x.transform(x_test) "
      ],
      "metadata": {
        "id": "jixLhjC3KCKH"
      },
      "execution_count": null,
      "outputs": []
    },
    {
      "cell_type": "code",
      "source": [
        "from sklearn.tree import DecisionTreeClassifier\n",
        "from sklearn.model_selection import cross_val_score\n",
        "dt_model=DecisionTreeClassifier(criterion='gini', min_samples_split=2, min_samples_leaf=1, max_features=\"sqrt\")\n",
        "mse_dt=cross_val_score(dt_model,x_train,y_train,scoring=\"neg_mean_squared_error\",cv=20)\n",
        "mean_mse_dt=np.mean(mse_dt)\n",
        "print(mse_dt,mean_mse_dt)\n",
        "dt_model.fit(x_train,y_train)"
      ],
      "metadata": {
        "colab": {
          "base_uri": "https://localhost:8080/"
        },
        "id": "yR_UCN_jKGdz",
        "outputId": "f27f8b49-7066-4558-a79f-d5caae2def97"
      },
      "execution_count": null,
      "outputs": [
        {
          "output_type": "stream",
          "name": "stdout",
          "text": [
            "[-0.16666667 -0.33333333 -0.16666667 -0.         -0.         -0.\n",
            " -0.         -0.         -0.         -0.22222222 -0.44444444 -0.\n",
            " -0.         -0.22222222 -0.         -0.         -0.         -0.22222222\n",
            " -0.22222222 -0.        ] -0.1\n"
          ]
        },
        {
          "output_type": "execute_result",
          "data": {
            "text/plain": [
              "DecisionTreeClassifier(max_features='sqrt')"
            ]
          },
          "metadata": {},
          "execution_count": 162
        }
      ]
    },
    {
      "cell_type": "code",
      "source": [
        "y_pred_dt=dt_model.predict(x_test)\n",
        "print(y_pred_dt)\n",
        "print(y_test)"
      ],
      "metadata": {
        "colab": {
          "base_uri": "https://localhost:8080/"
        },
        "id": "ssO0M2I_KKHT",
        "outputId": "dc3cd137-e476-465c-b47f-f1b477f9c3cf"
      },
      "execution_count": null,
      "outputs": [
        {
          "output_type": "stream",
          "name": "stdout",
          "text": [
            "[[0 0 1]\n",
            " [1 0 0]\n",
            " [1 0 0]\n",
            " [1 0 0]\n",
            " [0 0 1]\n",
            " [1 0 0]\n",
            " [1 0 0]\n",
            " [0 0 1]]\n",
            "    no oil  gas  oil\n",
            "40       0    0    1\n",
            "10       1    0    0\n",
            "2        1    0    0\n",
            "69       1    0    0\n",
            "43       0    0    1\n",
            "67       1    0    0\n",
            "63       1    0    0\n",
            "57       1    0    0\n"
          ]
        }
      ]
    },
    {
      "cell_type": "code",
      "source": [
        "dt_score=dt_model.score(x_test,y_test)\n",
        "print(dt_score)"
      ],
      "metadata": {
        "colab": {
          "base_uri": "https://localhost:8080/"
        },
        "id": "eCBVWYSfKNHL",
        "outputId": "cc9ab3eb-5bf6-4609-cc00-188e73583361"
      },
      "execution_count": null,
      "outputs": [
        {
          "output_type": "stream",
          "name": "stdout",
          "text": [
            "0.875\n"
          ]
        }
      ]
    },
    {
      "cell_type": "markdown",
      "source": [
        "KNN"
      ],
      "metadata": {
        "id": "X9mcTNIIKOfk"
      }
    },
    {
      "cell_type": "code",
      "source": [
        "from sklearn.neighbors import KNeighborsClassifier  \n",
        "classifier= KNeighborsClassifier(n_neighbors=5, metric='minkowski', p=2 )  \n",
        "classifier.fit(x_train, y_train)"
      ],
      "metadata": {
        "colab": {
          "base_uri": "https://localhost:8080/"
        },
        "id": "Og4a0VEvKSH7",
        "outputId": "97b9c7df-2893-470d-a6e2-b07f60d8c2d0"
      },
      "execution_count": null,
      "outputs": [
        {
          "output_type": "execute_result",
          "data": {
            "text/plain": [
              "KNeighborsClassifier()"
            ]
          },
          "metadata": {},
          "execution_count": 165
        }
      ]
    },
    {
      "cell_type": "code",
      "source": [
        "y_pred= classifier.predict(x_test) \n",
        "print(y_test)\n",
        "print(y_pred)"
      ],
      "metadata": {
        "colab": {
          "base_uri": "https://localhost:8080/"
        },
        "id": "Md7aWD5yKYbk",
        "outputId": "98e60b0d-9716-4682-e16f-8445e8dcb7e2"
      },
      "execution_count": null,
      "outputs": [
        {
          "output_type": "stream",
          "name": "stdout",
          "text": [
            "    no oil  gas  oil\n",
            "40       0    0    1\n",
            "10       1    0    0\n",
            "2        1    0    0\n",
            "69       1    0    0\n",
            "43       0    0    1\n",
            "67       1    0    0\n",
            "63       1    0    0\n",
            "57       1    0    0\n",
            "[[0 0 1]\n",
            " [1 0 0]\n",
            " [1 0 0]\n",
            " [1 0 0]\n",
            " [0 0 1]\n",
            " [1 0 0]\n",
            " [1 0 0]\n",
            " [1 0 0]]\n"
          ]
        }
      ]
    },
    {
      "cell_type": "code",
      "source": [
        "from sklearn import metrics\n",
        "print(\"Accuracy:\",metrics.accuracy_score(y_test, y_pred))"
      ],
      "metadata": {
        "colab": {
          "base_uri": "https://localhost:8080/"
        },
        "id": "AOSedpe9KcyG",
        "outputId": "7c5d6afb-812d-4da3-9b8f-914a5e1b29dd"
      },
      "execution_count": null,
      "outputs": [
        {
          "output_type": "stream",
          "name": "stdout",
          "text": [
            "Accuracy: 1.0\n"
          ]
        }
      ]
    },
    {
      "cell_type": "markdown",
      "source": [
        "Naive Bayes"
      ],
      "metadata": {
        "id": "fzVOdEk_MWv7"
      }
    },
    {
      "cell_type": "code",
      "source": [
        "y = y.to_numpy()"
      ],
      "metadata": {
        "id": "1eV64WRwMY7r"
      },
      "execution_count": null,
      "outputs": []
    },
    {
      "cell_type": "code",
      "source": [
        "z = []\n",
        "for i in range(len(y)):\n",
        "  if y[i][0]==1:\n",
        "    z.append(1)\n",
        "  elif y[i][1]==1:\n",
        "    z.append(2)\n",
        "  else:\n",
        "    z.append(3)"
      ],
      "metadata": {
        "id": "_xRg4ZjoMbUt"
      },
      "execution_count": null,
      "outputs": []
    },
    {
      "cell_type": "code",
      "source": [
        "y = pd.DataFrame(z)\n",
        "x_gnb = x\n",
        "y_gnb = y\n",
        "x_gnb_train, x_gnb_test, y_gnb_train, y_gnb_test = train_test_split(x_gnb,y_gnb, test_size = 0.2, random_state =42 )"
      ],
      "metadata": {
        "id": "DNkbt5eUMjmY"
      },
      "execution_count": null,
      "outputs": []
    },
    {
      "cell_type": "code",
      "source": [
        "from sklearn.naive_bayes import GaussianNB\n",
        "gnb = GaussianNB()\n",
        "gnb.fit(x_gnb_train,y_gnb_train)\n"
      ],
      "metadata": {
        "colab": {
          "base_uri": "https://localhost:8080/"
        },
        "id": "6QkhB-X3Mvgw",
        "outputId": "4ddf391a-2ae9-4e3b-e941-f17061f682b7"
      },
      "execution_count": null,
      "outputs": [
        {
          "output_type": "stream",
          "name": "stderr",
          "text": [
            "/usr/local/lib/python3.8/dist-packages/sklearn/utils/validation.py:993: DataConversionWarning: A column-vector y was passed when a 1d array was expected. Please change the shape of y to (n_samples, ), for example using ravel().\n",
            "  y = column_or_1d(y, warn=True)\n"
          ]
        },
        {
          "output_type": "execute_result",
          "data": {
            "text/plain": [
              "GaussianNB()"
            ]
          },
          "metadata": {},
          "execution_count": 171
        }
      ]
    },
    {
      "cell_type": "code",
      "source": [
        "y_gnb_pred = gnb.predict(x_gnb_test)"
      ],
      "metadata": {
        "id": "h9YsI7pHMzZx"
      },
      "execution_count": null,
      "outputs": []
    },
    {
      "cell_type": "code",
      "source": [
        "from sklearn import metrics\n",
        "print(\"Accuracy:\",metrics.accuracy_score(y_gnb_test, y_gnb_pred))"
      ],
      "metadata": {
        "colab": {
          "base_uri": "https://localhost:8080/"
        },
        "id": "8Y8RlxIvM2Me",
        "outputId": "aad60b5e-dfaf-4bc8-eeb3-06348be79770"
      },
      "execution_count": null,
      "outputs": [
        {
          "output_type": "stream",
          "name": "stdout",
          "text": [
            "Accuracy: 0.8\n"
          ]
        }
      ]
    }
  ]
}